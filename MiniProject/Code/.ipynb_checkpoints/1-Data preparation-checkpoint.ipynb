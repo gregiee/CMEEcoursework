{
 "cells": [
  {
   "cell_type": "code",
   "execution_count": 1,
   "metadata": {},
   "outputs": [],
   "source": [
    "#!/usr/bin/env python3\n",
    "\"\"\"mini project\"\"\"\n",
    "\n",
    "__author__ = 'Yuchen YANG (YY5819@ic.ac.uk)'\n",
    "__version__ = '0.0.1'"
   ]
  },
  {
   "cell_type": "code",
   "execution_count": 2,
   "metadata": {},
   "outputs": [],
   "source": [
    "# Creates unique ids so that you can identify unique datasets\n",
    "# Filters out datasets with less than x data points, where x is the minimum number of data points needed to fit the models. \n",
    "# Note that this step is not necessary because in any case, the model fitting (or estimation of goodness of fit statistics) will fail for datasets with small sample sizes anyway, and you can then filter these datasets after the NLLS fitting script (see below) has finished running and you are in the analysis phase.\n",
    "# Deals with missing, and other problematic data values.\n",
    "# Saves the modified data to one or more csv file(s)"
   ]
  },
  {
   "cell_type": "code",
   "execution_count": 3,
   "metadata": {},
   "outputs": [],
   "source": [
    "# import packages\n",
    "# import re\n",
    "import pandas as pd \n",
    "# import seaborn as sns\n",
    "import math\n",
    "import numpy as np\n",
    "import matplotlib.pyplot as plt\n",
    "# from lmfit import Model\n",
    "# from operator import itemgetter\n",
    "# import matplotlib.backends.backend_pdf\n",
    "# import ipdb"
   ]
  },
  {
   "cell_type": "code",
   "execution_count": 4,
   "metadata": {},
   "outputs": [],
   "source": [
    "# load raw data\n",
    "RawData = pd.read_csv(\"../Data/LogisticGrowthData.csv\")\n",
    "\n",
    "# assign unique id based on different filters\n",
    "workingdf = RawData.assign(ID=(RawData.Species + '_' + RawData.Temp.map(str) + \"_\" + RawData.Medium + \"_\" + \n",
    "                               RawData.Citation +\"_\" + RawData.Rep.map(str)).astype('category').cat.codes)\n",
    "\n",
    "# apply filters to deal with negative value, missing value, etc.\n",
    "# NAs\n",
    "if workingdf.Time.isnull().sum() != 0:\n",
    "    workingdf = workingdf.dropna()\n",
    "    \n",
    "if workingdf.PopBio.isnull().sum() != 0:\n",
    "    workingdf = workingdf.dropna()\n",
    "    \n",
    "# negatives\n",
    "timeNegArray = workingdf.loc[workingdf['Time']<0].sort_values(by=['Time'])[\"ID\"].unique()\n",
    "popNegArray = workingdf.loc[workingdf['Time']<0].sort_values(by=['PopBio'])[\"ID\"].unique()\n",
    "# shifting neg time\n",
    "if timeNegArray.any():\n",
    "    for i in range(len(timeNegArray)):\n",
    "        target = timeNegArray[i]\n",
    "        tMin = min(workingdf.loc[workingdf.ID == target, \"Time\"])\n",
    "        workingdf.loc[workingdf.ID == target, \"Time\"] = workingdf.loc[workingdf.ID == target, \"Time\"] + abs(tMin)\n",
    "# shifting neg pop\n",
    "if popNegArray.any():\n",
    "    for i in range(len(popNegArray)):\n",
    "        target = popNegArray[i]\n",
    "        pMin = min(workingdf.loc[workingdf.ID == target, \"PopBio\"])\n",
    "        workingdf.loc[workingdf.ID == target, \"PopBio\"] = workingdf.loc[workingdf.ID == target, \"PopBio\"] + abs(pMin)\n",
    "        \n",
    "# getting rid of 0 in Pop and adding logged data to dataframe\n",
    "workingdf = workingdf[workingdf.PopBio > 0]\n",
    "workingdf.loc[workingdf.PopBio > 0, \"logPopBio\"] = np.log(workingdf.loc[workingdf.PopBio > 0, \"PopBio\"])\n",
    "\n",
    "# save df to csv\n",
    "workingdf.to_csv('../Data/workingdf.csv', index=False)"
   ]
  },
  {
   "cell_type": "code",
   "execution_count": 5,
   "metadata": {},
   "outputs": [
    {
     "data": {
      "text/plain": [
       "305"
      ]
     },
     "execution_count": 5,
     "metadata": {},
     "output_type": "execute_result"
    }
   ],
   "source": [
    "len(workingdf.ID.unique())"
   ]
  },
  {
   "cell_type": "code",
   "execution_count": 7,
   "metadata": {},
   "outputs": [
    {
     "ename": "NameError",
     "evalue": "name 'plt' is not defined",
     "output_type": "error",
     "traceback": [
      "\u001b[0;31m---------------------------------------------------------------------------\u001b[0m",
      "\u001b[0;31mNameError\u001b[0m                                 Traceback (most recent call last)",
      "\u001b[0;32m<ipython-input-7-4005fc04d055>\u001b[0m in \u001b[0;36m<module>\u001b[0;34m\u001b[0m\n\u001b[1;32m      1\u001b[0m \u001b[0ma\u001b[0m \u001b[0;34m=\u001b[0m \u001b[0mworkingdf\u001b[0m\u001b[0;34m.\u001b[0m\u001b[0mloc\u001b[0m\u001b[0;34m[\u001b[0m\u001b[0mworkingdf\u001b[0m\u001b[0;34m[\u001b[0m\u001b[0;34m'ID'\u001b[0m\u001b[0;34m]\u001b[0m\u001b[0;34m==\u001b[0m\u001b[0;36m106\u001b[0m\u001b[0;34m]\u001b[0m\u001b[0;34m.\u001b[0m\u001b[0msort_values\u001b[0m\u001b[0;34m(\u001b[0m\u001b[0mby\u001b[0m\u001b[0;34m=\u001b[0m\u001b[0;34m[\u001b[0m\u001b[0;34m'Time'\u001b[0m\u001b[0;34m]\u001b[0m\u001b[0;34m,\u001b[0m \u001b[0mascending\u001b[0m\u001b[0;34m=\u001b[0m\u001b[0;32mTrue\u001b[0m\u001b[0;34m)\u001b[0m\u001b[0;34m\u001b[0m\u001b[0;34m\u001b[0m\u001b[0m\n\u001b[1;32m      2\u001b[0m \u001b[0ma\u001b[0m\u001b[0;34m.\u001b[0m\u001b[0mplot\u001b[0m\u001b[0;34m(\u001b[0m\u001b[0mkind\u001b[0m\u001b[0;34m=\u001b[0m\u001b[0;34m'scatter'\u001b[0m\u001b[0;34m,\u001b[0m \u001b[0mx\u001b[0m\u001b[0;34m=\u001b[0m\u001b[0;34m'Time'\u001b[0m\u001b[0;34m,\u001b[0m\u001b[0my\u001b[0m\u001b[0;34m=\u001b[0m\u001b[0;34m'PopBio'\u001b[0m\u001b[0;34m)\u001b[0m\u001b[0;34m\u001b[0m\u001b[0;34m\u001b[0m\u001b[0m\n\u001b[0;32m----> 3\u001b[0;31m \u001b[0mplt\u001b[0m\u001b[0;34m.\u001b[0m\u001b[0mshow\u001b[0m\u001b[0;34m(\u001b[0m\u001b[0;34m)\u001b[0m\u001b[0;34m\u001b[0m\u001b[0;34m\u001b[0m\u001b[0m\n\u001b[0m",
      "\u001b[0;31mNameError\u001b[0m: name 'plt' is not defined"
     ]
    },
    {
     "data": {
      "image/png": "[encoded data removed]",
      "text/plain": [
       "<Figure size 432x288 with 1 Axes>"
      ]
     },
     "metadata": {
      "needs_background": "light"
     },
     "output_type": "display_data"
    }
   ],
   "source": [
    "a = workingdf.loc[workingdf['ID']==106].sort_values(by=['Time'], ascending=True)\n",
    "a.plot(kind='scatter', x='Time',y='PopBio')\n",
    "plt.show()"
   ]
  },
  {
   "cell_type": "code",
   "execution_count": null,
   "metadata": {},
   "outputs": [],
   "source": [
    "a = workingdf.loc[workingdf['ID']==90].sort_values(by=['Time'], ascending=True)\n",
    "a.plot(kind='scatter', x='Time',y='PopBio')\n",
    "plt.show()"
   ]
  },
  {
   "cell_type": "code",
   "execution_count": null,
   "metadata": {},
   "outputs": [],
   "source": [
    "a = workingdf.loc[workingdf['ID']==110].sort_values(by=['Time'], ascending=True)\n",
    "a.plot(kind='scatter', x='Time',y='logPopBio')\n",
    "plt.show()"
   ]
  },
  {
   "cell_type": "code",
   "execution_count": null,
   "metadata": {},
   "outputs": [],
   "source": [
    "a = workingdf.loc[workingdf['ID']==129].sort_values(by=['Time'], ascending=True)\n",
    "a.plot(kind='scatter', x='Time',y='PopBio')\n",
    "plt.show()"
   ]
  },
  {
   "cell_type": "code",
   "execution_count": null,
   "metadata": {},
   "outputs": [],
   "source": [
    "a = workingdf.loc[workingdf['ID']==100].sort_values(by=['Time'], ascending=True)\n",
    "a.plot(kind='scatter', x='Time',y='logPopBio')\n",
    "plt.show()"
   ]
  },
  {
   "cell_type": "code",
   "execution_count": null,
   "metadata": {},
   "outputs": [],
   "source": [
    "a = workingdf.loc[workingdf['ID']==100].sort_values(by=['Time'], ascending=True)\n",
    "a.plot(kind='scatter', x='Time',y='PopBio')\n",
    "plt.show()"
   ]
  },
  {
   "cell_type": "code",
   "execution_count": null,
   "metadata": {},
   "outputs": [],
   "source": []
  }
 ],
 "metadata": {
  "kernelspec": {
   "display_name": "Python3.7 (test1)",
   "language": "python",
   "name": "python3_test1"
  },
  "language_info": {
   "codemirror_mode": {
    "name": "ipython",
    "version": 3
   },
   "file_extension": ".py",
   "mimetype": "text/x-python",
   "name": "python",
   "nbconvert_exporter": "python",
   "pygments_lexer": "ipython3",
   "version": "3.7.6"
  }
 },
 "nbformat": 4,
 "nbformat_minor": 2
}
