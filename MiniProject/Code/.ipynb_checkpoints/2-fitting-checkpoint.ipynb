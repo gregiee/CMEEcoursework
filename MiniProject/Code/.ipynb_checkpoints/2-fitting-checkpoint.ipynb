{
 "cells": [
  {
   "cell_type": "code",
   "execution_count": 1,
   "metadata": {},
   "outputs": [],
   "source": [
    "#!/usr/bin/env python3\n",
    "\"\"\"mini project\"\"\"\n",
    "\n",
    "__author__ = 'Yuchen YANG (YY5819@ic.ac.uk)'\n",
    "__version__ = '0.0.1'"
   ]
  },
  {
   "cell_type": "code",
   "execution_count": 2,
   "metadata": {},
   "outputs": [],
   "source": [
    "# Opens the (new, modified) dataset from previous step.\n",
    "\n",
    "# Calculates starting values).\n",
    "\n",
    "# !!Obtaining starting values\n",
    "# A good strategy to optimize fits is to not sample starting values from a distribution. \n",
    "# For example, you can choose a gaussian (high confidence in mean of parameter) \n",
    "# or a uniform distribution (low confidence in mean, high confidence in the range of values that the parameter can take) \n",
    "# with the mean being the value you inferred from the data.\n",
    "\n",
    "# Does the NLLS fitting.\n",
    "\n",
    "# Uses the try construct because not all runs will converge: for Python, see this; for R, recall this. The more data curves you are able to fit, the better — that is part of the challenge\n",
    "\n",
    "# Calculates AIC, BIC, R2, and other statistical measures of model fit (you decide what you want to include)\n",
    "\n",
    "# Exports the results to a csv that the final plotting script can read."
   ]
  },
  {
   "cell_type": "code",
   "execution_count": 3,
   "metadata": {},
   "outputs": [],
   "source": [
    "# import packages\n",
    "# import re\n",
    "import pandas as pd \n",
    "# import seaborn as sns\n",
    "import math\n",
    "import numpy as np\n",
    "# import matplotlib.pyplot as plt\n",
    "from lmfit import Model, Parameters\n",
    "import random\n",
    "# from operator import itemgetter\n",
    "# import matplotlib.backends.backend_pdf\n",
    "# import ipdb"
   ]
  },
  {
   "cell_type": "code",
   "execution_count": 4,
   "metadata": {},
   "outputs": [],
   "source": [
    "# load processed data\n",
    "workingdf = pd.read_csv(\"../Data/workingdf.csv\")"
   ]
  },
  {
   "cell_type": "code",
   "execution_count": 5,
   "metadata": {},
   "outputs": [],
   "source": [
    "def getStartValue(df):\n",
    "    # pick the min from the most continous\n",
    "    startingPop = min(df.logPopBio)\n",
    "    # pick the max from the most continous\n",
    "    carryingCapacity = max(df.logPopBio)\n",
    "    growthRate = []\n",
    "    line = []\n",
    "    for i in range(len(df)-1) :\n",
    "        N1 = df.iloc[i, 1]\n",
    "        N2 = df.iloc[i+1, 1]\n",
    "        T1 = df.iloc[i, 0]\n",
    "        T2 = df.iloc[i+1, 0]\n",
    "        dN = N2-N1\n",
    "        dT = T2-T1\n",
    "        rate = dN/dT\n",
    "        growthRate.append(rate)\n",
    "        tlag = T1 - N1 / rate + startingPop\n",
    "        line.append([rate,N1,T1,tlag])\n",
    "    line.sort()\n",
    "    if math.isinf(max(growthRate)):\n",
    "        maxGrowthRate = line[-2][0]\n",
    "        lag = line[-2][2] + (startingPop - line[-2][1]) / maxGrowthRate\n",
    "    else:\n",
    "        maxGrowthRate = line[-1][0]\n",
    "        lag = line[-1][2] + (startingPop - line[-1][1]) / maxGrowthRate\n",
    "    #A = carryingCapacity - startingPop\n",
    "    return startingPop, carryingCapacity, maxGrowthRate, lag"
   ]
  },
  {
   "cell_type": "code",
   "execution_count": 6,
   "metadata": {},
   "outputs": [],
   "source": [
    "# models\n",
    "def logisticGrowth(t, N0, Nmax, rmax):\n",
    "    return (N0 * Nmax * np.exp(rmax * t)) / (Nmax + N0 * (np.exp(rmax*t) - 1))\n",
    "\n",
    "def logisticGrowthlag(t, N0, Nmax, rmax, tlag):\n",
    "    return N0 + (Nmax - N0) / (1 + np.exp(4 * rmax * (tlag - t) / (Nmax - N0) + 2))\n",
    "\n",
    "def gompertz(t, N0, Nmax, rmax, tlag):\n",
    "    return ((Nmax - N0) * np.exp ( - np.exp ( rmax * math.e * ( tlag - t ) / (Nmax - N0) + 1 ) ) ) + N0\n",
    "\n",
    "def baranyi(t, N0, Nmax, rmax, tlag):\n",
    "    return Nmax + np.log((-1 + np.exp(rmax * tlag) + np.exp(rmax * t)) / (np.exp(rmax * t) - 1 + np.exp(rmax * tlag) * np.exp(Nmax - N0)))\n",
    "\n",
    "def polynomial(t, C0, C1, C2, C3):\n",
    "    return (C0 + C1 * t + C2 * t ** 2 + C3 * t ** 3 )"
   ]
  },
  {
   "cell_type": "code",
   "execution_count": 7,
   "metadata": {},
   "outputs": [],
   "source": [
    "truecounter = 0\n",
    "lfalsecounter = 0\n",
    "gfalsecounter = 0\n",
    "bfalsecounter = 0\n",
    "pfalsecounter = 0\n",
    "lfalsecounter1 = 0\n",
    "gfalsecounter1 = 0\n",
    "bfalsecounter1 = 0\n",
    "pfalsecounter1 = 0\n",
    "graphdf = pd.DataFrame()\n",
    "analysisdf = workingdf[[\"ID\", \"Temp\", \"Medium\", \"Species\"]].drop_duplicates().sort_values(by=[\"ID\"])"
   ]
  },
  {
   "cell_type": "code",
   "execution_count": 39,
   "metadata": {},
   "outputs": [
    {
     "name": "stdout",
     "output_type": "stream",
     "text": [
      "278\n",
      "279\n",
      "========\n",
      "False\n",
      "0\n",
      "========\n"
     ]
    },
    {
     "name": "stderr",
     "output_type": "stream",
     "text": [
      "/rds/general/user/yy5819/home/anaconda3/envs/test1/lib/python3.7/site-packages/lmfit/model.py:969: UserWarning: The keyword argument ramx does not match any arguments of the model function. It will be ignored.\n",
      "  \"It will be ignored.\", UserWarning)\n"
     ]
    },
    {
     "ename": "KeyboardInterrupt",
     "evalue": "",
     "output_type": "error",
     "traceback": [
      "\u001b[0;31m---------------------------------------------------------------------------\u001b[0m",
      "\u001b[0;31mKeyboardInterrupt\u001b[0m                         Traceback (most recent call last)",
      "\u001b[0;32m<ipython-input-39-551b5e34d418>\u001b[0m in \u001b[0;36m<module>\u001b[0;34m\u001b[0m\n\u001b[1;32m    125\u001b[0m                 \u001b[0mprint\u001b[0m\u001b[0;34m(\u001b[0m\u001b[0;34m\"========\"\u001b[0m\u001b[0;34m)\u001b[0m\u001b[0;34m\u001b[0m\u001b[0;34m\u001b[0m\u001b[0m\n\u001b[1;32m    126\u001b[0m                 \u001b[0mattamptcount\u001b[0m \u001b[0;34m+=\u001b[0m \u001b[0;36m1\u001b[0m\u001b[0;34m\u001b[0m\u001b[0;34m\u001b[0m\u001b[0m\n\u001b[0;32m--> 127\u001b[0;31m                 \u001b[0mresult\u001b[0m \u001b[0;34m=\u001b[0m \u001b[0mbaranyimodel\u001b[0m\u001b[0;34m.\u001b[0m\u001b[0mfit\u001b[0m\u001b[0;34m(\u001b[0m\u001b[0my\u001b[0m\u001b[0;34m,\u001b[0m \u001b[0mparams\u001b[0m\u001b[0;34m,\u001b[0m \u001b[0mt\u001b[0m\u001b[0;34m=\u001b[0m\u001b[0mx\u001b[0m\u001b[0;34m,\u001b[0m \u001b[0mramx\u001b[0m \u001b[0;34m=\u001b[0m  \u001b[0mrandom\u001b[0m\u001b[0;34m.\u001b[0m\u001b[0mgauss\u001b[0m\u001b[0;34m(\u001b[0m\u001b[0mmaxGrowthRate\u001b[0m\u001b[0;34m,\u001b[0m\u001b[0;36m6\u001b[0m\u001b[0;34m)\u001b[0m\u001b[0;34m)\u001b[0m\u001b[0;34m\u001b[0m\u001b[0;34m\u001b[0m\u001b[0m\n\u001b[0m\u001b[1;32m    128\u001b[0m             \u001b[0;32mif\u001b[0m \u001b[0mresult\u001b[0m\u001b[0;34m.\u001b[0m\u001b[0msuccess\u001b[0m\u001b[0;34m:\u001b[0m\u001b[0;34m\u001b[0m\u001b[0;34m\u001b[0m\u001b[0m\n\u001b[1;32m    129\u001b[0m                 \u001b[0mprint\u001b[0m\u001b[0;34m(\u001b[0m\u001b[0;34m\"yaaaa\"\u001b[0m\u001b[0;34m)\u001b[0m\u001b[0;34m\u001b[0m\u001b[0;34m\u001b[0m\u001b[0m\n",
      "\u001b[0;32m~/anaconda3/envs/test1/lib/python3.7/site-packages/lmfit/model.py\u001b[0m in \u001b[0;36mfit\u001b[0;34m(self, data, params, weights, method, iter_cb, scale_covar, verbose, fit_kws, nan_policy, calc_covar, **kwargs)\u001b[0m\n\u001b[1;32m   1020\u001b[0m                              \u001b[0mnan_policy\u001b[0m\u001b[0;34m=\u001b[0m\u001b[0mself\u001b[0m\u001b[0;34m.\u001b[0m\u001b[0mnan_policy\u001b[0m\u001b[0;34m,\u001b[0m \u001b[0mcalc_covar\u001b[0m\u001b[0;34m=\u001b[0m\u001b[0mcalc_covar\u001b[0m\u001b[0;34m,\u001b[0m\u001b[0;34m\u001b[0m\u001b[0;34m\u001b[0m\u001b[0m\n\u001b[1;32m   1021\u001b[0m                              **fit_kws)\n\u001b[0;32m-> 1022\u001b[0;31m         \u001b[0moutput\u001b[0m\u001b[0;34m.\u001b[0m\u001b[0mfit\u001b[0m\u001b[0;34m(\u001b[0m\u001b[0mdata\u001b[0m\u001b[0;34m=\u001b[0m\u001b[0mdata\u001b[0m\u001b[0;34m,\u001b[0m \u001b[0mweights\u001b[0m\u001b[0;34m=\u001b[0m\u001b[0mweights\u001b[0m\u001b[0;34m)\u001b[0m\u001b[0;34m\u001b[0m\u001b[0;34m\u001b[0m\u001b[0m\n\u001b[0m\u001b[1;32m   1023\u001b[0m         \u001b[0moutput\u001b[0m\u001b[0;34m.\u001b[0m\u001b[0mcomponents\u001b[0m \u001b[0;34m=\u001b[0m \u001b[0mself\u001b[0m\u001b[0;34m.\u001b[0m\u001b[0mcomponents\u001b[0m\u001b[0;34m\u001b[0m\u001b[0;34m\u001b[0m\u001b[0m\n\u001b[1;32m   1024\u001b[0m         \u001b[0;32mreturn\u001b[0m \u001b[0moutput\u001b[0m\u001b[0;34m\u001b[0m\u001b[0;34m\u001b[0m\u001b[0m\n",
      "\u001b[0;32m~/anaconda3/envs/test1/lib/python3.7/site-packages/lmfit/model.py\u001b[0m in \u001b[0;36mfit\u001b[0;34m(self, data, params, weights, method, nan_policy, **kwargs)\u001b[0m\n\u001b[1;32m   1368\u001b[0m         \u001b[0mself\u001b[0m\u001b[0;34m.\u001b[0m\u001b[0muserkws\u001b[0m\u001b[0;34m.\u001b[0m\u001b[0mupdate\u001b[0m\u001b[0;34m(\u001b[0m\u001b[0mkwargs\u001b[0m\u001b[0;34m)\u001b[0m\u001b[0;34m\u001b[0m\u001b[0;34m\u001b[0m\u001b[0m\n\u001b[1;32m   1369\u001b[0m         \u001b[0mself\u001b[0m\u001b[0;34m.\u001b[0m\u001b[0minit_fit\u001b[0m \u001b[0;34m=\u001b[0m \u001b[0mself\u001b[0m\u001b[0;34m.\u001b[0m\u001b[0mmodel\u001b[0m\u001b[0;34m.\u001b[0m\u001b[0meval\u001b[0m\u001b[0;34m(\u001b[0m\u001b[0mparams\u001b[0m\u001b[0;34m=\u001b[0m\u001b[0mself\u001b[0m\u001b[0;34m.\u001b[0m\u001b[0mparams\u001b[0m\u001b[0;34m,\u001b[0m \u001b[0;34m**\u001b[0m\u001b[0mself\u001b[0m\u001b[0;34m.\u001b[0m\u001b[0muserkws\u001b[0m\u001b[0;34m)\u001b[0m\u001b[0;34m\u001b[0m\u001b[0;34m\u001b[0m\u001b[0m\n\u001b[0;32m-> 1370\u001b[0;31m         \u001b[0m_ret\u001b[0m \u001b[0;34m=\u001b[0m \u001b[0mself\u001b[0m\u001b[0;34m.\u001b[0m\u001b[0mminimize\u001b[0m\u001b[0;34m(\u001b[0m\u001b[0mmethod\u001b[0m\u001b[0;34m=\u001b[0m\u001b[0mself\u001b[0m\u001b[0;34m.\u001b[0m\u001b[0mmethod\u001b[0m\u001b[0;34m)\u001b[0m\u001b[0;34m\u001b[0m\u001b[0;34m\u001b[0m\u001b[0m\n\u001b[0m\u001b[1;32m   1371\u001b[0m \u001b[0;34m\u001b[0m\u001b[0m\n\u001b[1;32m   1372\u001b[0m         \u001b[0;32mfor\u001b[0m \u001b[0mattr\u001b[0m \u001b[0;32min\u001b[0m \u001b[0mdir\u001b[0m\u001b[0;34m(\u001b[0m\u001b[0m_ret\u001b[0m\u001b[0;34m)\u001b[0m\u001b[0;34m:\u001b[0m\u001b[0;34m\u001b[0m\u001b[0;34m\u001b[0m\u001b[0m\n",
      "\u001b[0;32m~/anaconda3/envs/test1/lib/python3.7/site-packages/lmfit/minimizer.py\u001b[0m in \u001b[0;36mminimize\u001b[0;34m(self, method, params, **kws)\u001b[0m\n\u001b[1;32m   2174\u001b[0m                         val.lower().startswith(user_method)):\n\u001b[1;32m   2175\u001b[0m                     \u001b[0mkwargs\u001b[0m\u001b[0;34m[\u001b[0m\u001b[0;34m'method'\u001b[0m\u001b[0;34m]\u001b[0m \u001b[0;34m=\u001b[0m \u001b[0mval\u001b[0m\u001b[0;34m\u001b[0m\u001b[0;34m\u001b[0m\u001b[0m\n\u001b[0;32m-> 2176\u001b[0;31m         \u001b[0;32mreturn\u001b[0m \u001b[0mfunction\u001b[0m\u001b[0;34m(\u001b[0m\u001b[0;34m**\u001b[0m\u001b[0mkwargs\u001b[0m\u001b[0;34m)\u001b[0m\u001b[0;34m\u001b[0m\u001b[0;34m\u001b[0m\u001b[0m\n\u001b[0m\u001b[1;32m   2177\u001b[0m \u001b[0;34m\u001b[0m\u001b[0m\n\u001b[1;32m   2178\u001b[0m \u001b[0;34m\u001b[0m\u001b[0m\n",
      "\u001b[0;32m~/anaconda3/envs/test1/lib/python3.7/site-packages/lmfit/minimizer.py\u001b[0m in \u001b[0;36mleastsq\u001b[0;34m(self, params, **kws)\u001b[0m\n\u001b[1;32m   1566\u001b[0m \u001b[0;34m\u001b[0m\u001b[0m\n\u001b[1;32m   1567\u001b[0m         \u001b[0;32mtry\u001b[0m\u001b[0;34m:\u001b[0m\u001b[0;34m\u001b[0m\u001b[0;34m\u001b[0m\u001b[0m\n\u001b[0;32m-> 1568\u001b[0;31m             \u001b[0mlsout\u001b[0m \u001b[0;34m=\u001b[0m \u001b[0mscipy_leastsq\u001b[0m\u001b[0;34m(\u001b[0m\u001b[0mself\u001b[0m\u001b[0;34m.\u001b[0m\u001b[0m__residual\u001b[0m\u001b[0;34m,\u001b[0m \u001b[0mvariables\u001b[0m\u001b[0;34m,\u001b[0m \u001b[0;34m**\u001b[0m\u001b[0mlskws\u001b[0m\u001b[0;34m)\u001b[0m\u001b[0;34m\u001b[0m\u001b[0;34m\u001b[0m\u001b[0m\n\u001b[0m\u001b[1;32m   1569\u001b[0m         \u001b[0;32mexcept\u001b[0m \u001b[0mAbortFitException\u001b[0m\u001b[0;34m:\u001b[0m\u001b[0;34m\u001b[0m\u001b[0;34m\u001b[0m\u001b[0m\n\u001b[1;32m   1570\u001b[0m             \u001b[0;32mpass\u001b[0m\u001b[0;34m\u001b[0m\u001b[0;34m\u001b[0m\u001b[0m\n",
      "\u001b[0;32m~/anaconda3/envs/test1/lib/python3.7/site-packages/scipy/optimize/minpack.py\u001b[0m in \u001b[0;36mleastsq\u001b[0;34m(func, x0, args, Dfun, full_output, col_deriv, ftol, xtol, gtol, maxfev, epsfcn, factor, diag)\u001b[0m\n\u001b[1;32m    394\u001b[0m             \u001b[0mmaxfev\u001b[0m \u001b[0;34m=\u001b[0m \u001b[0;36m200\u001b[0m\u001b[0;34m*\u001b[0m\u001b[0;34m(\u001b[0m\u001b[0mn\u001b[0m \u001b[0;34m+\u001b[0m \u001b[0;36m1\u001b[0m\u001b[0;34m)\u001b[0m\u001b[0;34m\u001b[0m\u001b[0;34m\u001b[0m\u001b[0m\n\u001b[1;32m    395\u001b[0m         retval = _minpack._lmdif(func, x0, args, full_output, ftol, xtol,\n\u001b[0;32m--> 396\u001b[0;31m                                  gtol, maxfev, epsfcn, factor, diag)\n\u001b[0m\u001b[1;32m    397\u001b[0m     \u001b[0;32melse\u001b[0m\u001b[0;34m:\u001b[0m\u001b[0;34m\u001b[0m\u001b[0;34m\u001b[0m\u001b[0m\n\u001b[1;32m    398\u001b[0m         \u001b[0;32mif\u001b[0m \u001b[0mcol_deriv\u001b[0m\u001b[0;34m:\u001b[0m\u001b[0;34m\u001b[0m\u001b[0;34m\u001b[0m\u001b[0m\n",
      "\u001b[0;32m~/anaconda3/envs/test1/lib/python3.7/site-packages/lmfit/minimizer.py\u001b[0m in \u001b[0;36m__residual\u001b[0;34m(self, fvars, apply_bounds_transformation)\u001b[0m\n\u001b[1;32m    528\u001b[0m         \u001b[0mself\u001b[0m\u001b[0;34m.\u001b[0m\u001b[0mresult\u001b[0m\u001b[0;34m.\u001b[0m\u001b[0mnfev\u001b[0m \u001b[0;34m+=\u001b[0m \u001b[0;36m1\u001b[0m\u001b[0;34m\u001b[0m\u001b[0;34m\u001b[0m\u001b[0m\n\u001b[1;32m    529\u001b[0m \u001b[0;34m\u001b[0m\u001b[0m\n\u001b[0;32m--> 530\u001b[0;31m         \u001b[0mout\u001b[0m \u001b[0;34m=\u001b[0m \u001b[0mself\u001b[0m\u001b[0;34m.\u001b[0m\u001b[0muserfcn\u001b[0m\u001b[0;34m(\u001b[0m\u001b[0mparams\u001b[0m\u001b[0;34m,\u001b[0m \u001b[0;34m*\u001b[0m\u001b[0mself\u001b[0m\u001b[0;34m.\u001b[0m\u001b[0muserargs\u001b[0m\u001b[0;34m,\u001b[0m \u001b[0;34m**\u001b[0m\u001b[0mself\u001b[0m\u001b[0;34m.\u001b[0m\u001b[0muserkws\u001b[0m\u001b[0;34m)\u001b[0m\u001b[0;34m\u001b[0m\u001b[0;34m\u001b[0m\u001b[0m\n\u001b[0m\u001b[1;32m    531\u001b[0m \u001b[0;34m\u001b[0m\u001b[0m\n\u001b[1;32m    532\u001b[0m         \u001b[0;32mif\u001b[0m \u001b[0mcallable\u001b[0m\u001b[0;34m(\u001b[0m\u001b[0mself\u001b[0m\u001b[0;34m.\u001b[0m\u001b[0miter_cb\u001b[0m\u001b[0;34m)\u001b[0m\u001b[0;34m:\u001b[0m\u001b[0;34m\u001b[0m\u001b[0;34m\u001b[0m\u001b[0m\n",
      "\u001b[0;32m~/anaconda3/envs/test1/lib/python3.7/site-packages/lmfit/model.py\u001b[0m in \u001b[0;36m_residual\u001b[0;34m(self, params, data, weights, **kwargs)\u001b[0m\n\u001b[1;32m    758\u001b[0m \u001b[0;34m\u001b[0m\u001b[0m\n\u001b[1;32m    759\u001b[0m         \"\"\"\n\u001b[0;32m--> 760\u001b[0;31m         \u001b[0mmodel\u001b[0m \u001b[0;34m=\u001b[0m \u001b[0mself\u001b[0m\u001b[0;34m.\u001b[0m\u001b[0meval\u001b[0m\u001b[0;34m(\u001b[0m\u001b[0mparams\u001b[0m\u001b[0;34m,\u001b[0m \u001b[0;34m**\u001b[0m\u001b[0mkwargs\u001b[0m\u001b[0;34m)\u001b[0m\u001b[0;34m\u001b[0m\u001b[0;34m\u001b[0m\u001b[0m\n\u001b[0m\u001b[1;32m    761\u001b[0m         \u001b[0;32mif\u001b[0m \u001b[0mself\u001b[0m\u001b[0;34m.\u001b[0m\u001b[0mnan_policy\u001b[0m \u001b[0;34m==\u001b[0m \u001b[0;34m'raise'\u001b[0m \u001b[0;32mand\u001b[0m \u001b[0;32mnot\u001b[0m \u001b[0mnp\u001b[0m\u001b[0;34m.\u001b[0m\u001b[0mall\u001b[0m\u001b[0;34m(\u001b[0m\u001b[0mnp\u001b[0m\u001b[0;34m.\u001b[0m\u001b[0misfinite\u001b[0m\u001b[0;34m(\u001b[0m\u001b[0mmodel\u001b[0m\u001b[0;34m)\u001b[0m\u001b[0;34m)\u001b[0m\u001b[0;34m:\u001b[0m\u001b[0;34m\u001b[0m\u001b[0;34m\u001b[0m\u001b[0m\n\u001b[1;32m    762\u001b[0m             msg = ('The model function generated NaN values and the fit '\n",
      "\u001b[0;32m~/anaconda3/envs/test1/lib/python3.7/site-packages/lmfit/model.py\u001b[0m in \u001b[0;36meval\u001b[0;34m(self, params, **kwargs)\u001b[0m\n\u001b[1;32m    846\u001b[0m \u001b[0;34m\u001b[0m\u001b[0m\n\u001b[1;32m    847\u001b[0m         \"\"\"\n\u001b[0;32m--> 848\u001b[0;31m         \u001b[0;32mreturn\u001b[0m \u001b[0mself\u001b[0m\u001b[0;34m.\u001b[0m\u001b[0mfunc\u001b[0m\u001b[0;34m(\u001b[0m\u001b[0;34m**\u001b[0m\u001b[0mself\u001b[0m\u001b[0;34m.\u001b[0m\u001b[0mmake_funcargs\u001b[0m\u001b[0;34m(\u001b[0m\u001b[0mparams\u001b[0m\u001b[0;34m,\u001b[0m \u001b[0mkwargs\u001b[0m\u001b[0;34m)\u001b[0m\u001b[0;34m)\u001b[0m\u001b[0;34m\u001b[0m\u001b[0;34m\u001b[0m\u001b[0m\n\u001b[0m\u001b[1;32m    849\u001b[0m \u001b[0;34m\u001b[0m\u001b[0m\n\u001b[1;32m    850\u001b[0m     \u001b[0;34m@\u001b[0m\u001b[0mproperty\u001b[0m\u001b[0;34m\u001b[0m\u001b[0;34m\u001b[0m\u001b[0m\n",
      "\u001b[0;32m<ipython-input-6-1f051310b127>\u001b[0m in \u001b[0;36mbaranyi\u001b[0;34m(t, N0, Nmax, rmax, tlag)\u001b[0m\n\u001b[1;32m     10\u001b[0m \u001b[0;34m\u001b[0m\u001b[0m\n\u001b[1;32m     11\u001b[0m \u001b[0;32mdef\u001b[0m \u001b[0mbaranyi\u001b[0m\u001b[0;34m(\u001b[0m\u001b[0mt\u001b[0m\u001b[0;34m,\u001b[0m \u001b[0mN0\u001b[0m\u001b[0;34m,\u001b[0m \u001b[0mNmax\u001b[0m\u001b[0;34m,\u001b[0m \u001b[0mrmax\u001b[0m\u001b[0;34m,\u001b[0m \u001b[0mtlag\u001b[0m\u001b[0;34m)\u001b[0m\u001b[0;34m:\u001b[0m\u001b[0;34m\u001b[0m\u001b[0;34m\u001b[0m\u001b[0m\n\u001b[0;32m---> 12\u001b[0;31m     \u001b[0;32mreturn\u001b[0m \u001b[0mNmax\u001b[0m \u001b[0;34m+\u001b[0m \u001b[0mnp\u001b[0m\u001b[0;34m.\u001b[0m\u001b[0mlog\u001b[0m\u001b[0;34m(\u001b[0m\u001b[0;34m(\u001b[0m\u001b[0;34m-\u001b[0m\u001b[0;36m1\u001b[0m \u001b[0;34m+\u001b[0m \u001b[0mnp\u001b[0m\u001b[0;34m.\u001b[0m\u001b[0mexp\u001b[0m\u001b[0;34m(\u001b[0m\u001b[0mrmax\u001b[0m \u001b[0;34m*\u001b[0m \u001b[0mtlag\u001b[0m\u001b[0;34m)\u001b[0m \u001b[0;34m+\u001b[0m \u001b[0mnp\u001b[0m\u001b[0;34m.\u001b[0m\u001b[0mexp\u001b[0m\u001b[0;34m(\u001b[0m\u001b[0mrmax\u001b[0m \u001b[0;34m*\u001b[0m \u001b[0mt\u001b[0m\u001b[0;34m)\u001b[0m\u001b[0;34m)\u001b[0m \u001b[0;34m/\u001b[0m \u001b[0;34m(\u001b[0m\u001b[0mnp\u001b[0m\u001b[0;34m.\u001b[0m\u001b[0mexp\u001b[0m\u001b[0;34m(\u001b[0m\u001b[0mrmax\u001b[0m \u001b[0;34m*\u001b[0m \u001b[0mt\u001b[0m\u001b[0;34m)\u001b[0m \u001b[0;34m-\u001b[0m \u001b[0;36m1\u001b[0m \u001b[0;34m+\u001b[0m \u001b[0mnp\u001b[0m\u001b[0;34m.\u001b[0m\u001b[0mexp\u001b[0m\u001b[0;34m(\u001b[0m\u001b[0mrmax\u001b[0m \u001b[0;34m*\u001b[0m \u001b[0mtlag\u001b[0m\u001b[0;34m)\u001b[0m \u001b[0;34m*\u001b[0m \u001b[0mnp\u001b[0m\u001b[0;34m.\u001b[0m\u001b[0mexp\u001b[0m\u001b[0;34m(\u001b[0m\u001b[0mNmax\u001b[0m \u001b[0;34m-\u001b[0m \u001b[0mN0\u001b[0m\u001b[0;34m)\u001b[0m\u001b[0;34m)\u001b[0m\u001b[0;34m)\u001b[0m\u001b[0;34m\u001b[0m\u001b[0;34m\u001b[0m\u001b[0m\n\u001b[0m\u001b[1;32m     13\u001b[0m \u001b[0;34m\u001b[0m\u001b[0m\n\u001b[1;32m     14\u001b[0m \u001b[0;32mdef\u001b[0m \u001b[0mpolynomial\u001b[0m\u001b[0;34m(\u001b[0m\u001b[0mt\u001b[0m\u001b[0;34m,\u001b[0m \u001b[0mC0\u001b[0m\u001b[0;34m,\u001b[0m \u001b[0mC1\u001b[0m\u001b[0;34m,\u001b[0m \u001b[0mC2\u001b[0m\u001b[0;34m,\u001b[0m \u001b[0mC3\u001b[0m\u001b[0;34m)\u001b[0m\u001b[0;34m:\u001b[0m\u001b[0;34m\u001b[0m\u001b[0;34m\u001b[0m\u001b[0m\n",
      "\u001b[0;32m~/anaconda3/envs/test1/lib/python3.7/site-packages/pandas/core/series.py\u001b[0m in \u001b[0;36m__array_ufunc__\u001b[0;34m(self, ufunc, method, *inputs, **kwargs)\u001b[0m\n\u001b[1;32m    822\u001b[0m             higher_priority = (\n\u001b[1;32m    823\u001b[0m                 \u001b[0mhasattr\u001b[0m\u001b[0;34m(\u001b[0m\u001b[0mitem\u001b[0m\u001b[0;34m,\u001b[0m \u001b[0;34m\"__array_priority__\"\u001b[0m\u001b[0;34m)\u001b[0m\u001b[0;34m\u001b[0m\u001b[0;34m\u001b[0m\u001b[0m\n\u001b[0;32m--> 824\u001b[0;31m                 \u001b[0;32mand\u001b[0m \u001b[0mitem\u001b[0m\u001b[0;34m.\u001b[0m\u001b[0m__array_priority__\u001b[0m \u001b[0;34m>\u001b[0m \u001b[0mself\u001b[0m\u001b[0;34m.\u001b[0m\u001b[0m__array_priority__\u001b[0m\u001b[0;34m\u001b[0m\u001b[0;34m\u001b[0m\u001b[0m\n\u001b[0m\u001b[1;32m    825\u001b[0m             )\n\u001b[1;32m    826\u001b[0m             has_array_ufunc = (\n",
      "\u001b[0;31mKeyboardInterrupt\u001b[0m: "
     ]
    }
   ],
   "source": [
    "test = 2\n",
    "whole = len(workingdf.ID.unique())\n",
    "lAIC, lBIC, lSSR = [], [], []\n",
    "pAIC, pBIC, pSSR = [], [], []\n",
    "gAIC, gBIC, gSSR = [], [], []\n",
    "bAIC, bBIC, bSSR = [], [], []\n",
    "SSE = []\n",
    "deathPhase = [] \n",
    "for i in range(278,282):\n",
    "    print(i)\n",
    "    data_subset = workingdf.loc[workingdf.ID == i, ['Time', 'logPopBio', 'Species', 'Medium', 'Temp', 'Citation', 'Rep']]\n",
    "    data_subset = data_subset.sort_values(by ='Time')\n",
    "    startingPop, carryingCapacity, maxGrowthRate, lag = getStartValue(data_subset)\n",
    "    \n",
    "    logisticmodel = Model(logisticGrowthlag)\n",
    "    polymodel = Model(polynomial)\n",
    "    gompertzmodel = Model(gompertz)\n",
    "    baranyimodel = Model(baranyi)\n",
    "    subsetCount = len(data_subset.Time)\n",
    "    x = data_subset.Time\n",
    "    y = data_subset.logPopBio\n",
    "    meanY = np.mean(y)\n",
    "    IDList = [i]*len(data_subset.Time)\n",
    "    xList = list(x)\n",
    "    yList = list(y)\n",
    "    d = (max(yList) - yList[-1])/(max(yList)-min(yList))\n",
    "    if d > 0.2:\n",
    "        deathPhase.append(1)\n",
    "    else:\n",
    "        deathPhase.append(0)\n",
    "    \n",
    "    logisticFitList, polyFitList, gompertzFitList, baranyiFitList, NAList = [], [], [], [], ['NA']*subsetCount\n",
    "    params = Parameters()\n",
    "    params.add('N0', value=startingPop)\n",
    "    params.add('Nmax', value=carryingCapacity)\n",
    "    params.add('rmax', value=maxGrowthRate)\n",
    "    params.add('tlag', value=lag)\n",
    "    try:\n",
    "        result = logisticmodel.fit(y, params, t=x)\n",
    "        if result.success:\n",
    "            truecounter = truecounter + 1\n",
    "            yFit = result.best_fit\n",
    "            logisticFitList = list(yFit)\n",
    "            lAIC.append(result.aic)\n",
    "            lBIC.append(result.bic)\n",
    "            lSSR.append(sum(map(lambda x: x*x, result.residual)))\n",
    "        else:\n",
    "            lfalsecounter1 = lfalsecounter1 + 1\n",
    "            logisticFitList = NAList\n",
    "            lAIC.append(\"NA\")\n",
    "            lBIC.append(\"NA\")\n",
    "            lSSR.append(\"NA\")\n",
    "    except ValueError as e:\n",
    "        lfalsecounter = lfalsecounter + 1\n",
    "        logisticFitList = NAList\n",
    "        lAIC.append(\"NA\")\n",
    "        lBIC.append(\"NA\")\n",
    "        lSSR.append(\"NA\")\n",
    "        pass\n",
    "\n",
    "    \n",
    "    try:\n",
    "        result = polymodel.fit(y, t=x, C0 = 1, C1 = 1, C2 = 1, C3 = 1)\n",
    "        if result.success:\n",
    "            truecounter = truecounter + 1\n",
    "            yFit = result.best_fit\n",
    "            polyFitList = list(yFit)\n",
    "            pAIC.append(result.aic)\n",
    "            pBIC.append(result.bic)\n",
    "            pSSR.append(sum(map(lambda x: x*x, result.residual)))\n",
    "        else:\n",
    "            pfalsecounter1 = pfalsecounter1 + 1\n",
    "            polyFitList = NAList\n",
    "            pAIC.append(\"NA\")\n",
    "            pBIC.append(\"NA\")\n",
    "            pSSR.append(\"NA\")\n",
    "    except ValueError as e:\n",
    "        pfalsecounter = pfalsecounter + 1\n",
    "        polyFitList = NAList\n",
    "        pAIC.append(\"NA\")\n",
    "        pBIC.append(\"NA\")\n",
    "        pSSR.append(\"NA\") \n",
    "        pass\n",
    "    \n",
    "    \n",
    "    try:\n",
    "        result = gompertzmodel.fit(y, params, t=x)\n",
    "        if result.success:\n",
    "            truecounter = truecounter + 1\n",
    "            yFit = result.best_fit\n",
    "            gompertzFitList = list(yFit)\n",
    "            gAIC.append(result.aic)\n",
    "            gBIC.append(result.bic)\n",
    "            gSSR.append(sum(map(lambda x: x*x, result.residual)))\n",
    "        else:\n",
    "            gfalsecounter1 = gfalsecounter1 + 1\n",
    "            gompertzFitList = NAList\n",
    "            gAIC.append(\"NA\")\n",
    "            gBIC.append(\"NA\")\n",
    "            gSSR.append(\"NA\")\n",
    "    except ValueError as e:\n",
    "        gfalsecounter = gfalsecounter + 1\n",
    "        gompertzFitList = NAList\n",
    "        gAIC.append(\"NA\")\n",
    "        gBIC.append(\"NA\")\n",
    "        gSSR.append(\"NA\")\n",
    "        pass\n",
    "    \n",
    "    \n",
    "    try:\n",
    "        result = baranyimodel.fit(y, params, t=x)\n",
    "        if result.success:\n",
    "            truecounter = truecounter + 1\n",
    "            yFit = result.best_fit\n",
    "            baranyiFitList = list(yFit)\n",
    "            bAIC.append(result.aic)\n",
    "            bBIC.append(result.bic)\n",
    "            bSSR.append(sum(map(lambda x: x*x, result.residual)))\n",
    "        else:\n",
    "            attamptcount = 0\n",
    "            while(not result.success and attamptcount < 10):\n",
    "                print(\"========\")\n",
    "                print(result.success)\n",
    "                print(attamptcount)\n",
    "                print(\"========\")\n",
    "                attamptcount += 1\n",
    "                params.add('rmax', value=random.gauss(maxGrowthRate,6))\n",
    "                print(params)\n",
    "                result = baranyimodel.fit(y, params, t=x, ramx = random.gauss(maxGrowthRate,6))\n",
    "            if result.success:\n",
    "                print(\"yaaaa\")\n",
    "            else:\n",
    "                print(\"naaaa\")\n",
    "                bfalsecounter1 = bfalsecounter1 + 1\n",
    "                baranyiFitList = NAList\n",
    "                bAIC.append(\"NA\")\n",
    "                bBIC.append(\"NA\")\n",
    "                bSSR.append(\"NA\")\n",
    "    except ValueError as e:\n",
    "        bfalsecounter = bfalsecounter + 1\n",
    "        baranyiFitList = NAList\n",
    "        bAIC.append(\"NA\")\n",
    "        bBIC.append(\"NA\")\n",
    "        bSSR.append(\"NA\")\n",
    "        pass\n",
    "    SSE.append(sum(map(lambda x: (x-meanY)**2, y)))\n",
    "    tempdf = pd.DataFrame({\"ID\":IDList,\n",
    "                           \"x\":xList,\n",
    "                           \"y\":yList,\n",
    "                           \"logisticFit\":logisticFitList,\n",
    "                           \"polyFit\":polyFitList,\n",
    "                           \"gompertzFit\":gompertzFitList,\n",
    "                           \"baranyiFit\":baranyiFitList,\n",
    "                          })\n",
    "    graphdf = graphdf.append(tempdf, ignore_index=True)"
   ]
  },
  {
   "cell_type": "code",
   "execution_count": 32,
   "metadata": {},
   "outputs": [
    {
     "data": {
      "text/plain": [
       "47"
      ]
     },
     "execution_count": 32,
     "metadata": {},
     "output_type": "execute_result"
    }
   ],
   "source": [
    "4false\n",
    "279\n",
    "4false\n",
    "281"
   ]
  },
  {
   "cell_type": "code",
   "execution_count": 9,
   "metadata": {},
   "outputs": [],
   "source": [
    "def R2(ssr, sse):\n",
    "    r2 = []\n",
    "    for i in range(len(ssr)):\n",
    "        if ssr[i] == \"NA\":\n",
    "            r2.append(\"NA\")\n",
    "        else:\n",
    "            rsquare = 1 - ssr[i]/sse[i]\n",
    "            r2.append(rsquare)\n",
    "    return r2"
   ]
  },
  {
   "cell_type": "code",
   "execution_count": null,
   "metadata": {},
   "outputs": [],
   "source": []
  },
  {
   "cell_type": "code",
   "execution_count": 10,
   "metadata": {},
   "outputs": [],
   "source": [
    "analysisdf = analysisdf.assign(lAIC = lAIC, lBIC = lBIC, lR2 = R2(lSSR,SSE), \n",
    "                               pAIC = pAIC, pBIC = pBIC, pR2 = R2(pSSR,SSE), \n",
    "                               gAIC = gAIC, gBIC = gBIC, gR2 = R2(gSSR,SSE), \n",
    "                               bAIC = bAIC, bBIC = bBIC, bR2 = R2(bSSR,SSE),\n",
    "                              deathPhase = deathPhase)"
   ]
  },
  {
   "cell_type": "code",
   "execution_count": 11,
   "metadata": {},
   "outputs": [],
   "source": [
    "graphdf.to_csv('../Data/graphdf.csv', index=False)\n",
    "analysisdf.to_csv('../Data/analysisdf.csv', index=False)"
   ]
  },
  {
   "cell_type": "code",
   "execution_count": 12,
   "metadata": {},
   "outputs": [
    {
     "data": {
      "image/png": "[encoded data removed]",
      "text/plain": [
       "<Figure size 432x288 with 1 Axes>"
      ]
     },
     "metadata": {
      "needs_background": "light"
     },
     "output_type": "display_data"
    }
   ],
   "source": [
    "for i in range(1):\n",
    "    a = graphdf.loc[graphdf['ID']==8].sort_values(by=['x'], ascending=True)\n",
    "    a = a.drop('ID' , axis='columns')\n",
    "    a = a.set_index('x')\n",
    "    lines = a.plot.line()"
   ]
  },
  {
   "cell_type": "code",
   "execution_count": null,
   "metadata": {},
   "outputs": [],
   "source": [
    "a"
   ]
  },
  {
   "cell_type": "code",
   "execution_count": null,
   "metadata": {},
   "outputs": [],
   "source": [
    "gfalsecounter"
   ]
  },
  {
   "cell_type": "code",
   "execution_count": null,
   "metadata": {},
   "outputs": [],
   "source": [
    "pfalsecounter"
   ]
  },
  {
   "cell_type": "code",
   "execution_count": null,
   "metadata": {},
   "outputs": [],
   "source": [
    "bfalsecounter"
   ]
  },
  {
   "cell_type": "code",
   "execution_count": null,
   "metadata": {},
   "outputs": [],
   "source": []
  }
 ],
 "metadata": {
  "kernelspec": {
   "display_name": "Python3.7 (test1)",
   "language": "python",
   "name": "python3_test1"
  },
  "language_info": {
   "codemirror_mode": {
    "name": "ipython",
    "version": 3
   },
   "file_extension": ".py",
   "mimetype": "text/x-python",
   "name": "python",
   "nbconvert_exporter": "python",
   "pygments_lexer": "ipython3",
   "version": "3.7.6"
  }
 },
 "nbformat": 4,
 "nbformat_minor": 2
}
