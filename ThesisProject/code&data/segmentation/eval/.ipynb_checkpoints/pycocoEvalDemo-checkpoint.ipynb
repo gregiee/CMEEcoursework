{
 "cells": [
  {
   "cell_type": "code",
   "execution_count": 137,
   "metadata": {},
   "outputs": [],
   "source": [
    "%matplotlib inline\n",
    "import matplotlib.pyplot as plt\n",
    "from pycocotools.coco import COCO\n",
    "# from pycocotools.cocoeval import COCOeval\n",
    "import cocoeval\n",
    "import numpy as np\n",
    "import skimage.io as io\n",
    "import pylab\n",
    "pylab.rcParams['figure.figsize'] = (10.0, 8.0)"
   ]
  },
  {
   "cell_type": "code",
   "execution_count": 138,
   "metadata": {},
   "outputs": [
    {
     "name": "stdout",
     "output_type": "stream",
     "text": [
      "Running demo for *segm* results.\n"
     ]
    }
   ],
   "source": [
    "annType = ['segm','bbox','keypoints']\n",
    "annType = annType[0]      #specify type here\n",
    "prefix = 'person_keypoints' if annType=='keypoints' else 'instances'\n",
    "print ('Running demo for *%s* results.'%(annType))"
   ]
  },
  {
   "cell_type": "code",
   "execution_count": 182,
   "metadata": {},
   "outputs": [
    {
     "name": "stdout",
     "output_type": "stream",
     "text": [
      "loading annotations into memory...\n",
      "Done (t=0.12s)\n",
      "creating index...\n",
      "index created!\n"
     ]
    }
   ],
   "source": [
    "#initialize COCO ground truth api\n",
    "annFile = 'ite1/val.json'\n",
    "cocoGt=COCO(annFile)"
   ]
  },
  {
   "cell_type": "code",
   "execution_count": 183,
   "metadata": {},
   "outputs": [
    {
     "name": "stdout",
     "output_type": "stream",
     "text": [
      "Loading and preparing results...\n",
      "DONE (t=0.07s)\n",
      "creating index...\n",
      "index created!\n"
     ]
    }
   ],
   "source": [
    "#initialize COCO detections api\n",
    "resFile='ite1/result.json'\n",
    "cocoDt=cocoGt.loadRes(resFile)"
   ]
  },
  {
   "cell_type": "code",
   "execution_count": 184,
   "metadata": {},
   "outputs": [],
   "source": [
    "imgIds=sorted(cocoGt.getImgIds())\n",
    "# imgIds=imgIds[0:13]\n",
    "# imgId = imgIds[np.random.randint(100)]"
   ]
  },
  {
   "cell_type": "code",
   "execution_count": 189,
   "metadata": {
    "scrolled": true
   },
   "outputs": [
    {
     "name": "stdout",
     "output_type": "stream",
     "text": [
      "[[0, 10000000000.0], [0, 1024], [1024, 9216], [9216, 10000000000.0]]\n",
      "Running per image evaluation hahahahahha...\n",
      "Evaluate annotation hahahahahha type *segm*\n",
      "here\n",
      "DONE hahahahahha (t=0.31s).\n",
      "Accumulating evaluation hahahahahha results...\n",
      "DONE hahahahahha (t=0.03s).\n",
      " Average Precision  (AP) @[ IoU=0.50:0.95 | area=   all | maxDets=100 ] = 0.572\n",
      " Average Precision  (AP) @[ IoU=0.50      | area=   all | maxDets=100 ] = 0.770\n",
      " Average Precision  (AP) @[ IoU=0.75      | area=   all | maxDets=100 ] = 0.693\n",
      " Average Precision  (AP) @[ IoU=0.50:0.95 | area= small | maxDets=100 ] = 0.454\n",
      " Average Precision  (AP) @[ IoU=0.50:0.95 | area=medium | maxDets=100 ] = 0.647\n",
      " Average Precision  (AP) @[ IoU=0.50:0.95 | area= large | maxDets=100 ] = 0.760\n",
      " Average Recall     (AR) @[ IoU=0.50:0.95 | area=   all | maxDets=  1 ] = 0.135\n",
      " Average Recall     (AR) @[ IoU=0.50:0.95 | area=   all | maxDets= 10 ] = 0.458\n",
      " Average Recall     (AR) @[ IoU=0.50:0.95 | area=   all | maxDets=100 ] = 0.641\n",
      " Average Recall     (AR) @[ IoU=0.50:0.95 | area= small | maxDets=100 ] = 0.470\n",
      " Average Recall     (AR) @[ IoU=0.50:0.95 | area=medium | maxDets=100 ] = 0.718\n",
      " Average Recall     (AR) @[ IoU=0.50:0.95 | area= large | maxDets=100 ] = 0.811\n"
     ]
    }
   ],
   "source": [
    "# running evaluation\n",
    "    #  imgIds     - [all] N img ids to use for evaluation\n",
    "    #  catIds     - [all] K cat ids to use for evaluation\n",
    "    #  iouThrs    - [.5:.05:.95] T=10 IoU thresholds for evaluation\n",
    "    #  recThrs    - [0:.01:1] R=101 recall thresholds for evaluation\n",
    "    #  areaRng    - [...] A=4 object area ranges for evaluation\n",
    "    #  maxDets    - [1 10 100] M=3 thresholds on max detections per image\n",
    "    #  iouType    - ['segm'] set iouType to 'segm', 'bbox' or 'keypoints'\n",
    "    #  iouType replaced the now DEPRECATED useSegm parameter.\n",
    "    #  useCats    - [1] if true use category labels for evaluation\n",
    "cocoEval = cocoeval.COCOeval(cocoGt,cocoDt,annType)\n",
    "print(cocoEval.params.areaRng)\n",
    "# cocoEval.params.iouThrs = [.7]\n",
    "cocoEval.params.catIds = [3]\n",
    "cocoEval.params.imgIds  = imgIds\n",
    "# cocoEval.params.imgIds  = [9]\n",
    "# cocoEval.params.areaRng = [[30 ** 2, 130 ** 2], [50 ** 2, 120 ** 2], [200 ** 2, 300** 2], [300 ** 2, 500 ** 2]]\n",
    "cocoEval.evaluate()\n",
    "cocoEval.accumulate()\n",
    "cocoEval.summarize()"
   ]
  },
  {
   "cell_type": "code",
   "execution_count": null,
   "metadata": {},
   "outputs": [],
   "source": []
  }
 ],
 "metadata": {
  "kernelspec": {
   "display_name": "Python 3",
   "language": "python",
   "name": "python3"
  },
  "language_info": {
   "codemirror_mode": {
    "name": "ipython",
    "version": 3
   },
   "file_extension": ".py",
   "mimetype": "text/x-python",
   "name": "python",
   "nbconvert_exporter": "python",
   "pygments_lexer": "ipython3",
   "version": "3.7.3"
  }
 },
 "nbformat": 4,
 "nbformat_minor": 1
}
