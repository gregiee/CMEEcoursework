{
 "cells": [
  {
   "cell_type": "code",
   "execution_count": 37,
   "metadata": {},
   "outputs": [],
   "source": [
    "import pycocotools.mask as mask_util\n",
    "import pandas as pd\n",
    "import numpy as np\n",
    "from PIL import Image, ImageDraw\n",
    "from matplotlib import pyplot as plt\n",
    "from skimage.filters import threshold_otsu\n",
    "from skimage import measure\n",
    "import os\n",
    "import itertools as it\n",
    "import csv\n",
    "from skimage import data, img_as_float,io\n",
    "from copy import deepcopy\n",
    "from skimage.transform import rescale, resize\n",
    "import warnings\n",
    "warnings.filterwarnings(\"ignore\")\n"
   ]
  },
  {
   "cell_type": "code",
   "execution_count": 38,
   "metadata": {},
   "outputs": [],
   "source": [
    "def get_outline_contour(img,position):\n",
    "    # Input: grey-scaled image of shell, position of shell in image e.g. left,right, or \"longest\" for longest contour. \n",
    "    # Output: contour of desired shell.\n",
    "    # Note: if there's only one shell in the image, use position=\"longest\".\n",
    "    \n",
    "    # Get all contours:\n",
    "    thresh = threshold_otsu(img)\n",
    "    binary = img > thresh\n",
    "    cont = measure.find_contours(binary, 0.8)\n",
    "    \n",
    "    # Compute lengths of contours:\n",
    "    cont_ln = []\n",
    "    for n, contour in enumerate(cont):\n",
    "        cont_ln.append(len(contour))\n",
    "        \n",
    "    if position == \"longest\":\n",
    "        k = np.argmax(cont_ln)\n",
    "        contour = cont[k]\n",
    "    \n",
    "    else:\n",
    "        # Find longest contours:\n",
    "        longest_c = sorted(cont_ln,reverse=True)[:2] # Assuming there are no more than 2 shell views in one image\n",
    "        long_ind = []\n",
    "        minx = []\n",
    "        for i in range(0,len(cont_ln)):\n",
    "            if cont_ln[i] in longest_c:\n",
    "                long_ind.append(i)\n",
    "                c = cont[i]\n",
    "                x = c[:,1]\n",
    "                minx.append(min(x))\n",
    "\n",
    "        if \"left\" in position:\n",
    "            contour = cont[long_ind[np.argmin(minx)]]\n",
    "        else:\n",
    "            # if we're looking for the right-most contour\n",
    "            contour = cont[long_ind[np.argmax(minx)]]        \n",
    "            \n",
    "    return contour\n",
    "\n",
    "def binarize_shell(img):\n",
    "    # Input: coloured image\n",
    "    # Output: edited image that has either black or white pixels.\n",
    "    \n",
    "    # 1) Get image size\n",
    "    ###################\n",
    "    x_len = len(img[0])\n",
    "    y_len = len(img)\n",
    "    img2 = deepcopy(img)\n",
    "\n",
    "    # 2) Binarize image\n",
    "    ###################\n",
    "    # Pixels that are not white will be turned black, all other pixels will be turned white.\n",
    "    for i in range(0,y_len):\n",
    "        for j in range(0,x_len):\n",
    "            if sum(img[i][j]) <= 755:\n",
    "                img2[i][j] = [0,0,0]\n",
    "            else:\n",
    "                img2[i][j] = [255,255,255]\n",
    "\n",
    "\n",
    "    return img2\n"
   ]
  },
  {
   "cell_type": "code",
   "execution_count": 57,
   "metadata": {},
   "outputs": [],
   "source": [
    "gt = pd.read_csv('ite1/gt.csv')\n",
    "predict = pd.read_csv('ite1/predictdf.csv')"
   ]
  },
  {
   "cell_type": "code",
   "execution_count": 58,
   "metadata": {},
   "outputs": [
    {
     "data": {
      "text/plain": [
       "482"
      ]
     },
     "execution_count": 58,
     "metadata": {},
     "output_type": "execute_result"
    }
   ],
   "source": [
    "len(gt)"
   ]
  },
  {
   "cell_type": "code",
   "execution_count": 59,
   "metadata": {},
   "outputs": [],
   "source": [
    "predict['size'] = predict['size'].map(lambda x: x.lstrip('c(').rstrip(')'))\n",
    "masksp = []\n",
    "\n",
    "for row in predict.iterrows():\n",
    "    segment = {}\n",
    "    segment[\"counts\"] = row[1][6]\n",
    "    segment[\"size\"] = [int(s) for s in row[1][5].split(',')]\n",
    "    masksp.append(mask_util.decode(segment)[:, :])\n",
    "predict['mask'] = masksp\n",
    "# predict['predict_seg'] = coordsp"
   ]
  },
  {
   "cell_type": "code",
   "execution_count": 60,
   "metadata": {},
   "outputs": [],
   "source": [
    "coordsp = []\n",
    "\n",
    "for row in predict.iterrows():\n",
    "    try:\n",
    "        contour = get_outline_contour(row[1][7],\"longest\")\n",
    "        x = contour[:,1]\n",
    "        y = contour[:,0]\n",
    "        contour = list(zip(x, y))\n",
    "    except:\n",
    "        contour = (0,0)\n",
    "    coordsp.append(contour)\n",
    "predict['predict_seg'] = coordsp"
   ]
  },
  {
   "cell_type": "code",
   "execution_count": 61,
   "metadata": {},
   "outputs": [
    {
     "data": {
      "text/html": [
       "<div>\n",
       "<style scoped>\n",
       "    .dataframe tbody tr th:only-of-type {\n",
       "        vertical-align: middle;\n",
       "    }\n",
       "\n",
       "    .dataframe tbody tr th {\n",
       "        vertical-align: top;\n",
       "    }\n",
       "\n",
       "    .dataframe thead th {\n",
       "        text-align: right;\n",
       "    }\n",
       "</style>\n",
       "<table border=\"1\" class=\"dataframe\">\n",
       "  <thead>\n",
       "    <tr style=\"text-align: right;\">\n",
       "      <th></th>\n",
       "      <th>Unnamed: 0</th>\n",
       "      <th>image_id</th>\n",
       "      <th>category_id</th>\n",
       "      <th>bbox</th>\n",
       "      <th>score</th>\n",
       "      <th>size</th>\n",
       "      <th>counts</th>\n",
       "      <th>mask</th>\n",
       "      <th>predict_seg</th>\n",
       "    </tr>\n",
       "  </thead>\n",
       "  <tbody>\n",
       "    <tr>\n",
       "      <th>0</th>\n",
       "      <td>1</td>\n",
       "      <td>AM01</td>\n",
       "      <td>2</td>\n",
       "      <td>c(327.602905273438, 214.81462097168, 90.728515...</td>\n",
       "      <td>0.99906</td>\n",
       "      <td>600, 800</td>\n",
       "      <td>]QX69]b03N3M2a^OG\\`0:c_OH[`0:b_OI\\`09`_OJ_`08^...</td>\n",
       "      <td>[[0, 0, 0, 0, 0, 0, 0, 0, 0, 0, 0, 0, 0, 0, 0,...</td>\n",
       "      <td>[(351.0, 293.2), (350.0, 293.2), (349.0, 293.2...</td>\n",
       "    </tr>\n",
       "  </tbody>\n",
       "</table>\n",
       "</div>"
      ],
      "text/plain": [
       "   Unnamed: 0 image_id  category_id  \\\n",
       "0           1     AM01            2   \n",
       "\n",
       "                                                bbox    score      size  \\\n",
       "0  c(327.602905273438, 214.81462097168, 90.728515...  0.99906  600, 800   \n",
       "\n",
       "                                              counts  \\\n",
       "0  ]QX69]b03N3M2a^OG\\`0:c_OH[`0:b_OI\\`09`_OJ_`08^...   \n",
       "\n",
       "                                                mask  \\\n",
       "0  [[0, 0, 0, 0, 0, 0, 0, 0, 0, 0, 0, 0, 0, 0, 0,...   \n",
       "\n",
       "                                         predict_seg  \n",
       "0  [(351.0, 293.2), (350.0, 293.2), (349.0, 293.2...  "
      ]
     },
     "execution_count": 61,
     "metadata": {},
     "output_type": "execute_result"
    }
   ],
   "source": [
    "predict.head(1)"
   ]
  },
  {
   "cell_type": "code",
   "execution_count": 62,
   "metadata": {},
   "outputs": [],
   "source": [
    "gt['seg'] = gt['seg'].map(lambda x: x.lstrip('list(c(').rstrip(')'))"
   ]
  },
  {
   "cell_type": "code",
   "execution_count": 63,
   "metadata": {},
   "outputs": [],
   "source": [
    "masksg = []\n",
    "for row in gt.iterrows():\n",
    "    polygon = [float(s) for s in row[1][\"seg\"].split(',')]\n",
    "    img = Image.new('L', (row[1][\"width\"], row[1][\"height\"]), 0)\n",
    "#     polygon = [(x1,y1),(x2,y2),...] or [x1,y1,x2,y2,...]\n",
    "    ImageDraw.Draw(img).polygon(polygon, outline=1, fill=1)\n",
    "    mask = np.array(img)\n",
    "    masksg.append(mask)\n",
    "gt['mask'] = masksg"
   ]
  },
  {
   "cell_type": "code",
   "execution_count": 64,
   "metadata": {},
   "outputs": [],
   "source": [
    "goodseg = []\n",
    "for row in gt.iterrows():\n",
    "    gseg = row[1][\"seg\"].replace(\"\\n\", \"\").split(',')\n",
    "    seg = [float(item) for item in gseg]\n",
    "    x = seg[::2]\n",
    "    y = seg[1::2]\n",
    "    gseg = list(zip(x, y))\n",
    "    goodseg.append(gseg)\n",
    "gt['goodseg'] = goodseg"
   ]
  },
  {
   "cell_type": "code",
   "execution_count": 65,
   "metadata": {},
   "outputs": [],
   "source": [
    "gt['size'] = gt['height'].apply(str) +\",\"+gt['width'].apply(str)"
   ]
  },
  {
   "cell_type": "code",
   "execution_count": 66,
   "metadata": {
    "scrolled": true
   },
   "outputs": [
    {
     "data": {
      "text/html": [
       "<div>\n",
       "<style scoped>\n",
       "    .dataframe tbody tr th:only-of-type {\n",
       "        vertical-align: middle;\n",
       "    }\n",
       "\n",
       "    .dataframe tbody tr th {\n",
       "        vertical-align: top;\n",
       "    }\n",
       "\n",
       "    .dataframe thead th {\n",
       "        text-align: right;\n",
       "    }\n",
       "</style>\n",
       "<table border=\"1\" class=\"dataframe\">\n",
       "  <thead>\n",
       "    <tr style=\"text-align: right;\">\n",
       "      <th></th>\n",
       "      <th>Unnamed: 0</th>\n",
       "      <th>image_id</th>\n",
       "      <th>seg</th>\n",
       "      <th>is_crowd</th>\n",
       "      <th>category_id</th>\n",
       "      <th>id</th>\n",
       "      <th>bbox</th>\n",
       "      <th>area</th>\n",
       "      <th>license</th>\n",
       "      <th>file_name</th>\n",
       "      <th>width</th>\n",
       "      <th>height</th>\n",
       "      <th>mask</th>\n",
       "      <th>goodseg</th>\n",
       "      <th>size</th>\n",
       "    </tr>\n",
       "  </thead>\n",
       "  <tbody>\n",
       "  </tbody>\n",
       "</table>\n",
       "</div>"
      ],
      "text/plain": [
       "Empty DataFrame\n",
       "Columns: [Unnamed: 0, image_id, seg, is_crowd, category_id, id, bbox, area, license, file_name, width, height, mask, goodseg, size]\n",
       "Index: []"
      ]
     },
     "execution_count": 66,
     "metadata": {},
     "output_type": "execute_result"
    }
   ],
   "source": [
    "gt.loc[(gt['category_id'] == 3) & (gt['image_id'] == 'AM05')]"
   ]
  },
  {
   "cell_type": "code",
   "execution_count": 67,
   "metadata": {},
   "outputs": [
    {
     "data": {
      "text/plain": [
       "(600, 800)"
      ]
     },
     "execution_count": 67,
     "metadata": {},
     "output_type": "execute_result"
    }
   ],
   "source": [
    "gt[\"mask\"][0].shape"
   ]
  },
  {
   "cell_type": "code",
   "execution_count": 68,
   "metadata": {},
   "outputs": [
    {
     "data": {
      "text/html": [
       "<div>\n",
       "<style scoped>\n",
       "    .dataframe tbody tr th:only-of-type {\n",
       "        vertical-align: middle;\n",
       "    }\n",
       "\n",
       "    .dataframe tbody tr th {\n",
       "        vertical-align: top;\n",
       "    }\n",
       "\n",
       "    .dataframe thead th {\n",
       "        text-align: right;\n",
       "    }\n",
       "</style>\n",
       "<table border=\"1\" class=\"dataframe\">\n",
       "  <thead>\n",
       "    <tr style=\"text-align: right;\">\n",
       "      <th></th>\n",
       "      <th>Unnamed: 0</th>\n",
       "      <th>image_id</th>\n",
       "      <th>category_id</th>\n",
       "      <th>bbox</th>\n",
       "      <th>score</th>\n",
       "      <th>size</th>\n",
       "      <th>counts</th>\n",
       "      <th>mask</th>\n",
       "      <th>predict_seg</th>\n",
       "    </tr>\n",
       "  </thead>\n",
       "  <tbody>\n",
       "  </tbody>\n",
       "</table>\n",
       "</div>"
      ],
      "text/plain": [
       "Empty DataFrame\n",
       "Columns: [Unnamed: 0, image_id, category_id, bbox, score, size, counts, mask, predict_seg]\n",
       "Index: []"
      ]
     },
     "execution_count": 68,
     "metadata": {},
     "output_type": "execute_result"
    }
   ],
   "source": [
    "predict.loc[(predict['category_id'] == 3) & (predict['image_id'] == 'AM05')]"
   ]
  },
  {
   "cell_type": "code",
   "execution_count": 69,
   "metadata": {},
   "outputs": [
    {
     "data": {
      "text/plain": [
       "(600, 800)"
      ]
     },
     "execution_count": 69,
     "metadata": {},
     "output_type": "execute_result"
    }
   ],
   "source": [
    "predict[\"mask\"][0].shape"
   ]
  },
  {
   "cell_type": "code",
   "execution_count": 70,
   "metadata": {},
   "outputs": [
    {
     "name": "stdout",
     "output_type": "stream",
     "text": [
      "500/6000\n",
      "1000/6000\n",
      "1500/6000\n",
      "2000/6000\n",
      "2500/6000\n",
      "3000/6000\n",
      "3500/6000\n",
      "4000/6000\n",
      "4500/6000\n",
      "5000/6000\n",
      "5500/6000\n",
      "6000/6000\n"
     ]
    }
   ],
   "source": [
    "iougtlist = []\n",
    "count = 0\n",
    "for row in predict.iterrows():\n",
    "    pmask = np.array(row[1][\"mask\"], dtype=bool)\n",
    "    subgt = gt.loc[(gt['image_id'] == row[1][\"image_id\"])&(gt['category_id'] == row[1][\"category_id\"])]\n",
    "    if len(subgt)>0:\n",
    "#         print(\"len:\")\n",
    "#         print(len(subgt))\n",
    "        templist = []\n",
    "        for r in subgt.iterrows():\n",
    "            gmask = np.array(r[1][\"mask\"], dtype=bool)\n",
    "            moverlap = pmask*gmask\n",
    "            munion = pmask+gmask\n",
    "            mIOU = moverlap.sum()/float(munion.sum())\n",
    "            mseg = r[1][\"goodseg\"]\n",
    "            templist.append([mIOU,r[1][\"id\"],len(subgt), mseg])\n",
    "        iougtlist.append(max(templist))\n",
    "    else:\n",
    "#         print(\"----len:\")\n",
    "#         print(len(subgt))\n",
    "        iougtlist.append([0,0,0,0])\n",
    "    count = count+1\n",
    "    if count%500==0:\n",
    "        print(str(count)+\"/6000\")\n",
    "#     if row[1][\"image_id\"] != \"AM05\":\n",
    "#         print(\"count\")\n",
    "#         print(count)\n",
    "#         print(len(iougtlist))\n",
    "#         break"
   ]
  },
  {
   "cell_type": "code",
   "execution_count": 71,
   "metadata": {},
   "outputs": [],
   "source": [
    "ioulist, gtlist, gtcount, gt_seg = map(list, zip(*iougtlist)) "
   ]
  },
  {
   "cell_type": "code",
   "execution_count": 72,
   "metadata": {},
   "outputs": [],
   "source": [
    "predict['iou'] = ioulist\n",
    "predict['gt'] = gtlist\n",
    "predict['gtcount'] = gtcount\n",
    "predict['gt_seg'] = gt_seg"
   ]
  },
  {
   "cell_type": "code",
   "execution_count": 73,
   "metadata": {},
   "outputs": [
    {
     "data": {
      "text/html": [
       "<div>\n",
       "<style scoped>\n",
       "    .dataframe tbody tr th:only-of-type {\n",
       "        vertical-align: middle;\n",
       "    }\n",
       "\n",
       "    .dataframe tbody tr th {\n",
       "        vertical-align: top;\n",
       "    }\n",
       "\n",
       "    .dataframe thead th {\n",
       "        text-align: right;\n",
       "    }\n",
       "</style>\n",
       "<table border=\"1\" class=\"dataframe\">\n",
       "  <thead>\n",
       "    <tr style=\"text-align: right;\">\n",
       "      <th></th>\n",
       "      <th>Unnamed: 0</th>\n",
       "      <th>image_id</th>\n",
       "      <th>category_id</th>\n",
       "      <th>bbox</th>\n",
       "      <th>score</th>\n",
       "      <th>size</th>\n",
       "      <th>counts</th>\n",
       "      <th>mask</th>\n",
       "      <th>predict_seg</th>\n",
       "      <th>iou</th>\n",
       "      <th>gt</th>\n",
       "      <th>gtcount</th>\n",
       "      <th>gt_seg</th>\n",
       "    </tr>\n",
       "  </thead>\n",
       "  <tbody>\n",
       "    <tr>\n",
       "      <th>0</th>\n",
       "      <td>1</td>\n",
       "      <td>AM01</td>\n",
       "      <td>2</td>\n",
       "      <td>c(327.602905273438, 214.81462097168, 90.728515...</td>\n",
       "      <td>0.999060</td>\n",
       "      <td>600, 800</td>\n",
       "      <td>]QX69]b03N3M2a^OG\\`0:c_OH[`0:b_OI\\`09`_OJ_`08^...</td>\n",
       "      <td>[[0, 0, 0, 0, 0, 0, 0, 0, 0, 0, 0, 0, 0, 0, 0,...</td>\n",
       "      <td>[(351.0, 293.2), (350.0, 293.2), (349.0, 293.2...</td>\n",
       "      <td>0.888031</td>\n",
       "      <td>1</td>\n",
       "      <td>6</td>\n",
       "      <td>[(351.8, 292.0), (352.0, 291.8), (353.0, 291.8...</td>\n",
       "    </tr>\n",
       "    <tr>\n",
       "      <th>1</th>\n",
       "      <td>2</td>\n",
       "      <td>AM01</td>\n",
       "      <td>2</td>\n",
       "      <td>c(299.171142578125, 302.658966064453, 90.22628...</td>\n",
       "      <td>0.999009</td>\n",
       "      <td>600, 800</td>\n",
       "      <td>bTg5=Xb04N3M2M3N2O0P_O\\Ok?f0R@\\Om?e0R@\\Om?d0R@...</td>\n",
       "      <td>[[0, 0, 0, 0, 0, 0, 0, 0, 0, 0, 0, 0, 0, 0, 0,...</td>\n",
       "      <td>[(321.0, 392.2), (320.0, 392.2), (319.0, 392.2...</td>\n",
       "      <td>0.898310</td>\n",
       "      <td>6</td>\n",
       "      <td>6</td>\n",
       "      <td>[(325.8, 390.0), (326.0, 389.8), (327.0, 389.8...</td>\n",
       "    </tr>\n",
       "    <tr>\n",
       "      <th>2</th>\n",
       "      <td>3</td>\n",
       "      <td>AM01</td>\n",
       "      <td>2</td>\n",
       "      <td>c(185.815979003906, 248.465698242188, 100.3563...</td>\n",
       "      <td>0.998865</td>\n",
       "      <td>600, 800</td>\n",
       "      <td>\\Wg3:Tb0=J4N2L9H5L2N2K6K4N2O1N2O1O000000000000...</td>\n",
       "      <td>[[0, 0, 0, 0, 0, 0, 0, 0, 0, 0, 0, 0, 0, 0, 0,...</td>\n",
       "      <td>[(237.0, 324.2), (236.0, 324.2), (235.0, 324.2...</td>\n",
       "      <td>0.855088</td>\n",
       "      <td>5</td>\n",
       "      <td>6</td>\n",
       "      <td>[(236.8, 326.0), (237.0, 325.8), (237.8, 325.0...</td>\n",
       "    </tr>\n",
       "    <tr>\n",
       "      <th>3</th>\n",
       "      <td>4</td>\n",
       "      <td>AM01</td>\n",
       "      <td>2</td>\n",
       "      <td>c(299.936767578125, 120.28108215332, 91.130065...</td>\n",
       "      <td>0.998543</td>\n",
       "      <td>600, 800</td>\n",
       "      <td>mbg5:Xa0Jg_O;T`0Kh_O6U`01e_O1Z`01d_O0[`01d_O0[...</td>\n",
       "      <td>[[0, 0, 0, 0, 0, 0, 0, 0, 0, 0, 0, 0, 0, 0, 0,...</td>\n",
       "      <td>[(318.0, 208.2), (317.0, 208.2), (316.0, 208.2...</td>\n",
       "      <td>0.887185</td>\n",
       "      <td>4</td>\n",
       "      <td>6</td>\n",
       "      <td>[(318.8, 210.0), (319.0, 209.8), (319.8, 209.0...</td>\n",
       "    </tr>\n",
       "    <tr>\n",
       "      <th>4</th>\n",
       "      <td>5</td>\n",
       "      <td>AM01</td>\n",
       "      <td>2</td>\n",
       "      <td>c(225.754974365234, 169.364074707031, 95.86196...</td>\n",
       "      <td>0.998312</td>\n",
       "      <td>600, 800</td>\n",
       "      <td>U]]4=Xb09H7I3N2N3M101M2O2N2N1O2N101N2O0O2O001N...</td>\n",
       "      <td>[[0, 0, 0, 0, 0, 0, 0, 0, 0, 0, 0, 0, 0, 0, 0,...</td>\n",
       "      <td>[(265.0, 241.2), (264.0, 241.2), (263.0, 241.2...</td>\n",
       "      <td>0.827696</td>\n",
       "      <td>3</td>\n",
       "      <td>6</td>\n",
       "      <td>[(268.8, 240.0), (269.0, 239.8), (270.0, 239.8...</td>\n",
       "    </tr>\n",
       "    <tr>\n",
       "      <th>5</th>\n",
       "      <td>6</td>\n",
       "      <td>AM01</td>\n",
       "      <td>1</td>\n",
       "      <td>c(335.793518066406, 478.850341796875, 79.80645...</td>\n",
       "      <td>0.095649</td>\n",
       "      <td>600, 800</td>\n",
       "      <td>`i[61fb05L1O2N1O001OIe]O1[b00d]O1[b0Of]O1Yb0Og...</td>\n",
       "      <td>[[0, 0, 0, 0, 0, 0, 0, 0, 0, 0, 0, 0, 0, 0, 0,...</td>\n",
       "      <td>[(397.0, 509.2), (396.0, 509.2), (395.0, 509.2...</td>\n",
       "      <td>0.000000</td>\n",
       "      <td>0</td>\n",
       "      <td>0</td>\n",
       "      <td>0</td>\n",
       "    </tr>\n",
       "    <tr>\n",
       "      <th>6</th>\n",
       "      <td>7</td>\n",
       "      <td>AM01</td>\n",
       "      <td>3</td>\n",
       "      <td>c(224.56965637207, 171.669479370117, 97.088119...</td>\n",
       "      <td>0.006887</td>\n",
       "      <td>600, 800</td>\n",
       "      <td>lo]44bb09H&lt;C5L3N1N2N1O1N3N100O2N2M3N2O1O001N2O...</td>\n",
       "      <td>[[0, 0, 0, 0, 0, 0, 0, 0, 0, 0, 0, 0, 0, 0, 0,...</td>\n",
       "      <td>[(265.0, 240.2), (264.0, 240.2), (263.0, 240.2...</td>\n",
       "      <td>0.000000</td>\n",
       "      <td>0</td>\n",
       "      <td>0</td>\n",
       "      <td>0</td>\n",
       "    </tr>\n",
       "    <tr>\n",
       "      <th>7</th>\n",
       "      <td>8</td>\n",
       "      <td>AM01</td>\n",
       "      <td>1</td>\n",
       "      <td>c(224.678573608398, 169.726150512695, 98.78157...</td>\n",
       "      <td>0.006461</td>\n",
       "      <td>600, 800</td>\n",
       "      <td>`fb44db002MoY21PfM1001N10`^O0X`00h_O1lN0Va0On_...</td>\n",
       "      <td>[[0, 0, 0, 0, 0, 0, 0, 0, 0, 0, 0, 0, 0, 0, 0,...</td>\n",
       "      <td>[(275.0, 196.2), (274.8, 196.0), (274.8, 195.0...</td>\n",
       "      <td>0.000000</td>\n",
       "      <td>0</td>\n",
       "      <td>0</td>\n",
       "      <td>0</td>\n",
       "    </tr>\n",
       "    <tr>\n",
       "      <th>8</th>\n",
       "      <td>9</td>\n",
       "      <td>AM01</td>\n",
       "      <td>3</td>\n",
       "      <td>c(296.443939208984, 302.831817626953, 94.95553...</td>\n",
       "      <td>0.004596</td>\n",
       "      <td>600, 800</td>\n",
       "      <td>oYh5b0Ub01O2o^O]Oj?d0T@@i?b0U@@i?`0V@Ak??S@Cl?...</td>\n",
       "      <td>[[0, 0, 0, 0, 0, 0, 0, 0, 0, 0, 0, 0, 0, 0, 0,...</td>\n",
       "      <td>[(318.0, 393.2), (317.8, 393.0), (317.0, 392.2...</td>\n",
       "      <td>0.000000</td>\n",
       "      <td>0</td>\n",
       "      <td>0</td>\n",
       "      <td>0</td>\n",
       "    </tr>\n",
       "    <tr>\n",
       "      <th>9</th>\n",
       "      <td>10</td>\n",
       "      <td>AM01</td>\n",
       "      <td>3</td>\n",
       "      <td>c(187.845779418945, 247.705169677734, 95.04072...</td>\n",
       "      <td>0.004526</td>\n",
       "      <td>600, 800</td>\n",
       "      <td>Wjg36Rb0LX^O;da0&gt;N1O1N201M=^OgNm^O]1Pa08N1O1O1...</td>\n",
       "      <td>[[0, 0, 0, 0, 0, 0, 0, 0, 0, 0, 0, 0, 0, 0, 0,...</td>\n",
       "      <td>[(237.0, 323.2), (236.0, 323.2), (235.0, 323.2...</td>\n",
       "      <td>0.000000</td>\n",
       "      <td>0</td>\n",
       "      <td>0</td>\n",
       "      <td>0</td>\n",
       "    </tr>\n",
       "  </tbody>\n",
       "</table>\n",
       "</div>"
      ],
      "text/plain": [
       "   Unnamed: 0 image_id  category_id  \\\n",
       "0           1     AM01            2   \n",
       "1           2     AM01            2   \n",
       "2           3     AM01            2   \n",
       "3           4     AM01            2   \n",
       "4           5     AM01            2   \n",
       "5           6     AM01            1   \n",
       "6           7     AM01            3   \n",
       "7           8     AM01            1   \n",
       "8           9     AM01            3   \n",
       "9          10     AM01            3   \n",
       "\n",
       "                                                bbox     score      size  \\\n",
       "0  c(327.602905273438, 214.81462097168, 90.728515...  0.999060  600, 800   \n",
       "1  c(299.171142578125, 302.658966064453, 90.22628...  0.999009  600, 800   \n",
       "2  c(185.815979003906, 248.465698242188, 100.3563...  0.998865  600, 800   \n",
       "3  c(299.936767578125, 120.28108215332, 91.130065...  0.998543  600, 800   \n",
       "4  c(225.754974365234, 169.364074707031, 95.86196...  0.998312  600, 800   \n",
       "5  c(335.793518066406, 478.850341796875, 79.80645...  0.095649  600, 800   \n",
       "6  c(224.56965637207, 171.669479370117, 97.088119...  0.006887  600, 800   \n",
       "7  c(224.678573608398, 169.726150512695, 98.78157...  0.006461  600, 800   \n",
       "8  c(296.443939208984, 302.831817626953, 94.95553...  0.004596  600, 800   \n",
       "9  c(187.845779418945, 247.705169677734, 95.04072...  0.004526  600, 800   \n",
       "\n",
       "                                              counts  \\\n",
       "0  ]QX69]b03N3M2a^OG\\`0:c_OH[`0:b_OI\\`09`_OJ_`08^...   \n",
       "1  bTg5=Xb04N3M2M3N2O0P_O\\Ok?f0R@\\Om?e0R@\\Om?d0R@...   \n",
       "2  \\Wg3:Tb0=J4N2L9H5L2N2K6K4N2O1N2O1O000000000000...   \n",
       "3  mbg5:Xa0Jg_O;T`0Kh_O6U`01e_O1Z`01d_O0[`01d_O0[...   \n",
       "4  U]]4=Xb09H7I3N2N3M101M2O2N2N1O2N101N2O0O2O001N...   \n",
       "5  `i[61fb05L1O2N1O001OIe]O1[b00d]O1[b0Of]O1Yb0Og...   \n",
       "6  lo]44bb09H<C5L3N1N2N1O1N3N100O2N2M3N2O1O001N2O...   \n",
       "7  `fb44db002MoY21PfM1001N10`^O0X`00h_O1lN0Va0On_...   \n",
       "8  oYh5b0Ub01O2o^O]Oj?d0T@@i?b0U@@i?`0V@Ak??S@Cl?...   \n",
       "9  Wjg36Rb0LX^O;da0>N1O1N201M=^OgNm^O]1Pa08N1O1O1...   \n",
       "\n",
       "                                                mask  \\\n",
       "0  [[0, 0, 0, 0, 0, 0, 0, 0, 0, 0, 0, 0, 0, 0, 0,...   \n",
       "1  [[0, 0, 0, 0, 0, 0, 0, 0, 0, 0, 0, 0, 0, 0, 0,...   \n",
       "2  [[0, 0, 0, 0, 0, 0, 0, 0, 0, 0, 0, 0, 0, 0, 0,...   \n",
       "3  [[0, 0, 0, 0, 0, 0, 0, 0, 0, 0, 0, 0, 0, 0, 0,...   \n",
       "4  [[0, 0, 0, 0, 0, 0, 0, 0, 0, 0, 0, 0, 0, 0, 0,...   \n",
       "5  [[0, 0, 0, 0, 0, 0, 0, 0, 0, 0, 0, 0, 0, 0, 0,...   \n",
       "6  [[0, 0, 0, 0, 0, 0, 0, 0, 0, 0, 0, 0, 0, 0, 0,...   \n",
       "7  [[0, 0, 0, 0, 0, 0, 0, 0, 0, 0, 0, 0, 0, 0, 0,...   \n",
       "8  [[0, 0, 0, 0, 0, 0, 0, 0, 0, 0, 0, 0, 0, 0, 0,...   \n",
       "9  [[0, 0, 0, 0, 0, 0, 0, 0, 0, 0, 0, 0, 0, 0, 0,...   \n",
       "\n",
       "                                         predict_seg       iou  gt  gtcount  \\\n",
       "0  [(351.0, 293.2), (350.0, 293.2), (349.0, 293.2...  0.888031   1        6   \n",
       "1  [(321.0, 392.2), (320.0, 392.2), (319.0, 392.2...  0.898310   6        6   \n",
       "2  [(237.0, 324.2), (236.0, 324.2), (235.0, 324.2...  0.855088   5        6   \n",
       "3  [(318.0, 208.2), (317.0, 208.2), (316.0, 208.2...  0.887185   4        6   \n",
       "4  [(265.0, 241.2), (264.0, 241.2), (263.0, 241.2...  0.827696   3        6   \n",
       "5  [(397.0, 509.2), (396.0, 509.2), (395.0, 509.2...  0.000000   0        0   \n",
       "6  [(265.0, 240.2), (264.0, 240.2), (263.0, 240.2...  0.000000   0        0   \n",
       "7  [(275.0, 196.2), (274.8, 196.0), (274.8, 195.0...  0.000000   0        0   \n",
       "8  [(318.0, 393.2), (317.8, 393.0), (317.0, 392.2...  0.000000   0        0   \n",
       "9  [(237.0, 323.2), (236.0, 323.2), (235.0, 323.2...  0.000000   0        0   \n",
       "\n",
       "                                              gt_seg  \n",
       "0  [(351.8, 292.0), (352.0, 291.8), (353.0, 291.8...  \n",
       "1  [(325.8, 390.0), (326.0, 389.8), (327.0, 389.8...  \n",
       "2  [(236.8, 326.0), (237.0, 325.8), (237.8, 325.0...  \n",
       "3  [(318.8, 210.0), (319.0, 209.8), (319.8, 209.0...  \n",
       "4  [(268.8, 240.0), (269.0, 239.8), (270.0, 239.8...  \n",
       "5                                                  0  \n",
       "6                                                  0  \n",
       "7                                                  0  \n",
       "8                                                  0  \n",
       "9                                                  0  "
      ]
     },
     "execution_count": 73,
     "metadata": {},
     "output_type": "execute_result"
    }
   ],
   "source": [
    "predict.head(10)"
   ]
  },
  {
   "cell_type": "code",
   "execution_count": 74,
   "metadata": {},
   "outputs": [],
   "source": [
    "PRcal = predict[['image_id', 'category_id','score','iou','gt','gtcount',\"predict_seg\",\"gt_seg\"]]\n",
    "PRcal.to_csv(\"ite1/PRcal_withsegs.csv\")"
   ]
  },
  {
   "cell_type": "code",
   "execution_count": 27,
   "metadata": {},
   "outputs": [
    {
     "data": {
      "text/html": [
       "<div>\n",
       "<style scoped>\n",
       "    .dataframe tbody tr th:only-of-type {\n",
       "        vertical-align: middle;\n",
       "    }\n",
       "\n",
       "    .dataframe tbody tr th {\n",
       "        vertical-align: top;\n",
       "    }\n",
       "\n",
       "    .dataframe thead th {\n",
       "        text-align: right;\n",
       "    }\n",
       "</style>\n",
       "<table border=\"1\" class=\"dataframe\">\n",
       "  <thead>\n",
       "    <tr style=\"text-align: right;\">\n",
       "      <th></th>\n",
       "      <th>image_id</th>\n",
       "      <th>category_id</th>\n",
       "      <th>score</th>\n",
       "      <th>iou</th>\n",
       "      <th>gt</th>\n",
       "      <th>gtcount</th>\n",
       "    </tr>\n",
       "  </thead>\n",
       "  <tbody>\n",
       "    <tr>\n",
       "      <th>0</th>\n",
       "      <td>AM01</td>\n",
       "      <td>2</td>\n",
       "      <td>9.990602e-01</td>\n",
       "      <td>0.888031</td>\n",
       "      <td>1</td>\n",
       "      <td>6</td>\n",
       "    </tr>\n",
       "    <tr>\n",
       "      <th>1</th>\n",
       "      <td>AM01</td>\n",
       "      <td>2</td>\n",
       "      <td>9.990093e-01</td>\n",
       "      <td>0.898310</td>\n",
       "      <td>6</td>\n",
       "      <td>6</td>\n",
       "    </tr>\n",
       "    <tr>\n",
       "      <th>2</th>\n",
       "      <td>AM01</td>\n",
       "      <td>2</td>\n",
       "      <td>9.988652e-01</td>\n",
       "      <td>0.855088</td>\n",
       "      <td>5</td>\n",
       "      <td>6</td>\n",
       "    </tr>\n",
       "    <tr>\n",
       "      <th>3</th>\n",
       "      <td>AM01</td>\n",
       "      <td>2</td>\n",
       "      <td>9.985429e-01</td>\n",
       "      <td>0.887185</td>\n",
       "      <td>4</td>\n",
       "      <td>6</td>\n",
       "    </tr>\n",
       "    <tr>\n",
       "      <th>4</th>\n",
       "      <td>AM01</td>\n",
       "      <td>2</td>\n",
       "      <td>9.983121e-01</td>\n",
       "      <td>0.827696</td>\n",
       "      <td>3</td>\n",
       "      <td>6</td>\n",
       "    </tr>\n",
       "    <tr>\n",
       "      <th>...</th>\n",
       "      <td>...</td>\n",
       "      <td>...</td>\n",
       "      <td>...</td>\n",
       "      <td>...</td>\n",
       "      <td>...</td>\n",
       "      <td>...</td>\n",
       "    </tr>\n",
       "    <tr>\n",
       "      <th>5995</th>\n",
       "      <td>VA62_0</td>\n",
       "      <td>1</td>\n",
       "      <td>1.224226e-07</td>\n",
       "      <td>0.000000</td>\n",
       "      <td>239</td>\n",
       "      <td>4</td>\n",
       "    </tr>\n",
       "    <tr>\n",
       "      <th>5996</th>\n",
       "      <td>VA62_0</td>\n",
       "      <td>1</td>\n",
       "      <td>1.222264e-07</td>\n",
       "      <td>0.000000</td>\n",
       "      <td>239</td>\n",
       "      <td>4</td>\n",
       "    </tr>\n",
       "    <tr>\n",
       "      <th>5997</th>\n",
       "      <td>VA62_0</td>\n",
       "      <td>1</td>\n",
       "      <td>1.167613e-07</td>\n",
       "      <td>0.000000</td>\n",
       "      <td>239</td>\n",
       "      <td>4</td>\n",
       "    </tr>\n",
       "    <tr>\n",
       "      <th>5998</th>\n",
       "      <td>VA62_0</td>\n",
       "      <td>1</td>\n",
       "      <td>1.166519e-07</td>\n",
       "      <td>0.012475</td>\n",
       "      <td>238</td>\n",
       "      <td>4</td>\n",
       "    </tr>\n",
       "    <tr>\n",
       "      <th>5999</th>\n",
       "      <td>VA62_0</td>\n",
       "      <td>1</td>\n",
       "      <td>1.162216e-07</td>\n",
       "      <td>0.000000</td>\n",
       "      <td>239</td>\n",
       "      <td>4</td>\n",
       "    </tr>\n",
       "  </tbody>\n",
       "</table>\n",
       "<p>6000 rows × 6 columns</p>\n",
       "</div>"
      ],
      "text/plain": [
       "     image_id  category_id         score       iou   gt  gtcount\n",
       "0        AM01            2  9.990602e-01  0.888031    1        6\n",
       "1        AM01            2  9.990093e-01  0.898310    6        6\n",
       "2        AM01            2  9.988652e-01  0.855088    5        6\n",
       "3        AM01            2  9.985429e-01  0.887185    4        6\n",
       "4        AM01            2  9.983121e-01  0.827696    3        6\n",
       "...       ...          ...           ...       ...  ...      ...\n",
       "5995   VA62_0            1  1.224226e-07  0.000000  239        4\n",
       "5996   VA62_0            1  1.222264e-07  0.000000  239        4\n",
       "5997   VA62_0            1  1.167613e-07  0.000000  239        4\n",
       "5998   VA62_0            1  1.166519e-07  0.012475  238        4\n",
       "5999   VA62_0            1  1.162216e-07  0.000000  239        4\n",
       "\n",
       "[6000 rows x 6 columns]"
      ]
     },
     "execution_count": 27,
     "metadata": {},
     "output_type": "execute_result"
    }
   ],
   "source": [
    "PRcal"
   ]
  },
  {
   "cell_type": "code",
   "execution_count": null,
   "metadata": {},
   "outputs": [],
   "source": [
    "# !!!!!these are playground code to make above work and test if they are correct!!!!!"
   ]
  },
  {
   "cell_type": "code",
   "execution_count": null,
   "metadata": {},
   "outputs": [],
   "source": [
    "# gt.loc[(gt['category_id'] == 3) & (gt['image_id'] == 'AM05')] is per image per motif gt\n",
    "# predict.loc[(predict['category_id'] == 3) & (predict['image_id'] == 'AM05')] is per image per motif prediction\n",
    "# calculate iou on each prediction over each gt, in this case, 4 iou per prediction\n",
    "# keep the highest, and over [50%](maybe 40?) iou for a gt per prediction, others being fp\n",
    "# rank prediciton iou per gt, first being tp, others being fp"
   ]
  },
  {
   "cell_type": "code",
   "execution_count": 9,
   "metadata": {},
   "outputs": [
    {
     "data": {
      "text/plain": [
       "[0.0, 0.0, 0.0, 0.9295415959252971]"
      ]
     },
     "execution_count": 9,
     "metadata": {},
     "output_type": "execute_result"
    }
   ],
   "source": [
    "pmask0 = np.array(predict.loc[(predict['category_id'] == 3) & (predict['image_id'] == 'AM05')][\"mask\"][0], dtype=bool)\n",
    "pmask1 = np.array(predict.loc[(predict['category_id'] == 3) & (predict['image_id'] == 'AM05')][\"mask\"][1], dtype=bool)\n",
    "pmask2 = np.array(predict.loc[(predict['category_id'] == 3) & (predict['image_id'] == 'AM05')][\"mask\"][2], dtype=bool)\n",
    "pmask3 = np.array(predict.loc[(predict['category_id'] == 3) & (predict['image_id'] == 'AM05')][\"mask\"][3], dtype=bool)\n",
    "gmask0 = np.array(gt.loc[(gt['category_id'] == 3) & (gt['image_id'] == 'AM05')][\"mask\"][0], dtype=bool)\n",
    "gmask1 = np.array(gt.loc[(gt['category_id'] == 3) & (gt['image_id'] == 'AM05')][\"mask\"][1], dtype=bool)\n",
    "gmask2 = np.array(gt.loc[(gt['category_id'] == 3) & (gt['image_id'] == 'AM05')][\"mask\"][2], dtype=bool)\n",
    "gmask3 = np.array(gt.loc[(gt['category_id'] == 3) & (gt['image_id'] == 'AM05')][\"mask\"][3], dtype=bool)\n",
    "IOU = []\n",
    "for i in range(4):\n",
    "    moverlap = np.array(predict.loc[(predict['category_id'] == 3) & (predict['image_id'] == 'AM05')][\"mask\"][0], dtype=bool) * np.array(gt.loc[(gt['category_id'] == 3) & (gt['image_id'] == 'AM05')][\"mask\"][i], dtype=bool)\n",
    "    munion = np.array(predict.loc[(predict['category_id'] == 3) & (predict['image_id'] == 'AM05')][\"mask\"][0], dtype=bool) +np.array(gt.loc[(gt['category_id'] == 3) & (gt['image_id'] == 'AM05')][\"mask\"][i], dtype=bool)\n",
    "    mIOU = moverlap.sum()/float(munion.sum())\n",
    "    IOU.append(mIOU)\n",
    "IOU\n"
   ]
  },
  {
   "cell_type": "code",
   "execution_count": 26,
   "metadata": {},
   "outputs": [
    {
     "name": "stdout",
     "output_type": "stream",
     "text": [
      "predict\n"
     ]
    },
    {
     "data": {
      "image/png": "[encoded data removed]",
      "text/plain": [
       "<Figure size 432x288 with 1 Axes>"
      ]
     },
     "metadata": {
      "needs_background": "light"
     },
     "output_type": "display_data"
    }
   ],
   "source": [
    "plt.imshow(gmask1, alpha=.3,cmap='gray')\n",
    "plt.imshow(pmask1, alpha=.3,cmap='gray')\n",
    "plt.xlim(200,320)\n",
    "plt.ylim(440,320)\n",
    "print(\"predict\")"
   ]
  },
  {
   "cell_type": "code",
   "execution_count": 16,
   "metadata": {},
   "outputs": [
    {
     "name": "stdout",
     "output_type": "stream",
     "text": [
      "predict\n"
     ]
    },
    {
     "data": {
      "image/png": "[encoded data removed]",
      "text/plain": [
       "<Figure size 432x288 with 1 Axes>"
      ]
     },
     "metadata": {
      "needs_background": "light"
     },
     "output_type": "display_data"
    }
   ],
   "source": [
    "plt.imshow(pmask1, alpha=1)\n",
    "plt.xlim(200,320)\n",
    "plt.ylim(440,320)\n",
    "print(\"predict\")"
   ]
  },
  {
   "cell_type": "code",
   "execution_count": 13,
   "metadata": {},
   "outputs": [
    {
     "name": "stdout",
     "output_type": "stream",
     "text": [
      "ground truth:\n",
      "[ 0  0  0  0  0  0  0  0  0  0  0  0  0  0  0  0  0  0  0  0  0  0  0  0\n",
      "  0  0  0  0  0  0  0  0  0  0  0  0  0  0  0  0  0  0  0  0  0  0  0  0\n",
      "  0  0  0  0  0  0  0  0  0  0  0  0  0  0  0  0  0  0  0  0  0  0  0  0\n",
      "  0  0  0  0  0  0  0  0  0  0  0  0  0  0  0  0  0  0  0  0  0  0  0  0\n",
      "  0  0  0  0  0  0  0  0  0  0  0  0  0  0  0  0  0  0  0  0  0  0  0  0\n",
      "  0  0  0  0  0  0  0  0  0  0  0  0  0  0  0  0  0  0  0  0  0  0  0  0\n",
      "  0  0  0  0  0  0  0  0  0  0  0  0  0  0  0  0  0  0  0  0  0  0  0  0\n",
      "  0  0  0  0  0  0  0  0  0  0  0  0  0  0  0  0  0  0  0  0  0  0  0  0\n",
      "  0  0  0  0  0  0  0  0  0  0  0  0  0  0  0  0  0  0  0  0  0  0  0  0\n",
      "  0  0  0  0  0  0  0  0  0  0  0  0  0  0  0  0  0  0  0  0  0  0  0  0\n",
      "  0  0  0  0  0  0  0  0  0  0  0  9 15 20 22 25 28 30 32 34 36 38 40 41\n",
      " 42 45 46 47 48 48 50 51 52 51 52 52 53 55 56 58 60 61 63 69 69 70 69 68\n",
      " 66 54 53 51 47 45 44 32 31 20 19 16 14 13 13 13 11 10  9  8  5  0  0  0\n",
      "  0  0  0  0  0  0  0  0  0  0  0  0  0  0  0  0  0  0  0  0  0  0  0  0\n",
      "  0  0  0  0  0  0  0  0  0  0  0  0  0  0  0  0  0  0  0  0  0  0  0  0\n",
      "  0  0  0  0  0  0  0  0  0  0  0  0  0  0  0  0  0  0  0  0  0  0  0  0\n",
      "  0  0  0  0  0  0  0  0  0  0  0  0  0  0  0  0  0  0  0  0  0  0  0  0\n",
      "  0  0  0  0  0  0  0  0  0  0  0  0  0  0  0  0  0  0  0  0  0  0  0  0\n",
      "  0  0  0  0  0  0  0  0  0  0  0  0  0  0  0  0  0  0  0  0  0  0  0  0\n",
      "  0  0  0  0  0  0  0  0  0  0  0  0  0  0  0  0  0  0  0  0  0  0  0  0\n",
      "  0  0  0  0  0  0  0  0  0  0  0  0  0  0  0  0  0  0  0  0  0  0  0  0\n",
      "  0  0  0  0  0  0  0  0  0  0  0  0  0  0  0  0  0  0  0  0  0  0  0  0\n",
      "  0  0  0  0  0  0  0  0  0  0  0  0  0  0  0  0  0  0  0  0  0  0  0  0\n",
      "  0  0  0  0  0  0  0  0  0  0  0  0  0  0  0  0  0  0  0  0  0  0  0  0\n",
      "  0  0  0  0  0  0  0  0  0  0  0  0  0  0  0  0  0  0  0  0  0  0  0  0\n",
      "  0  0  0  0  0  0  0  0  0  0  0  0  0  0  0  0  0  0  0  0  0  0  0  0\n",
      "  0  0  0  0  0  0  0  0  0  0  0  0  0  0  0  0  0  0  0  0  0  0  0  0\n",
      "  0  0  0  0  0  0  0  0  0  0  0  0  0  0  0  0  0  0  0  0  0  0  0  0\n",
      "  0  0  0  0  0  0  0  0  0  0  0  0  0  0  0  0  0  0  0  0  0  0  0  0\n",
      "  0  0  0  0  0  0  0  0  0  0  0  0  0  0  0  0  0  0  0  0  0  0  0  0\n",
      "  0  0  0  0  0  0  0  0  0  0  0  0  0  0  0  0  0  0  0  0  0  0  0  0\n",
      "  0  0  0  0  0  0  0  0  0  0  0  0  0  0  0  0  0  0  0  0  0  0  0  0\n",
      "  0  0  0  0  0  0  0  0  0  0  0  0  0  0  0  0  0  0  0  0  0  0  0  0\n",
      "  0  0  0  0  0  0  0  0]\n",
      "predict:\n",
      "[ 0  0  0  0  0  0  0  0  0  0  0  0  0  0  0  0  0  0  0  0  0  0  0  0\n",
      "  0  0  0  0  0  0  0  0  0  0  0  0  0  0  0  0  0  0  0  0  0  0  0  0\n",
      "  0  0  0  0  0  0  0  0  0  0  0  0  0  0  0  0  0  0  0  0  0  0  0  0\n",
      "  0  0  0  0  0  0  0  0  0  0  0  0  0  0  0  0  0  0  0  0  0  0  0  0\n",
      "  0  0  0  0  0  0  0  0  0  0  0  0  0  0  0  0  0  0  0  0  0  0  0  0\n",
      "  0  0  0  0  0  0  0  0  0  0  0  0  0  0  0  0  0  0  0  0  0  0  0  0\n",
      "  0  0  0  0  0  0  0  0  0  0  0  0  0  0  0  0  0  0  0  0  0  0  0  0\n",
      "  0  0  0  0  0  0  0  0  0  0  0  0  0  0  0  0  0  0  0  0  0  0  0  0\n",
      "  0  0  0  0  0  0  0  0  0  0  0  0  0  0  0  0  0  0  0  0  0  0  0  0\n",
      "  0  0  0  0  0  0  0  0  0  0  0  0  0  0  0  0  0  0  0  0  0  0  0  0\n",
      "  0  0  0  0  0  0  0  0  0  0  0  0  0  0  0  0  0  0  0  0  0  0  0  0\n",
      "  0  0  0  0  0  0  0  0  0  0  0  0  0  0  0  0  0  0  0  0  0  0  0  0\n",
      "  0  0  0  0  0  0  0  0  0  0  0  0  0  0  0  0  0  0  0  0  0  0  0  0\n",
      "  0  0  0  0  0  0  0  0  0  0  0  0  0  0  0  0  0  0  0  0  0  0  0  0\n",
      "  0  0  0  0  0  0  0  0  0  0  0  0  0  0  0  0  0  0  0  0  0  0  0  0\n",
      "  0  0  0  0  0  0  0  0  0  0  0  0  0  0  0  0  0  0  0  0  0  0  0  0\n",
      "  0  0  0  0  0  0  0  0  0  0  0  0  0  0  0  0  0  0  0  0  0  0  0  0\n",
      "  0  0  0  0  0  0  0  0  0  0  0  0  0  0  0  0  0  0  0  0  0  0  0  0\n",
      "  0  0  0  0  0  0  0  0  0  0  0  0  0  0  0  0  0  0  0  0  0  0  0  0\n",
      "  0  0  0  0  0  0  0  0  0  0  0  0  0  0  0  0  0  0  0  0  0  0  0  0\n",
      "  0  0  0  0  0  0  0  0  0  0  0  0  0  0  0  0  0  0  0  0  0  0  0  0\n",
      "  0  0  0  0  0  0  0  0  0  0  0  0  0 14 24 38 47 62 68 69 70 71 72 72\n",
      " 70 70 71 71 69 70 69 68 67 68 68 69 69 67 62 60 57 55 54 53 49 46 43 41\n",
      " 39 35 33 28 24 19  0  0  0  0  0  0  0  0  0  0  0  0  0  0  0  0  0  0\n",
      "  0  0  0  0  0  0  0  0  0  0  0  0  0  0  0  0  0  0  0  0  0  0  0  0\n",
      "  0  0  0  0  0  0  0  0  0  0  0  0  0  0  0  0  0  0  0  0  0  0  0  0\n",
      "  0  0  0  0  0  0  0  0  0  0  0  0  0  0  0  0  0  0  0  0  0  0  0  0\n",
      "  0  0  0  0  0  0  0  0  0  0  0  0  0  0  0  0  0  0  0  0  0  0  0  0\n",
      "  0  0  0  0  0  0  0  0  0  0  0  0  0  0  0  0  0  0  0  0  0  0  0  0\n",
      "  0  0  0  0  0  0  0  0  0  0  0  0  0  0  0  0  0  0  0  0  0  0  0  0\n",
      "  0  0  0  0  0  0  0  0  0  0  0  0  0  0  0  0  0  0  0  0  0  0  0  0\n",
      "  0  0  0  0  0  0  0  0  0  0  0  0  0  0  0  0  0  0  0  0  0  0  0  0\n",
      "  0  0  0  0  0  0  0  0  0  0  0  0  0  0  0  0  0  0  0  0  0  0  0  0\n",
      "  0  0  0  0  0  0  0  0]\n"
     ]
    }
   ],
   "source": [
    "print(\"ground truth:\")\n",
    "print(sum(gmask1))\n",
    "print(\"predict:\")\n",
    "print(sum(pmask0))"
   ]
  },
  {
   "cell_type": "code",
   "execution_count": null,
   "metadata": {},
   "outputs": [],
   "source": [
    "print(\"overlap:\")\n",
    "print(sum(overlap))\n",
    "print(\"union:\")\n",
    "print(sum(union))"
   ]
  },
  {
   "cell_type": "code",
   "execution_count": null,
   "metadata": {},
   "outputs": [],
   "source": [
    "import numpy as np\n",
    "c1 = np.array([[0,0,0,1,1,0],[0,0,0,1,1,0],[0,0,0,1,1,0]], dtype=bool)\n",
    "c2 = np.array([[0,0,1,1,0,0],[0,0,1,1,0,0],[0,0,1,1,0,0]], dtype=bool)\n",
    "\n",
    "o = component1*component2 # Logical AND\n",
    "u = component1 + component2 # Logical OR\n",
    "\n",
    "iouscore = o.sum()/float(u.sum()) # Treats \"True\" as 1,\n",
    "                                       # sums number of Trues\n",
    "                                       # in overlap and union\n",
    "                                       # and divides\n",
    "print(1*c1)\n",
    "print(1*c2)\n",
    "print(\"---------------\")\n",
    "print(1*o)\n",
    "print(1*u)\n",
    "print(iouscore)"
   ]
  },
  {
   "cell_type": "code",
   "execution_count": null,
   "metadata": {},
   "outputs": [],
   "source": []
  }
 ],
 "metadata": {
  "kernelspec": {
   "display_name": "Python 3",
   "language": "python",
   "name": "python3"
  },
  "language_info": {
   "codemirror_mode": {
    "name": "ipython",
    "version": 3
   },
   "file_extension": ".py",
   "mimetype": "text/x-python",
   "name": "python",
   "nbconvert_exporter": "python",
   "pygments_lexer": "ipython3",
   "version": "3.7.3"
  }
 },
 "nbformat": 4,
 "nbformat_minor": 4
}
