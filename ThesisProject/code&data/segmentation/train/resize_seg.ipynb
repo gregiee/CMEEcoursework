{
 "cells": [
  {
   "cell_type": "markdown",
   "metadata": {},
   "source": [
    "### Aims:\n",
    "\n",
    "The aim is here to get the outline contour of a shell from an image (jpg or png usually). \n",
    "\n",
    "To do this we are using the Marching Squares Method from skimage.\n",
    "\n",
    "If there are multiple shells (or shell views) in one image, then we can specify which shell we're after by using \"right\" or \"left\" in the position parameter of the the function __get_outline_contour__. If there's only one image, you could shorten the processing time by writing \"longest\" - this will simply give you the longest contour found in the image, which tends to be the outline contour we are looking for.\n",
    "\n",
    "It is possible that due to certain patterns on the shell (or other circumstances) that the longest contours are not simply of the outline of the shell, but they might feed into the shell too. For these pots, it might be worth editing the image in some way, before finding the contours. To solve this, we'll create a function called __binarize_shell__. This function will work well with images with very dark backgrounds. It will turn the background white, whilst turning everything else black, with the hope that shell will then be better seen."
   ]
  },
  {
   "cell_type": "markdown",
   "metadata": {},
   "source": [
    "#### Imports"
   ]
  },
  {
   "cell_type": "code",
   "execution_count": 1,
   "metadata": {},
   "outputs": [],
   "source": [
    "import matplotlib.pyplot as plt\n",
    "import numpy as np\n",
    "from skimage.filters import threshold_otsu\n",
    "from skimage import measure\n",
    "import os\n",
    "import itertools as it\n",
    "import csv\n",
    "from skimage import data, img_as_float,io\n",
    "from copy import deepcopy\n",
    "from skimage.transform import rescale, resize"
   ]
  },
  {
   "cell_type": "markdown",
   "metadata": {},
   "source": [
    "#### Functions"
   ]
  },
  {
   "cell_type": "code",
   "execution_count": 2,
   "metadata": {},
   "outputs": [],
   "source": [
    "def get_outline_contour(img,position):\n",
    "    # Input: grey-scaled image of shell, position of shell in image e.g. left,right, or \"longest\" for longest contour. \n",
    "    # Output: contour of desired shell.\n",
    "    # Note: if there's only one shell in the image, use position=\"longest\".\n",
    "    \n",
    "    # Get all contours:\n",
    "    thresh = threshold_otsu(img)\n",
    "    binary = img > thresh\n",
    "    cont = measure.find_contours(binary, 0.8)\n",
    "    \n",
    "    # Compute lengths of contours:\n",
    "    cont_ln = []\n",
    "    for n, contour in enumerate(cont):\n",
    "        cont_ln.append(len(contour))\n",
    "        \n",
    "    if position == \"longest\":\n",
    "        k = np.argmax(cont_ln)\n",
    "        contour = cont[k]\n",
    "    \n",
    "    else:\n",
    "        # Find longest contours:\n",
    "        longest_c = sorted(cont_ln,reverse=True)[:2] # Assuming there are no more than 2 shell views in one image\n",
    "        long_ind = []\n",
    "        minx = []\n",
    "        for i in range(0,len(cont_ln)):\n",
    "            if cont_ln[i] in longest_c:\n",
    "                long_ind.append(i)\n",
    "                c = cont[i]\n",
    "                x = c[:,1]\n",
    "                minx.append(min(x))\n",
    "\n",
    "        if \"left\" in position:\n",
    "            contour = cont[long_ind[np.argmin(minx)]]\n",
    "        else:\n",
    "            # if we're looking for the right-most contour\n",
    "            contour = cont[long_ind[np.argmax(minx)]]        \n",
    "            \n",
    "    return contour\n",
    "\n",
    "def binarize_shell(img):\n",
    "    # Input: coloured image\n",
    "    # Output: edited image that has either black or white pixels.\n",
    "    \n",
    "    # 1) Get image size\n",
    "    ###################\n",
    "    x_len = len(img[0])\n",
    "    y_len = len(img)\n",
    "    img2 = deepcopy(img)\n",
    "\n",
    "    # 2) Binarize image\n",
    "    ###################\n",
    "    # Pixels that are not white will be turned black, all other pixels will be turned white.\n",
    "    for i in range(0,y_len):\n",
    "        for j in range(0,x_len):\n",
    "            if sum(img[i][j]) <= 755:\n",
    "                img2[i][j] = [0,0,0]\n",
    "            else:\n",
    "                img2[i][j] = [255,255,255]\n",
    "\n",
    "\n",
    "    return img2"
   ]
  },
  {
   "cell_type": "markdown",
   "metadata": {},
   "source": [
    "#### Automating and Saving Contours"
   ]
  },
  {
   "cell_type": "code",
   "execution_count": null,
   "metadata": {
    "scrolled": true
   },
   "outputs": [
    {
     "name": "stdout",
     "output_type": "stream",
     "text": [
      "BM60_0011_c.jpg\n",
      "GULB11_3_0000_c.jpg\n"
     ]
    },
    {
     "name": "stderr",
     "output_type": "stream",
     "text": [
      "/Users/yuchen/Library/Python/3.7/lib/python/site-packages/ipykernel_launcher.py:20: UserWarning: backup/seg_s//GULB11_3_0000_c.jpg is a low contrast image\n"
     ]
    },
    {
     "name": "stdout",
     "output_type": "stream",
     "text": [
      "LACMA02_0000_c.jpg\n"
     ]
    },
    {
     "name": "stderr",
     "output_type": "stream",
     "text": [
      "/Users/yuchen/Library/Python/3.7/lib/python/site-packages/ipykernel_launcher.py:20: UserWarning: backup/seg_s//LACMA02_0000_c.jpg is a low contrast image\n"
     ]
    },
    {
     "name": "stdout",
     "output_type": "stream",
     "text": [
      "LOU15_0001_t.jpg\n",
      "VA62_2_0002_s.jpg\n"
     ]
    },
    {
     "name": "stderr",
     "output_type": "stream",
     "text": [
      "/Users/yuchen/Library/Python/3.7/lib/python/site-packages/ipykernel_launcher.py:20: UserWarning: backup/seg_s//VA62_2_0002_s.jpg is a low contrast image\n",
      "/Users/yuchen/Library/Python/3.7/lib/python/site-packages/ipykernel_launcher.py:20: UserWarning: backup/seg_s//BEN04_0011_t.jpg is a low contrast image\n"
     ]
    },
    {
     "name": "stdout",
     "output_type": "stream",
     "text": [
      "BEN04_0011_t.jpg\n",
      "VA01_1_0017_s.jpg\n"
     ]
    },
    {
     "name": "stderr",
     "output_type": "stream",
     "text": [
      "/Users/yuchen/Library/Python/3.7/lib/python/site-packages/ipykernel_launcher.py:20: UserWarning: backup/seg_s//VA01_1_0017_s.jpg is a low contrast image\n",
      "/Users/yuchen/Library/Python/3.7/lib/python/site-packages/ipykernel_launcher.py:20: UserWarning: backup/seg_s//BM51_0004_s.jpg is a low contrast image\n"
     ]
    },
    {
     "name": "stdout",
     "output_type": "stream",
     "text": [
      "BM51_0004_s.jpg\n",
      "KOC32_0007_s.jpg\n"
     ]
    },
    {
     "name": "stderr",
     "output_type": "stream",
     "text": [
      "/Users/yuchen/Library/Python/3.7/lib/python/site-packages/ipykernel_launcher.py:20: UserWarning: backup/seg_s//KOC32_0007_s.jpg is a low contrast image\n",
      "/Users/yuchen/Library/Python/3.7/lib/python/site-packages/ipykernel_launcher.py:20: UserWarning: backup/seg_s//MK11_0000_s.jpg is a low contrast image\n"
     ]
    },
    {
     "name": "stdout",
     "output_type": "stream",
     "text": [
      "MK11_0000_s.jpg\n",
      "VA30_0007_s.jpg\n"
     ]
    },
    {
     "name": "stderr",
     "output_type": "stream",
     "text": [
      "/Users/yuchen/Library/Python/3.7/lib/python/site-packages/ipykernel_launcher.py:20: UserWarning: backup/seg_s//VA30_0007_s.jpg is a low contrast image\n",
      "/Users/yuchen/Library/Python/3.7/lib/python/site-packages/ipykernel_launcher.py:20: UserWarning: backup/seg_s//BM53_0018_t.jpg is a low contrast image\n"
     ]
    },
    {
     "name": "stdout",
     "output_type": "stream",
     "text": [
      "BM53_0018_t.jpg\n",
      "TLCM24_0004_t.jpg\n"
     ]
    },
    {
     "name": "stderr",
     "output_type": "stream",
     "text": [
      "/Users/yuchen/Library/Python/3.7/lib/python/site-packages/ipykernel_launcher.py:20: UserWarning: backup/seg_s//TLCM24_0004_t.jpg is a low contrast image\n"
     ]
    },
    {
     "name": "stdout",
     "output_type": "stream",
     "text": [
      "KOC10_1_0002_s.jpg\n",
      "GULB07_0028_s.jpg\n"
     ]
    },
    {
     "name": "stderr",
     "output_type": "stream",
     "text": [
      "/Users/yuchen/Library/Python/3.7/lib/python/site-packages/ipykernel_launcher.py:20: UserWarning: backup/seg_s//GULB07_0028_s.jpg is a low contrast image\n"
     ]
    },
    {
     "name": "stdout",
     "output_type": "stream",
     "text": [
      "GULB02_0017_t.jpg\n"
     ]
    },
    {
     "name": "stderr",
     "output_type": "stream",
     "text": [
      "/Users/yuchen/Library/Python/3.7/lib/python/site-packages/ipykernel_launcher.py:20: UserWarning: backup/seg_s//GULB02_0017_t.jpg is a low contrast image\n"
     ]
    },
    {
     "name": "stdout",
     "output_type": "stream",
     "text": [
      "IPOT23_0000_t.jpg\n"
     ]
    },
    {
     "name": "stderr",
     "output_type": "stream",
     "text": [
      "/Users/yuchen/Library/Python/3.7/lib/python/site-packages/ipykernel_launcher.py:20: UserWarning: backup/seg_s//IPOT23_0000_t.jpg is a low contrast image\n"
     ]
    },
    {
     "name": "stdout",
     "output_type": "stream",
     "text": [
      "KOC03_0012_c.jpg\n"
     ]
    },
    {
     "name": "stderr",
     "output_type": "stream",
     "text": [
      "/Users/yuchen/Library/Python/3.7/lib/python/site-packages/ipykernel_launcher.py:20: UserWarning: backup/seg_s//KOC03_0012_c.jpg is a low contrast image\n",
      "/Users/yuchen/Library/Python/3.7/lib/python/site-packages/ipykernel_launcher.py:20: UserWarning: backup/seg_s//MET28_0001_t.jpg is a low contrast image\n"
     ]
    },
    {
     "name": "stdout",
     "output_type": "stream",
     "text": [
      "MET28_0001_t.jpg\n",
      "GULB11_3_0000_t.jpg\n"
     ]
    },
    {
     "name": "stderr",
     "output_type": "stream",
     "text": [
      "/Users/yuchen/Library/Python/3.7/lib/python/site-packages/ipykernel_launcher.py:20: UserWarning: backup/seg_s//GULB11_3_0000_t.jpg is a low contrast image\n"
     ]
    },
    {
     "name": "stdout",
     "output_type": "stream",
     "text": [
      "IPOT03_0_0002_t.jpg\n"
     ]
    },
    {
     "name": "stderr",
     "output_type": "stream",
     "text": [
      "/Users/yuchen/Library/Python/3.7/lib/python/site-packages/ipykernel_launcher.py:20: UserWarning: backup/seg_s//IPOT03_0_0002_t.jpg is a low contrast image\n"
     ]
    },
    {
     "name": "stdout",
     "output_type": "stream",
     "text": [
      "KOC19_0001_t.jpg\n",
      "GULB06_0_0000_t.jpg\n",
      "IPOT14_3_0002_t.jpg\n"
     ]
    },
    {
     "name": "stderr",
     "output_type": "stream",
     "text": [
      "/Users/yuchen/Library/Python/3.7/lib/python/site-packages/ipykernel_launcher.py:20: UserWarning: backup/seg_s//IPOT14_3_0002_t.jpg is a low contrast image\n"
     ]
    },
    {
     "name": "stdout",
     "output_type": "stream",
     "text": [
      "VA07_0007_s.jpg\n"
     ]
    },
    {
     "name": "stderr",
     "output_type": "stream",
     "text": [
      "/Users/yuchen/Library/Python/3.7/lib/python/site-packages/ipykernel_launcher.py:20: UserWarning: backup/seg_s//VA07_0007_s.jpg is a low contrast image\n"
     ]
    },
    {
     "name": "stdout",
     "output_type": "stream",
     "text": [
      "LACMA05_0023_t.jpg\n"
     ]
    },
    {
     "name": "stderr",
     "output_type": "stream",
     "text": [
      "/Users/yuchen/Library/Python/3.7/lib/python/site-packages/ipykernel_launcher.py:20: UserWarning: backup/seg_s//LACMA05_0023_t.jpg is a low contrast image\n"
     ]
    },
    {
     "name": "stdout",
     "output_type": "stream",
     "text": [
      "AM06_0005_t.jpg\n",
      "IPOT09_2_0000_s.jpg\n",
      "VA07_2_0000_t.jpg\n",
      "GULB11_0016_t.jpg\n"
     ]
    },
    {
     "name": "stderr",
     "output_type": "stream",
     "text": [
      "/Users/yuchen/Library/Python/3.7/lib/python/site-packages/ipykernel_launcher.py:20: UserWarning: backup/seg_s//GULB11_0016_t.jpg is a low contrast image\n"
     ]
    },
    {
     "name": "stdout",
     "output_type": "stream",
     "text": [
      "VA02_1_0006_s.jpg\n",
      "MK06_0008_s.jpg\n",
      "KOC54_0011_t.jpg\n"
     ]
    },
    {
     "name": "stderr",
     "output_type": "stream",
     "text": [
      "/Users/yuchen/Library/Python/3.7/lib/python/site-packages/ipykernel_launcher.py:20: UserWarning: backup/seg_s//KOC54_0011_t.jpg is a low contrast image\n",
      "/Users/yuchen/Library/Python/3.7/lib/python/site-packages/ipykernel_launcher.py:20: UserWarning: backup/seg_s//VA23_0006_s.jpg is a low contrast image\n"
     ]
    },
    {
     "name": "stdout",
     "output_type": "stream",
     "text": [
      "VA23_0006_s.jpg\n",
      "KOC49_0021_t.jpg\n"
     ]
    },
    {
     "name": "stderr",
     "output_type": "stream",
     "text": [
      "/Users/yuchen/Library/Python/3.7/lib/python/site-packages/ipykernel_launcher.py:20: UserWarning: backup/seg_s//KOC49_0021_t.jpg is a low contrast image\n"
     ]
    },
    {
     "name": "stdout",
     "output_type": "stream",
     "text": [
      "VA30_0_0001_s.jpg\n"
     ]
    },
    {
     "name": "stderr",
     "output_type": "stream",
     "text": [
      "/Users/yuchen/Library/Python/3.7/lib/python/site-packages/ipykernel_launcher.py:20: UserWarning: backup/seg_s//VA30_0_0001_s.jpg is a low contrast image\n",
      "/Users/yuchen/Library/Python/3.7/lib/python/site-packages/ipykernel_launcher.py:20: UserWarning: backup/seg_s//MET17_0025_s.jpg is a low contrast image\n"
     ]
    },
    {
     "name": "stdout",
     "output_type": "stream",
     "text": [
      "MET17_0025_s.jpg\n",
      "KOC58_0_0000_c.jpg\n",
      "IPOT04_2_0001_c.jpg\n",
      "IPOT07_0001_c.jpg\n"
     ]
    },
    {
     "name": "stderr",
     "output_type": "stream",
     "text": [
      "/Users/yuchen/Library/Python/3.7/lib/python/site-packages/ipykernel_launcher.py:20: UserWarning: backup/seg_s//IPOT07_0001_c.jpg is a low contrast image\n"
     ]
    },
    {
     "name": "stdout",
     "output_type": "stream",
     "text": [
      "MET43_2_0000_c.jpg\n",
      "KOC65_0004_s.jpg\n"
     ]
    },
    {
     "name": "stderr",
     "output_type": "stream",
     "text": [
      "/Users/yuchen/Library/Python/3.7/lib/python/site-packages/ipykernel_launcher.py:20: UserWarning: backup/seg_s//KOC65_0004_s.jpg is a low contrast image\n"
     ]
    },
    {
     "name": "stdout",
     "output_type": "stream",
     "text": [
      "IPOT30_0001_c.jpg\n"
     ]
    },
    {
     "name": "stderr",
     "output_type": "stream",
     "text": [
      "/Users/yuchen/Library/Python/3.7/lib/python/site-packages/ipykernel_launcher.py:20: UserWarning: backup/seg_s//IPOT30_0001_c.jpg is a low contrast image\n"
     ]
    },
    {
     "name": "stdout",
     "output_type": "stream",
     "text": [
      "KOC79_0002_t.jpg\n"
     ]
    },
    {
     "name": "stderr",
     "output_type": "stream",
     "text": [
      "/Users/yuchen/Library/Python/3.7/lib/python/site-packages/ipykernel_launcher.py:20: UserWarning: backup/seg_s//KOC79_0002_t.jpg is a low contrast image\n"
     ]
    },
    {
     "name": "stdout",
     "output_type": "stream",
     "text": [
      "FMC01_0001_s.jpg\n",
      "KOC58_0_0000_t.jpg\n",
      "VA14_0006_s.jpg\n"
     ]
    },
    {
     "name": "stderr",
     "output_type": "stream",
     "text": [
      "/Users/yuchen/Library/Python/3.7/lib/python/site-packages/ipykernel_launcher.py:20: UserWarning: backup/seg_s//VA14_0006_s.jpg is a low contrast image\n"
     ]
    },
    {
     "name": "stdout",
     "output_type": "stream",
     "text": [
      "VA08_0000_t.jpg\n"
     ]
    },
    {
     "name": "stderr",
     "output_type": "stream",
     "text": [
      "/Users/yuchen/Library/Python/3.7/lib/python/site-packages/ipykernel_launcher.py:20: UserWarning: backup/seg_s//VA08_0000_t.jpg is a low contrast image\n"
     ]
    },
    {
     "name": "stdout",
     "output_type": "stream",
     "text": [
      "LACMA05_1_0008_t.jpg\n"
     ]
    },
    {
     "name": "stderr",
     "output_type": "stream",
     "text": [
      "/Users/yuchen/Library/Python/3.7/lib/python/site-packages/ipykernel_launcher.py:20: UserWarning: backup/seg_s//LACMA05_1_0008_t.jpg is a low contrast image\n"
     ]
    },
    {
     "name": "stdout",
     "output_type": "stream",
     "text": [
      "VA30_2_0002_s.jpg\n"
     ]
    },
    {
     "name": "stderr",
     "output_type": "stream",
     "text": [
      "/Users/yuchen/Library/Python/3.7/lib/python/site-packages/ipykernel_launcher.py:20: UserWarning: backup/seg_s//VA30_2_0002_s.jpg is a low contrast image\n"
     ]
    },
    {
     "name": "stdout",
     "output_type": "stream",
     "text": [
      "BM18_0002_c.jpg\n",
      "VA35_1_0004_t.jpg\n"
     ]
    },
    {
     "name": "stderr",
     "output_type": "stream",
     "text": [
      "/Users/yuchen/Library/Python/3.7/lib/python/site-packages/ipykernel_launcher.py:20: UserWarning: backup/seg_s//VA35_1_0004_t.jpg is a low contrast image\n",
      "/Users/yuchen/Library/Python/3.7/lib/python/site-packages/ipykernel_launcher.py:20: UserWarning: backup/seg_s//BM40_0006_s.jpg is a low contrast image\n",
      "/Users/yuchen/Library/Python/3.7/lib/python/site-packages/ipykernel_launcher.py:20: UserWarning: backup/seg_s//MET14_0055_t.jpg is a low contrast image\n",
      "/Users/yuchen/Library/Python/3.7/lib/python/site-packages/ipykernel_launcher.py:20: UserWarning: backup/seg_s//BEN09_0015_s.jpg is a low contrast image\n"
     ]
    },
    {
     "name": "stdout",
     "output_type": "stream",
     "text": [
      "BM40_0006_s.jpg\n",
      "MET14_0055_t.jpg\n",
      "BEN09_0015_s.jpg\n",
      "GULB11_0009_s.jpg\n"
     ]
    },
    {
     "name": "stderr",
     "output_type": "stream",
     "text": [
      "/Users/yuchen/Library/Python/3.7/lib/python/site-packages/ipykernel_launcher.py:20: UserWarning: backup/seg_s//GULB11_0009_s.jpg is a low contrast image\n"
     ]
    },
    {
     "name": "stdout",
     "output_type": "stream",
     "text": [
      "NMS03_1_0000_t.jpg\n"
     ]
    },
    {
     "name": "stderr",
     "output_type": "stream",
     "text": [
      "/Users/yuchen/Library/Python/3.7/lib/python/site-packages/ipykernel_launcher.py:20: UserWarning: backup/seg_s//NMS03_1_0000_t.jpg is a low contrast image\n",
      "/Users/yuchen/Library/Python/3.7/lib/python/site-packages/ipykernel_launcher.py:20: UserWarning: backup/seg_s//LOU10_2013_t.jpg is a low contrast image\n"
     ]
    },
    {
     "name": "stdout",
     "output_type": "stream",
     "text": [
      "LOU10_2013_t.jpg\n",
      "GULB09_0006_t.jpg\n"
     ]
    },
    {
     "name": "stderr",
     "output_type": "stream",
     "text": [
      "/Users/yuchen/Library/Python/3.7/lib/python/site-packages/ipykernel_launcher.py:20: UserWarning: backup/seg_s//GULB09_0006_t.jpg is a low contrast image\n",
      "/Users/yuchen/Library/Python/3.7/lib/python/site-packages/ipykernel_launcher.py:20: UserWarning: backup/seg_s//MET14_0010_t.jpg is a low contrast image\n",
      "/Users/yuchen/Library/Python/3.7/lib/python/site-packages/ipykernel_launcher.py:20: UserWarning: backup/seg_s//VA52_0007_s.jpg is a low contrast image\n"
     ]
    },
    {
     "name": "stdout",
     "output_type": "stream",
     "text": [
      "MET14_0010_t.jpg\n",
      "VA52_0007_s.jpg\n",
      "MET23_0010_c.jpg\n"
     ]
    },
    {
     "name": "stderr",
     "output_type": "stream",
     "text": [
      "/Users/yuchen/Library/Python/3.7/lib/python/site-packages/ipykernel_launcher.py:20: UserWarning: backup/seg_s//MET23_0010_c.jpg is a low contrast image\n"
     ]
    },
    {
     "name": "stdout",
     "output_type": "stream",
     "text": [
      "IPOT09_0_0003_s.jpg\n",
      "IPOT32_0002_t.jpg\n"
     ]
    },
    {
     "name": "stderr",
     "output_type": "stream",
     "text": [
      "/Users/yuchen/Library/Python/3.7/lib/python/site-packages/ipykernel_launcher.py:20: UserWarning: backup/seg_s//IPOT32_0002_t.jpg is a low contrast image\n"
     ]
    },
    {
     "name": "stdout",
     "output_type": "stream",
     "text": [
      "VA02_3_0005_s.jpg\n",
      "KOC12_0010_c.jpg\n"
     ]
    },
    {
     "name": "stderr",
     "output_type": "stream",
     "text": [
      "/Users/yuchen/Library/Python/3.7/lib/python/site-packages/ipykernel_launcher.py:20: UserWarning: backup/seg_s//KOC12_0010_c.jpg is a low contrast image\n"
     ]
    },
    {
     "name": "stdout",
     "output_type": "stream",
     "text": [
      "VA21_0005_s.jpg\n"
     ]
    },
    {
     "name": "stderr",
     "output_type": "stream",
     "text": [
      "/Users/yuchen/Library/Python/3.7/lib/python/site-packages/ipykernel_launcher.py:20: UserWarning: backup/seg_s//VA21_0005_s.jpg is a low contrast image\n"
     ]
    },
    {
     "name": "stdout",
     "output_type": "stream",
     "text": [
      "FMC03_0002_s.jpg\n"
     ]
    },
    {
     "name": "stderr",
     "output_type": "stream",
     "text": [
      "/Users/yuchen/Library/Python/3.7/lib/python/site-packages/ipykernel_launcher.py:20: UserWarning: backup/seg_s//FMC03_0002_s.jpg is a low contrast image\n"
     ]
    },
    {
     "name": "stdout",
     "output_type": "stream",
     "text": [
      "KOC61_0012_t.jpg\n"
     ]
    },
    {
     "name": "stderr",
     "output_type": "stream",
     "text": [
      "/Users/yuchen/Library/Python/3.7/lib/python/site-packages/ipykernel_launcher.py:20: UserWarning: backup/seg_s//KOC61_0012_t.jpg is a low contrast image\n"
     ]
    },
    {
     "name": "stdout",
     "output_type": "stream",
     "text": [
      "MET25_0005_s.jpg\n"
     ]
    },
    {
     "name": "stderr",
     "output_type": "stream",
     "text": [
      "/Users/yuchen/Library/Python/3.7/lib/python/site-packages/ipykernel_launcher.py:20: UserWarning: backup/seg_s//MET25_0005_s.jpg is a low contrast image\n"
     ]
    },
    {
     "name": "stdout",
     "output_type": "stream",
     "text": [
      "IPOT05_0002_t.jpg\n"
     ]
    },
    {
     "name": "stderr",
     "output_type": "stream",
     "text": [
      "/Users/yuchen/Library/Python/3.7/lib/python/site-packages/ipykernel_launcher.py:20: UserWarning: backup/seg_s//IPOT05_0002_t.jpg is a low contrast image\n",
      "/Users/yuchen/Library/Python/3.7/lib/python/site-packages/ipykernel_launcher.py:20: UserWarning: backup/seg_s//MET39_0003_t.jpg is a low contrast image\n",
      "/Users/yuchen/Library/Python/3.7/lib/python/site-packages/ipykernel_launcher.py:20: UserWarning: backup/seg_s//GMBC07_0006_t.jpg is a low contrast image\n"
     ]
    },
    {
     "name": "stdout",
     "output_type": "stream",
     "text": [
      "MET39_0003_t.jpg\n",
      "GMBC07_0006_t.jpg\n",
      "MET43_0_0003_c.jpg\n",
      "LOU10_0021_t.jpg\n",
      "IPOT19_1_0000_s.jpg\n"
     ]
    },
    {
     "name": "stderr",
     "output_type": "stream",
     "text": [
      "/Users/yuchen/Library/Python/3.7/lib/python/site-packages/ipykernel_launcher.py:20: UserWarning: backup/seg_s//LOU10_0021_t.jpg is a low contrast image\n",
      "/Users/yuchen/Library/Python/3.7/lib/python/site-packages/ipykernel_launcher.py:20: UserWarning: backup/seg_s//IPOT19_1_0000_s.jpg is a low contrast image\n"
     ]
    },
    {
     "name": "stdout",
     "output_type": "stream",
     "text": [
      "IPOT21_0003_t.jpg\n"
     ]
    },
    {
     "name": "stderr",
     "output_type": "stream",
     "text": [
      "/Users/yuchen/Library/Python/3.7/lib/python/site-packages/ipykernel_launcher.py:20: UserWarning: backup/seg_s//IPOT21_0003_t.jpg is a low contrast image\n",
      "/Users/yuchen/Library/Python/3.7/lib/python/site-packages/ipykernel_launcher.py:20: UserWarning: backup/seg_s//BEN05_0038_t.jpg is a low contrast image\n"
     ]
    },
    {
     "name": "stdout",
     "output_type": "stream",
     "text": [
      "BEN05_0038_t.jpg\n",
      "BM20_0005_s.jpg\n",
      "VA62_0_0001_s.jpg\n",
      "VA02_0027_s.jpg\n"
     ]
    },
    {
     "name": "stderr",
     "output_type": "stream",
     "text": [
      "/Users/yuchen/Library/Python/3.7/lib/python/site-packages/ipykernel_launcher.py:20: UserWarning: backup/seg_s//VA02_0027_s.jpg is a low contrast image\n",
      "/Users/yuchen/Library/Python/3.7/lib/python/site-packages/ipykernel_launcher.py:20: UserWarning: backup/seg_s//GMBC08_0001_s.jpg is a low contrast image\n"
     ]
    },
    {
     "name": "stdout",
     "output_type": "stream",
     "text": [
      "GMBC08_0001_s.jpg\n",
      "KOC74_0006_s.jpg\n"
     ]
    },
    {
     "name": "stderr",
     "output_type": "stream",
     "text": [
      "/Users/yuchen/Library/Python/3.7/lib/python/site-packages/ipykernel_launcher.py:20: UserWarning: backup/seg_s//KOC74_0006_s.jpg is a low contrast image\n"
     ]
    },
    {
     "name": "stdout",
     "output_type": "stream",
     "text": [
      "KOC01_0011_t.jpg\n"
     ]
    },
    {
     "name": "stderr",
     "output_type": "stream",
     "text": [
      "/Users/yuchen/Library/Python/3.7/lib/python/site-packages/ipykernel_launcher.py:20: UserWarning: backup/seg_s//KOC01_0011_t.jpg is a low contrast image\n"
     ]
    },
    {
     "name": "stdout",
     "output_type": "stream",
     "text": [
      "NMS03_0010_s.jpg\n"
     ]
    },
    {
     "name": "stderr",
     "output_type": "stream",
     "text": [
      "/Users/yuchen/Library/Python/3.7/lib/python/site-packages/ipykernel_launcher.py:20: UserWarning: backup/seg_s//NMS03_0010_s.jpg is a low contrast image\n"
     ]
    },
    {
     "name": "stdout",
     "output_type": "stream",
     "text": [
      "GULB11_1_0003_t.jpg\n"
     ]
    },
    {
     "name": "stderr",
     "output_type": "stream",
     "text": [
      "/Users/yuchen/Library/Python/3.7/lib/python/site-packages/ipykernel_launcher.py:20: UserWarning: backup/seg_s//GULB11_1_0003_t.jpg is a low contrast image\n"
     ]
    },
    {
     "name": "stdout",
     "output_type": "stream",
     "text": [
      "VA19_0002_t.jpg\n"
     ]
    },
    {
     "name": "stderr",
     "output_type": "stream",
     "text": [
      "/Users/yuchen/Library/Python/3.7/lib/python/site-packages/ipykernel_launcher.py:20: UserWarning: backup/seg_s//VA19_0002_t.jpg is a low contrast image\n"
     ]
    },
    {
     "name": "stdout",
     "output_type": "stream",
     "text": [
      "IPOT03_2_0001_t.jpg\n",
      "IPOT14_1_0001_t.jpg\n"
     ]
    },
    {
     "name": "stderr",
     "output_type": "stream",
     "text": [
      "/Users/yuchen/Library/Python/3.7/lib/python/site-packages/ipykernel_launcher.py:20: UserWarning: backup/seg_s//IPOT14_1_0001_t.jpg is a low contrast image\n"
     ]
    },
    {
     "name": "stdout",
     "output_type": "stream",
     "text": [
      "VA01_0048_s.jpg\n"
     ]
    },
    {
     "name": "stderr",
     "output_type": "stream",
     "text": [
      "/Users/yuchen/Library/Python/3.7/lib/python/site-packages/ipykernel_launcher.py:20: UserWarning: backup/seg_s//VA01_0048_s.jpg is a low contrast image\n"
     ]
    },
    {
     "name": "stdout",
     "output_type": "stream",
     "text": [
      "PMAG02_0000_s.jpg\n",
      "VA01_0_0003_s.jpg\n"
     ]
    },
    {
     "name": "stderr",
     "output_type": "stream",
     "text": [
      "/Users/yuchen/Library/Python/3.7/lib/python/site-packages/ipykernel_launcher.py:20: UserWarning: backup/seg_s//VA01_0_0003_s.jpg is a low contrast image\n",
      "/Users/yuchen/Library/Python/3.7/lib/python/site-packages/ipykernel_launcher.py:20: UserWarning: backup/seg_s//BEN05_0005_t.jpg is a low contrast image\n"
     ]
    },
    {
     "name": "stdout",
     "output_type": "stream",
     "text": [
      "BEN05_0005_t.jpg\n",
      "MET18_0000_s.jpg\n",
      "IPOT18_3_0003_t.jpg\n",
      "MK16_0001_t.jpg\n"
     ]
    },
    {
     "name": "stderr",
     "output_type": "stream",
     "text": [
      "/Users/yuchen/Library/Python/3.7/lib/python/site-packages/ipykernel_launcher.py:20: UserWarning: backup/seg_s//MK16_0001_t.jpg is a low contrast image\n"
     ]
    },
    {
     "name": "stdout",
     "output_type": "stream",
     "text": [
      "VA37_0006_t.jpg\n"
     ]
    },
    {
     "name": "stderr",
     "output_type": "stream",
     "text": [
      "/Users/yuchen/Library/Python/3.7/lib/python/site-packages/ipykernel_launcher.py:20: UserWarning: backup/seg_s//VA37_0006_t.jpg is a low contrast image\n"
     ]
    },
    {
     "name": "stdout",
     "output_type": "stream",
     "text": [
      "VA16_3_0003_s.jpg\n",
      "BEN05_0040_t.jpg\n",
      "LOU12_0000_s.jpg\n",
      "GMBC11_0005_s.jpg\n"
     ]
    },
    {
     "name": "stderr",
     "output_type": "stream",
     "text": [
      "/Users/yuchen/Library/Python/3.7/lib/python/site-packages/ipykernel_launcher.py:20: UserWarning: backup/seg_s//BEN05_0040_t.jpg is a low contrast image\n",
      "/Users/yuchen/Library/Python/3.7/lib/python/site-packages/ipykernel_launcher.py:20: UserWarning: backup/seg_s//LOU12_0000_s.jpg is a low contrast image\n"
     ]
    },
    {
     "name": "stdout",
     "output_type": "stream",
     "text": [
      "GULB07_0_0000_s.jpg\n",
      "FMC15_0001_t.jpg\n",
      "VA01_0030_s.jpg\n"
     ]
    },
    {
     "name": "stderr",
     "output_type": "stream",
     "text": [
      "/Users/yuchen/Library/Python/3.7/lib/python/site-packages/ipykernel_launcher.py:20: UserWarning: backup/seg_s//FMC15_0001_t.jpg is a low contrast image\n",
      "/Users/yuchen/Library/Python/3.7/lib/python/site-packages/ipykernel_launcher.py:20: UserWarning: backup/seg_s//VA01_0030_s.jpg is a low contrast image\n",
      "/Users/yuchen/Library/Python/3.7/lib/python/site-packages/ipykernel_launcher.py:20: UserWarning: backup/seg_s//GMBC13_0019_t.jpg is a low contrast image\n"
     ]
    },
    {
     "name": "stdout",
     "output_type": "stream",
     "text": [
      "GMBC13_0019_t.jpg\n",
      "IPOT02_0_0002_s.jpg\n"
     ]
    },
    {
     "name": "stderr",
     "output_type": "stream",
     "text": [
      "/Users/yuchen/Library/Python/3.7/lib/python/site-packages/ipykernel_launcher.py:20: UserWarning: backup/seg_s//IPOT02_0_0002_s.jpg is a low contrast image\n"
     ]
    },
    {
     "name": "stdout",
     "output_type": "stream",
     "text": [
      "NMS02_3_0003_s.jpg\n"
     ]
    },
    {
     "name": "stderr",
     "output_type": "stream",
     "text": [
      "/Users/yuchen/Library/Python/3.7/lib/python/site-packages/ipykernel_launcher.py:20: UserWarning: backup/seg_s//NMS02_3_0003_s.jpg is a low contrast image\n"
     ]
    },
    {
     "name": "stdout",
     "output_type": "stream",
     "text": [
      "IPOT28_3_0001_s.jpg\n",
      "KOC33_1_0006_t.jpg\n"
     ]
    },
    {
     "name": "stderr",
     "output_type": "stream",
     "text": [
      "/Users/yuchen/Library/Python/3.7/lib/python/site-packages/ipykernel_launcher.py:20: UserWarning: backup/seg_s//KOC33_1_0006_t.jpg is a low contrast image\n"
     ]
    },
    {
     "name": "stdout",
     "output_type": "stream",
     "text": [
      "KOC55_0005_t.jpg\n",
      "KOC74_1_0000_s.jpg\n",
      "LOU01_0001_s.jpg\n",
      "GULB10_0002_t.jpg\n"
     ]
    },
    {
     "name": "stderr",
     "output_type": "stream",
     "text": [
      "/Users/yuchen/Library/Python/3.7/lib/python/site-packages/ipykernel_launcher.py:20: UserWarning: backup/seg_s//LOU01_0001_s.jpg is a low contrast image\n",
      "/Users/yuchen/Library/Python/3.7/lib/python/site-packages/ipykernel_launcher.py:20: UserWarning: backup/seg_s//GULB10_0002_t.jpg is a low contrast image\n"
     ]
    },
    {
     "name": "stdout",
     "output_type": "stream",
     "text": [
      "KOC01_0_0001_t.jpg\n"
     ]
    },
    {
     "name": "stderr",
     "output_type": "stream",
     "text": [
      "/Users/yuchen/Library/Python/3.7/lib/python/site-packages/ipykernel_launcher.py:20: UserWarning: backup/seg_s//KOC01_0_0001_t.jpg is a low contrast image\n"
     ]
    },
    {
     "name": "stdout",
     "output_type": "stream",
     "text": [
      "MK05_0000_t.jpg\n"
     ]
    },
    {
     "name": "stderr",
     "output_type": "stream",
     "text": [
      "/Users/yuchen/Library/Python/3.7/lib/python/site-packages/ipykernel_launcher.py:20: UserWarning: backup/seg_s//MK05_0000_t.jpg is a low contrast image\n"
     ]
    },
    {
     "name": "stdout",
     "output_type": "stream",
     "text": [
      "KOC54_0_0001_t.jpg\n"
     ]
    },
    {
     "name": "stderr",
     "output_type": "stream",
     "text": [
      "/Users/yuchen/Library/Python/3.7/lib/python/site-packages/ipykernel_launcher.py:20: UserWarning: backup/seg_s//KOC54_0_0001_t.jpg is a low contrast image\n"
     ]
    },
    {
     "name": "stdout",
     "output_type": "stream",
     "text": [
      "VA06_2_0000_s.jpg\n"
     ]
    },
    {
     "name": "stderr",
     "output_type": "stream",
     "text": [
      "/Users/yuchen/Library/Python/3.7/lib/python/site-packages/ipykernel_launcher.py:20: UserWarning: backup/seg_s//VA06_2_0000_s.jpg is a low contrast image\n"
     ]
    },
    {
     "name": "stdout",
     "output_type": "stream",
     "text": [
      "VA38_0001_s.jpg\n",
      "KOC09_0008_s.jpg\n"
     ]
    },
    {
     "name": "stderr",
     "output_type": "stream",
     "text": [
      "/Users/yuchen/Library/Python/3.7/lib/python/site-packages/ipykernel_launcher.py:20: UserWarning: backup/seg_s//KOC09_0008_s.jpg is a low contrast image\n"
     ]
    },
    {
     "name": "stdout",
     "output_type": "stream",
     "text": [
      "LACMA05_2_0000_s.jpg\n"
     ]
    },
    {
     "name": "stderr",
     "output_type": "stream",
     "text": [
      "/Users/yuchen/Library/Python/3.7/lib/python/site-packages/ipykernel_launcher.py:20: UserWarning: backup/seg_s//LACMA05_2_0000_s.jpg is a low contrast image\n",
      "/Users/yuchen/Library/Python/3.7/lib/python/site-packages/ipykernel_launcher.py:20: UserWarning: backup/seg_s//MET20_0007_t.jpg is a low contrast image\n"
     ]
    },
    {
     "name": "stdout",
     "output_type": "stream",
     "text": [
      "MET20_0007_t.jpg\n",
      "KOC11_0007_t.jpg\n",
      "IPOT01_0036_t.jpg\n"
     ]
    },
    {
     "name": "stderr",
     "output_type": "stream",
     "text": [
      "/Users/yuchen/Library/Python/3.7/lib/python/site-packages/ipykernel_launcher.py:20: UserWarning: backup/seg_s//IPOT01_0036_t.jpg is a low contrast image\n",
      "/Users/yuchen/Library/Python/3.7/lib/python/site-packages/ipykernel_launcher.py:20: UserWarning: backup/seg_s//FMC06_0000_t.jpg is a low contrast image\n",
      "/Users/yuchen/Library/Python/3.7/lib/python/site-packages/ipykernel_launcher.py:20: UserWarning: backup/seg_s//MET38_0008_s.jpg is a low contrast image\n"
     ]
    },
    {
     "name": "stdout",
     "output_type": "stream",
     "text": [
      "FMC06_0000_t.jpg\n",
      "MET38_0008_s.jpg\n",
      "MK05_0000_c.jpg\n"
     ]
    },
    {
     "name": "stderr",
     "output_type": "stream",
     "text": [
      "/Users/yuchen/Library/Python/3.7/lib/python/site-packages/ipykernel_launcher.py:20: UserWarning: backup/seg_s//MK05_0000_c.jpg is a low contrast image\n"
     ]
    },
    {
     "name": "stdout",
     "output_type": "stream",
     "text": [
      "KOC01_0_0001_c.jpg\n",
      "HAM01_0005_s.jpg\n",
      "KOC62_0005_t.jpg\n"
     ]
    },
    {
     "name": "stderr",
     "output_type": "stream",
     "text": [
      "/Users/yuchen/Library/Python/3.7/lib/python/site-packages/ipykernel_launcher.py:20: UserWarning: backup/seg_s//HAM01_0005_s.jpg is a low contrast image\n",
      "/Users/yuchen/Library/Python/3.7/lib/python/site-packages/ipykernel_launcher.py:20: UserWarning: backup/seg_s//KOC62_0005_t.jpg is a low contrast image\n"
     ]
    },
    {
     "name": "stdout",
     "output_type": "stream",
     "text": [
      "VA26_0004_t.jpg\n",
      "KOC54_2_0002_t.jpg\n"
     ]
    },
    {
     "name": "stderr",
     "output_type": "stream",
     "text": [
      "/Users/yuchen/Library/Python/3.7/lib/python/site-packages/ipykernel_launcher.py:20: UserWarning: backup/seg_s//KOC54_2_0002_t.jpg is a low contrast image\n"
     ]
    },
    {
     "name": "stdout",
     "output_type": "stream",
     "text": [
      "BEN07_2_0004_t.jpg\n",
      "IPOT35_0003_s.jpg\n"
     ]
    },
    {
     "name": "stderr",
     "output_type": "stream",
     "text": [
      "/Users/yuchen/Library/Python/3.7/lib/python/site-packages/ipykernel_launcher.py:20: UserWarning: backup/seg_s//IPOT35_0003_s.jpg is a low contrast image\n"
     ]
    },
    {
     "name": "stdout",
     "output_type": "stream",
     "text": [
      "KOC57_0006_t.jpg\n"
     ]
    },
    {
     "name": "stderr",
     "output_type": "stream",
     "text": [
      "/Users/yuchen/Library/Python/3.7/lib/python/site-packages/ipykernel_launcher.py:20: UserWarning: backup/seg_s//KOC57_0006_t.jpg is a low contrast image\n"
     ]
    },
    {
     "name": "stdout",
     "output_type": "stream",
     "text": [
      "KOC33_3_0005_t.jpg\n"
     ]
    },
    {
     "name": "stderr",
     "output_type": "stream",
     "text": [
      "/Users/yuchen/Library/Python/3.7/lib/python/site-packages/ipykernel_launcher.py:20: UserWarning: backup/seg_s//KOC33_3_0005_t.jpg is a low contrast image\n",
      "/Users/yuchen/Library/Python/3.7/lib/python/site-packages/ipykernel_launcher.py:20: UserWarning: backup/seg_s//BM47_0007_t.jpg is a low contrast image\n",
      "/Users/yuchen/Library/Python/3.7/lib/python/site-packages/ipykernel_launcher.py:20: UserWarning: backup/seg_s//MET17_0018_s.jpg is a low contrast image\n"
     ]
    },
    {
     "name": "stdout",
     "output_type": "stream",
     "text": [
      "BM47_0007_t.jpg\n",
      "MET17_0018_s.jpg\n",
      "LOU03_0002_s.jpg\n",
      "KOC74_3_0003_s.jpg\n"
     ]
    },
    {
     "name": "stderr",
     "output_type": "stream",
     "text": [
      "/Users/yuchen/Library/Python/3.7/lib/python/site-packages/ipykernel_launcher.py:20: UserWarning: backup/seg_s//LOU03_0002_s.jpg is a low contrast image\n"
     ]
    },
    {
     "name": "stdout",
     "output_type": "stream",
     "text": [
      "VA49_0000_s.jpg\n"
     ]
    },
    {
     "name": "stderr",
     "output_type": "stream",
     "text": [
      "/Users/yuchen/Library/Python/3.7/lib/python/site-packages/ipykernel_launcher.py:20: UserWarning: backup/seg_s//VA49_0000_s.jpg is a low contrast image\n"
     ]
    },
    {
     "name": "stdout",
     "output_type": "stream",
     "text": [
      "KOC60_0006_t.jpg\n"
     ]
    },
    {
     "name": "stderr",
     "output_type": "stream",
     "text": [
      "/Users/yuchen/Library/Python/3.7/lib/python/site-packages/ipykernel_launcher.py:20: UserWarning: backup/seg_s//KOC60_0006_t.jpg is a low contrast image\n"
     ]
    },
    {
     "name": "stdout",
     "output_type": "stream",
     "text": [
      "KOC57_0006_c.jpg\n"
     ]
    },
    {
     "name": "stderr",
     "output_type": "stream",
     "text": [
      "/Users/yuchen/Library/Python/3.7/lib/python/site-packages/ipykernel_launcher.py:20: UserWarning: backup/seg_s//KOC57_0006_c.jpg is a low contrast image\n"
     ]
    },
    {
     "name": "stdout",
     "output_type": "stream",
     "text": [
      "KOC09_1_0005_t.jpg\n"
     ]
    },
    {
     "name": "stderr",
     "output_type": "stream",
     "text": [
      "/Users/yuchen/Library/Python/3.7/lib/python/site-packages/ipykernel_launcher.py:20: UserWarning: backup/seg_s//KOC09_1_0005_t.jpg is a low contrast image\n"
     ]
    },
    {
     "name": "stdout",
     "output_type": "stream",
     "text": [
      "TLCM19_0001_t.jpg\n",
      "BM54_0006_t.jpg\n",
      "SHM02_0006_s.jpg\n",
      "GULB05_0009_t.jpg\n"
     ]
    },
    {
     "name": "stderr",
     "output_type": "stream",
     "text": [
      "/Users/yuchen/Library/Python/3.7/lib/python/site-packages/ipykernel_launcher.py:20: UserWarning: backup/seg_s//BM54_0006_t.jpg is a low contrast image\n",
      "/Users/yuchen/Library/Python/3.7/lib/python/site-packages/ipykernel_launcher.py:20: UserWarning: backup/seg_s//SHM02_0006_s.jpg is a low contrast image\n",
      "/Users/yuchen/Library/Python/3.7/lib/python/site-packages/ipykernel_launcher.py:20: UserWarning: backup/seg_s//GULB05_0009_t.jpg is a low contrast image\n",
      "/Users/yuchen/Library/Python/3.7/lib/python/site-packages/ipykernel_launcher.py:20: UserWarning: backup/seg_s//BM48_0000_s.jpg is a low contrast image\n"
     ]
    },
    {
     "name": "stdout",
     "output_type": "stream",
     "text": [
      "BM48_0000_s.jpg\n",
      "BM27_0004_t.jpg\n",
      "VA01_2_0000_s.jpg\n"
     ]
    },
    {
     "name": "stderr",
     "output_type": "stream",
     "text": [
      "/Users/yuchen/Library/Python/3.7/lib/python/site-packages/ipykernel_launcher.py:20: UserWarning: backup/seg_s//VA01_2_0000_s.jpg is a low contrast image\n"
     ]
    },
    {
     "name": "stdout",
     "output_type": "stream",
     "text": [
      "GULB07_0015_s.jpg\n"
     ]
    },
    {
     "name": "stderr",
     "output_type": "stream",
     "text": [
      "/Users/yuchen/Library/Python/3.7/lib/python/site-packages/ipykernel_launcher.py:20: UserWarning: backup/seg_s//GULB07_0015_s.jpg is a low contrast image\n",
      "/Users/yuchen/Library/Python/3.7/lib/python/site-packages/ipykernel_launcher.py:20: UserWarning: backup/seg_s//BM61_1_0000_s.jpg is a low contrast image\n",
      "/Users/yuchen/Library/Python/3.7/lib/python/site-packages/ipykernel_launcher.py:20: UserWarning: backup/seg_s//MET42_0007_c.jpg is a low contrast image\n"
     ]
    },
    {
     "name": "stdout",
     "output_type": "stream",
     "text": [
      "BM61_1_0000_s.jpg\n",
      "MET42_0007_c.jpg\n",
      "IPOT18_1_0000_t.jpg\n",
      "BM53_0025_t.jpg\n",
      "VA16_1_0000_s.jpg\n"
     ]
    },
    {
     "name": "stderr",
     "output_type": "stream",
     "text": [
      "/Users/yuchen/Library/Python/3.7/lib/python/site-packages/ipykernel_launcher.py:20: UserWarning: backup/seg_s//BM53_0025_t.jpg is a low contrast image\n",
      "/Users/yuchen/Library/Python/3.7/lib/python/site-packages/ipykernel_launcher.py:20: UserWarning: backup/seg_s//VA16_1_0000_s.jpg is a low contrast image\n"
     ]
    },
    {
     "name": "stdout",
     "output_type": "stream",
     "text": [
      "KOC06_0_0001_t.jpg\n"
     ]
    },
    {
     "name": "stderr",
     "output_type": "stream",
     "text": [
      "/Users/yuchen/Library/Python/3.7/lib/python/site-packages/ipykernel_launcher.py:20: UserWarning: backup/seg_s//KOC06_0_0001_t.jpg is a low contrast image\n",
      "/Users/yuchen/Library/Python/3.7/lib/python/site-packages/ipykernel_launcher.py:20: UserWarning: backup/seg_s//MET06_0005_t.jpg is a low contrast image\n"
     ]
    },
    {
     "name": "stdout",
     "output_type": "stream",
     "text": [
      "MET06_0005_t.jpg\n",
      "GULB07_2_0003_s.jpg\n",
      "NMS02_0004_s.jpg\n"
     ]
    },
    {
     "name": "stderr",
     "output_type": "stream",
     "text": [
      "/Users/yuchen/Library/Python/3.7/lib/python/site-packages/ipykernel_launcher.py:20: UserWarning: backup/seg_s//NMS02_0004_s.jpg is a low contrast image\n"
     ]
    },
    {
     "name": "stdout",
     "output_type": "stream",
     "text": [
      "KOC69_0014_t.jpg\n"
     ]
    },
    {
     "name": "stderr",
     "output_type": "stream",
     "text": [
      "/Users/yuchen/Library/Python/3.7/lib/python/site-packages/ipykernel_launcher.py:20: UserWarning: backup/seg_s//KOC69_0014_t.jpg is a low contrast image\n"
     ]
    },
    {
     "name": "stdout",
     "output_type": "stream",
     "text": [
      "IPOT11_0002_s.jpg\n"
     ]
    },
    {
     "name": "stderr",
     "output_type": "stream",
     "text": [
      "/Users/yuchen/Library/Python/3.7/lib/python/site-packages/ipykernel_launcher.py:20: UserWarning: backup/seg_s//IPOT11_0002_s.jpg is a low contrast image\n"
     ]
    },
    {
     "name": "stdout",
     "output_type": "stream",
     "text": [
      "IPOT02_2_0001_s.jpg\n",
      "VA04_0010_s.jpg\n"
     ]
    },
    {
     "name": "stderr",
     "output_type": "stream",
     "text": [
      "/Users/yuchen/Library/Python/3.7/lib/python/site-packages/ipykernel_launcher.py:20: UserWarning: backup/seg_s//VA04_0010_s.jpg is a low contrast image\n",
      "/Users/yuchen/Library/Python/3.7/lib/python/site-packages/ipykernel_launcher.py:20: UserWarning: backup/seg_s//MET42_0007_t.jpg is a low contrast image\n",
      "/Users/yuchen/Library/Python/3.7/lib/python/site-packages/ipykernel_launcher.py:20: UserWarning: backup/seg_s//BM12_0018_s.jpg is a low contrast image\n"
     ]
    },
    {
     "name": "stdout",
     "output_type": "stream",
     "text": [
      "MET42_0007_t.jpg\n",
      "BM12_0018_s.jpg\n",
      "VA05_0026_t.jpg\n"
     ]
    },
    {
     "name": "stderr",
     "output_type": "stream",
     "text": [
      "/Users/yuchen/Library/Python/3.7/lib/python/site-packages/ipykernel_launcher.py:20: UserWarning: backup/seg_s//VA05_0026_t.jpg is a low contrast image\n"
     ]
    },
    {
     "name": "stdout",
     "output_type": "stream",
     "text": [
      "LACMA05_3_0012_t.jpg\n",
      "IPOT01_0057_t.jpg\n"
     ]
    },
    {
     "name": "stderr",
     "output_type": "stream",
     "text": [
      "/Users/yuchen/Library/Python/3.7/lib/python/site-packages/ipykernel_launcher.py:20: UserWarning: backup/seg_s//IPOT01_0057_t.jpg is a low contrast image\n"
     ]
    },
    {
     "name": "stdout",
     "output_type": "stream",
     "text": [
      "MET20_0023_t.jpg\n",
      "IPOT01_0012_t.jpg\n"
     ]
    },
    {
     "name": "stderr",
     "output_type": "stream",
     "text": [
      "/Users/yuchen/Library/Python/3.7/lib/python/site-packages/ipykernel_launcher.py:20: UserWarning: backup/seg_s//IPOT01_0012_t.jpg is a low contrast image\n",
      "/Users/yuchen/Library/Python/3.7/lib/python/site-packages/ipykernel_launcher.py:20: UserWarning: backup/seg_s//FMC06_0024_t.jpg is a low contrast image\n"
     ]
    },
    {
     "name": "stdout",
     "output_type": "stream",
     "text": [
      "FMC06_0024_t.jpg\n",
      "KOC16_0000_t.jpg\n"
     ]
    },
    {
     "name": "stderr",
     "output_type": "stream",
     "text": [
      "/Users/yuchen/Library/Python/3.7/lib/python/site-packages/ipykernel_launcher.py:20: UserWarning: backup/seg_s//KOC16_0000_t.jpg is a low contrast image\n",
      "/Users/yuchen/Library/Python/3.7/lib/python/site-packages/ipykernel_launcher.py:20: UserWarning: backup/seg_s//AM09_0004_c.jpg is a low contrast image\n",
      "/Users/yuchen/Library/Python/3.7/lib/python/site-packages/ipykernel_launcher.py:20: UserWarning: backup/seg_s//MET14_0009_t.jpg is a low contrast image\n"
     ]
    },
    {
     "name": "stdout",
     "output_type": "stream",
     "text": [
      "AM09_0004_c.jpg\n",
      "MET14_0009_t.jpg\n",
      "VA02_1_0000_t.jpg\n"
     ]
    },
    {
     "name": "stderr",
     "output_type": "stream",
     "text": [
      "/Users/yuchen/Library/Python/3.7/lib/python/site-packages/ipykernel_launcher.py:20: UserWarning: backup/seg_s//VA02_1_0000_t.jpg is a low contrast image\n"
     ]
    },
    {
     "name": "stdout",
     "output_type": "stream",
     "text": [
      "GULB11_0010_s.jpg\n"
     ]
    },
    {
     "name": "stderr",
     "output_type": "stream",
     "text": [
      "/Users/yuchen/Library/Python/3.7/lib/python/site-packages/ipykernel_launcher.py:20: UserWarning: backup/seg_s//GULB11_0010_s.jpg is a low contrast image\n"
     ]
    },
    {
     "name": "stdout",
     "output_type": "stream",
     "text": [
      "KOC55_0021_t.jpg\n"
     ]
    },
    {
     "name": "stderr",
     "output_type": "stream",
     "text": [
      "/Users/yuchen/Library/Python/3.7/lib/python/site-packages/ipykernel_launcher.py:20: UserWarning: backup/seg_s//KOC55_0021_t.jpg is a low contrast image\n"
     ]
    },
    {
     "name": "stdout",
     "output_type": "stream",
     "text": [
      "KOC51_0028_t.jpg\n"
     ]
    },
    {
     "name": "stderr",
     "output_type": "stream",
     "text": [
      "/Users/yuchen/Library/Python/3.7/lib/python/site-packages/ipykernel_launcher.py:20: UserWarning: backup/seg_s//KOC51_0028_t.jpg is a low contrast image\n"
     ]
    },
    {
     "name": "stdout",
     "output_type": "stream",
     "text": [
      "KOC21_0000_t.jpg\n",
      "KOC12_0009_c.jpg\n"
     ]
    },
    {
     "name": "stderr",
     "output_type": "stream",
     "text": [
      "/Users/yuchen/Library/Python/3.7/lib/python/site-packages/ipykernel_launcher.py:20: UserWarning: backup/seg_s//KOC12_0009_c.jpg is a low contrast image\n"
     ]
    },
    {
     "name": "stdout",
     "output_type": "stream",
     "text": [
      "VA50_0002_t.jpg\n"
     ]
    },
    {
     "name": "stderr",
     "output_type": "stream",
     "text": [
      "/Users/yuchen/Library/Python/3.7/lib/python/site-packages/ipykernel_launcher.py:20: UserWarning: backup/seg_s//VA50_0002_t.jpg is a low contrast image\n"
     ]
    },
    {
     "name": "stdout",
     "output_type": "stream",
     "text": [
      "VA22_0_0001_s.jpg\n",
      "KOC52_0002_t.jpg\n"
     ]
    },
    {
     "name": "stderr",
     "output_type": "stream",
     "text": [
      "/Users/yuchen/Library/Python/3.7/lib/python/site-packages/ipykernel_launcher.py:20: UserWarning: backup/seg_s//KOC52_0002_t.jpg is a low contrast image\n"
     ]
    },
    {
     "name": "stdout",
     "output_type": "stream",
     "text": [
      "MET23_0009_c.jpg\n"
     ]
    },
    {
     "name": "stderr",
     "output_type": "stream",
     "text": [
      "/Users/yuchen/Library/Python/3.7/lib/python/site-packages/ipykernel_launcher.py:20: UserWarning: backup/seg_s//MET23_0009_c.jpg is a low contrast image\n"
     ]
    },
    {
     "name": "stdout",
     "output_type": "stream",
     "text": [
      "IPOT03_0_0004_s.jpg\n"
     ]
    },
    {
     "name": "stderr",
     "output_type": "stream",
     "text": [
      "/Users/yuchen/Library/Python/3.7/lib/python/site-packages/ipykernel_launcher.py:20: UserWarning: backup/seg_s//IPOT03_0_0004_s.jpg is a low contrast image\n"
     ]
    },
    {
     "name": "stdout",
     "output_type": "stream",
     "text": [
      "NMS03_0009_s.jpg\n"
     ]
    },
    {
     "name": "stderr",
     "output_type": "stream",
     "text": [
      "/Users/yuchen/Library/Python/3.7/lib/python/site-packages/ipykernel_launcher.py:20: UserWarning: backup/seg_s//NMS03_0009_s.jpg is a low contrast image\n",
      "/Users/yuchen/Library/Python/3.7/lib/python/site-packages/ipykernel_launcher.py:20: UserWarning: backup/seg_s//BM15_0000_t.jpg is a low contrast image\n"
     ]
    },
    {
     "name": "stdout",
     "output_type": "stream",
     "text": [
      "BM15_0000_t.jpg\n",
      "LOU09_0001_c.jpg\n",
      "KOC01_0008_t.jpg\n"
     ]
    },
    {
     "name": "stderr",
     "output_type": "stream",
     "text": [
      "/Users/yuchen/Library/Python/3.7/lib/python/site-packages/ipykernel_launcher.py:20: UserWarning: backup/seg_s//LOU09_0001_c.jpg is a low contrast image\n",
      "/Users/yuchen/Library/Python/3.7/lib/python/site-packages/ipykernel_launcher.py:20: UserWarning: backup/seg_s//KOC01_0008_t.jpg is a low contrast image\n"
     ]
    },
    {
     "name": "stdout",
     "output_type": "stream",
     "text": [
      "NMS07_0000_s.jpg\n"
     ]
    },
    {
     "name": "stderr",
     "output_type": "stream",
     "text": [
      "/Users/yuchen/Library/Python/3.7/lib/python/site-packages/ipykernel_launcher.py:20: UserWarning: backup/seg_s//NMS07_0000_s.jpg is a low contrast image\n"
     ]
    },
    {
     "name": "stdout",
     "output_type": "stream",
     "text": [
      "VA07_0001_t.jpg\n"
     ]
    },
    {
     "name": "stderr",
     "output_type": "stream",
     "text": [
      "/Users/yuchen/Library/Python/3.7/lib/python/site-packages/ipykernel_launcher.py:20: UserWarning: backup/seg_s//VA07_0001_t.jpg is a low contrast image\n"
     ]
    },
    {
     "name": "stdout",
     "output_type": "stream",
     "text": [
      "IPOT08_0000_t.jpg\n"
     ]
    },
    {
     "name": "stderr",
     "output_type": "stream",
     "text": [
      "/Users/yuchen/Library/Python/3.7/lib/python/site-packages/ipykernel_launcher.py:20: UserWarning: backup/seg_s//IPOT08_0000_t.jpg is a low contrast image\n"
     ]
    },
    {
     "name": "stdout",
     "output_type": "stream",
     "text": [
      "MK11_0006_c.jpg\n",
      "VA01_0014_s.jpg\n"
     ]
    },
    {
     "name": "stderr",
     "output_type": "stream",
     "text": [
      "/Users/yuchen/Library/Python/3.7/lib/python/site-packages/ipykernel_launcher.py:20: UserWarning: backup/seg_s//VA01_0014_s.jpg is a low contrast image\n"
     ]
    },
    {
     "name": "stdout",
     "output_type": "stream",
     "text": [
      "MET05_0014_s.jpg\n"
     ]
    },
    {
     "name": "stderr",
     "output_type": "stream",
     "text": [
      "/Users/yuchen/Library/Python/3.7/lib/python/site-packages/ipykernel_launcher.py:20: UserWarning: backup/seg_s//MET05_0014_s.jpg is a low contrast image\n"
     ]
    },
    {
     "name": "stdout",
     "output_type": "stream",
     "text": [
      "GULB18_0002_s.jpg\n",
      "BEN05_0021_t.jpg\n",
      "BM15_0000_c.jpg\n",
      "KOC41_0003_t.jpg\n"
     ]
    },
    {
     "name": "stderr",
     "output_type": "stream",
     "text": [
      "/Users/yuchen/Library/Python/3.7/lib/python/site-packages/ipykernel_launcher.py:20: UserWarning: backup/seg_s//BEN05_0021_t.jpg is a low contrast image\n",
      "/Users/yuchen/Library/Python/3.7/lib/python/site-packages/ipykernel_launcher.py:20: UserWarning: backup/seg_s//BM15_0000_c.jpg is a low contrast image\n",
      "/Users/yuchen/Library/Python/3.7/lib/python/site-packages/ipykernel_launcher.py:20: UserWarning: backup/seg_s//KOC41_0003_t.jpg is a low contrast image\n",
      "/Users/yuchen/Library/Python/3.7/lib/python/site-packages/ipykernel_launcher.py:20: UserWarning: backup/seg_s//MET34_0001_c.jpg is a low contrast image\n",
      "/Users/yuchen/Library/Python/3.7/lib/python/site-packages/ipykernel_launcher.py:20: UserWarning: backup/seg_s//MET45_0000_t.jpg is a low contrast image\n",
      "/Users/yuchen/Library/Python/3.7/lib/python/site-packages/ipykernel_launcher.py:20: UserWarning: backup/seg_s//MET28_0018_t.jpg is a low contrast image\n"
     ]
    },
    {
     "name": "stdout",
     "output_type": "stream",
     "text": [
      "MET34_0001_c.jpg\n",
      "BEN01_2_0002_t.jpg\n",
      "AM04_0000_s.jpg\n",
      "MET45_0000_t.jpg\n",
      "MET28_0018_t.jpg\n",
      "KOC74_0000_t.jpg\n"
     ]
    },
    {
     "name": "stderr",
     "output_type": "stream",
     "text": [
      "/Users/yuchen/Library/Python/3.7/lib/python/site-packages/ipykernel_launcher.py:20: UserWarning: backup/seg_s//KOC74_0000_t.jpg is a low contrast image\n",
      "/Users/yuchen/Library/Python/3.7/lib/python/site-packages/ipykernel_launcher.py:20: UserWarning: backup/seg_s//BM62_0014_s.jpg is a low contrast image\n"
     ]
    },
    {
     "name": "stdout",
     "output_type": "stream",
     "text": [
      "GULB14_2_0003_t.jpg\n",
      "BM62_0014_s.jpg\n",
      "VA19_0004_s.jpg\n"
     ]
    },
    {
     "name": "stderr",
     "output_type": "stream",
     "text": [
      "/Users/yuchen/Library/Python/3.7/lib/python/site-packages/ipykernel_launcher.py:20: UserWarning: backup/seg_s//VA19_0004_s.jpg is a low contrast image\n"
     ]
    },
    {
     "name": "stdout",
     "output_type": "stream",
     "text": [
      "GULB11_1_0005_s.jpg\n",
      "MET36_0002_t.jpg\n",
      "VA05_0002_t.jpg\n"
     ]
    },
    {
     "name": "stderr",
     "output_type": "stream",
     "text": [
      "/Users/yuchen/Library/Python/3.7/lib/python/site-packages/ipykernel_launcher.py:20: UserWarning: backup/seg_s//MET36_0002_t.jpg is a low contrast image\n",
      "/Users/yuchen/Library/Python/3.7/lib/python/site-packages/ipykernel_launcher.py:20: UserWarning: backup/seg_s//VA05_0002_t.jpg is a low contrast image\n"
     ]
    },
    {
     "name": "stdout",
     "output_type": "stream",
     "text": [
      "GULB06_2_0005_s.jpg\n",
      "BEN04_0008_t.jpg\n",
      "BM60_0008_c.jpg\n",
      "IPOT23_0019_t.jpg\n"
     ]
    },
    {
     "name": "stderr",
     "output_type": "stream",
     "text": [
      "/Users/yuchen/Library/Python/3.7/lib/python/site-packages/ipykernel_launcher.py:20: UserWarning: backup/seg_s//BEN04_0008_t.jpg is a low contrast image\n",
      "/Users/yuchen/Library/Python/3.7/lib/python/site-packages/ipykernel_launcher.py:20: UserWarning: backup/seg_s//IPOT23_0019_t.jpg is a low contrast image\n"
     ]
    },
    {
     "name": "stdout",
     "output_type": "stream",
     "text": [
      "GULB07_0031_s.jpg\n"
     ]
    },
    {
     "name": "stderr",
     "output_type": "stream",
     "text": [
      "/Users/yuchen/Library/Python/3.7/lib/python/site-packages/ipykernel_launcher.py:20: UserWarning: backup/seg_s//GULB07_0031_s.jpg is a low contrast image\n",
      "/Users/yuchen/Library/Python/3.7/lib/python/site-packages/ipykernel_launcher.py:20: UserWarning: backup/seg_s//BM26_0016_s.jpg is a low contrast image\n",
      "/Users/yuchen/Library/Python/3.7/lib/python/site-packages/ipykernel_launcher.py:20: UserWarning: backup/seg_s//BM53_0001_t.jpg is a low contrast image\n"
     ]
    },
    {
     "name": "stdout",
     "output_type": "stream",
     "text": [
      "BM26_0016_s.jpg\n",
      "BM53_0001_t.jpg\n",
      "KOC07_0002_c.jpg\n",
      "KOC09_0033_t.jpg\n"
     ]
    },
    {
     "name": "stderr",
     "output_type": "stream",
     "text": [
      "/Users/yuchen/Library/Python/3.7/lib/python/site-packages/ipykernel_launcher.py:20: UserWarning: backup/seg_s//KOC09_0033_t.jpg is a low contrast image\n"
     ]
    },
    {
     "name": "stdout",
     "output_type": "stream",
     "text": [
      "VA16_0003_t.jpg\n"
     ]
    },
    {
     "name": "stderr",
     "output_type": "stream",
     "text": [
      "/Users/yuchen/Library/Python/3.7/lib/python/site-packages/ipykernel_launcher.py:20: UserWarning: backup/seg_s//VA16_0003_t.jpg is a low contrast image\n"
     ]
    },
    {
     "name": "stdout",
     "output_type": "stream",
     "text": [
      "KOC14_0003_t.jpg\n"
     ]
    },
    {
     "name": "stderr",
     "output_type": "stream",
     "text": [
      "/Users/yuchen/Library/Python/3.7/lib/python/site-packages/ipykernel_launcher.py:20: UserWarning: backup/seg_s//KOC14_0003_t.jpg is a low contrast image\n"
     ]
    },
    {
     "name": "stdout",
     "output_type": "stream",
     "text": [
      "KOC50_0001_c.jpg\n"
     ]
    },
    {
     "name": "stderr",
     "output_type": "stream",
     "text": [
      "/Users/yuchen/Library/Python/3.7/lib/python/site-packages/ipykernel_launcher.py:20: UserWarning: backup/seg_s//KOC50_0001_c.jpg is a low contrast image\n"
     ]
    },
    {
     "name": "stdout",
     "output_type": "stream",
     "text": [
      "TLCM02_0000_s.jpg\n",
      "VA65_0001_t.jpg\n",
      "LACMA05_1_0011_t.jpg\n"
     ]
    },
    {
     "name": "stderr",
     "output_type": "stream",
     "text": [
      "/Users/yuchen/Library/Python/3.7/lib/python/site-packages/ipykernel_launcher.py:20: UserWarning: backup/seg_s//LACMA05_1_0011_t.jpg is a low contrast image\n"
     ]
    },
    {
     "name": "stdout",
     "output_type": "stream",
     "text": [
      "KOC67_0001_t.jpg\n"
     ]
    },
    {
     "name": "stderr",
     "output_type": "stream",
     "text": [
      "/Users/yuchen/Library/Python/3.7/lib/python/site-packages/ipykernel_launcher.py:20: UserWarning: backup/seg_s//KOC67_0001_t.jpg is a low contrast image\n"
     ]
    },
    {
     "name": "stdout",
     "output_type": "stream",
     "text": [
      "BEN17_0009_c.jpg\n",
      "VA35_1_0002_s.jpg\n"
     ]
    },
    {
     "name": "stderr",
     "output_type": "stream",
     "text": [
      "/Users/yuchen/Library/Python/3.7/lib/python/site-packages/ipykernel_launcher.py:20: UserWarning: backup/seg_s//VA35_1_0002_s.jpg is a low contrast image\n"
     ]
    },
    {
     "name": "stdout",
     "output_type": "stream",
     "text": [
      "KOC54_0008_t.jpg\n"
     ]
    },
    {
     "name": "stderr",
     "output_type": "stream",
     "text": [
      "/Users/yuchen/Library/Python/3.7/lib/python/site-packages/ipykernel_launcher.py:20: UserWarning: backup/seg_s//KOC54_0008_t.jpg is a low contrast image\n"
     ]
    },
    {
     "name": "stdout",
     "output_type": "stream",
     "text": [
      "MK06_0011_s.jpg\n",
      "KOC50_0001_t.jpg\n"
     ]
    },
    {
     "name": "stderr",
     "output_type": "stream",
     "text": [
      "/Users/yuchen/Library/Python/3.7/lib/python/site-packages/ipykernel_launcher.py:20: UserWarning: backup/seg_s//KOC50_0001_t.jpg is a low contrast image\n"
     ]
    },
    {
     "name": "stdout",
     "output_type": "stream",
     "text": [
      "VA07_0_0005_s.jpg\n",
      "KOC55_2_0004_t.jpg\n",
      "KOC64_0016_t.jpg\n"
     ]
    },
    {
     "name": "stderr",
     "output_type": "stream",
     "text": [
      "/Users/yuchen/Library/Python/3.7/lib/python/site-packages/ipykernel_launcher.py:20: UserWarning: backup/seg_s//KOC64_0016_t.jpg is a low contrast image\n"
     ]
    },
    {
     "name": "stdout",
     "output_type": "stream",
     "text": [
      "LACMA05_2_0006_t.jpg\n"
     ]
    },
    {
     "name": "stderr",
     "output_type": "stream",
     "text": [
      "/Users/yuchen/Library/Python/3.7/lib/python/site-packages/ipykernel_launcher.py:20: UserWarning: backup/seg_s//LACMA05_2_0006_t.jpg is a low contrast image\n"
     ]
    },
    {
     "name": "stdout",
     "output_type": "stream",
     "text": [
      "KOC09_3_0000_s.jpg\n"
     ]
    },
    {
     "name": "stderr",
     "output_type": "stream",
     "text": [
      "/Users/yuchen/Library/Python/3.7/lib/python/site-packages/ipykernel_launcher.py:20: UserWarning: backup/seg_s//KOC09_3_0000_s.jpg is a low contrast image\n"
     ]
    },
    {
     "name": "stdout",
     "output_type": "stream",
     "text": [
      "VA19_2_0001_t.jpg\n"
     ]
    },
    {
     "name": "stderr",
     "output_type": "stream",
     "text": [
      "/Users/yuchen/Library/Python/3.7/lib/python/site-packages/ipykernel_launcher.py:20: UserWarning: backup/seg_s//VA19_2_0001_t.jpg is a low contrast image\n"
     ]
    },
    {
     "name": "stdout",
     "output_type": "stream",
     "text": [
      "IPOT06_0013_s.jpg\n"
     ]
    },
    {
     "name": "stderr",
     "output_type": "stream",
     "text": [
      "/Users/yuchen/Library/Python/3.7/lib/python/site-packages/ipykernel_launcher.py:20: UserWarning: backup/seg_s//IPOT06_0013_s.jpg is a low contrast image\n"
     ]
    },
    {
     "name": "stdout",
     "output_type": "stream",
     "text": [
      "KOC04_3_0001_c.jpg\n"
     ]
    },
    {
     "name": "stderr",
     "output_type": "stream",
     "text": [
      "/Users/yuchen/Library/Python/3.7/lib/python/site-packages/ipykernel_launcher.py:20: UserWarning: backup/seg_s//KOC04_3_0001_c.jpg is a low contrast image\n"
     ]
    },
    {
     "name": "stdout",
     "output_type": "stream",
     "text": [
      "GMBC02_0002_t.jpg\n",
      "VA15_0014_t.jpg\n"
     ]
    },
    {
     "name": "stderr",
     "output_type": "stream",
     "text": [
      "/Users/yuchen/Library/Python/3.7/lib/python/site-packages/ipykernel_launcher.py:20: UserWarning: backup/seg_s//VA15_0014_t.jpg is a low contrast image\n"
     ]
    },
    {
     "name": "stdout",
     "output_type": "stream",
     "text": [
      "KOC33_1_0000_s.jpg\n",
      "VA22_0014_t.jpg\n"
     ]
    },
    {
     "name": "stderr",
     "output_type": "stream",
     "text": [
      "/Users/yuchen/Library/Python/3.7/lib/python/site-packages/ipykernel_launcher.py:20: UserWarning: backup/seg_s//VA22_0014_t.jpg is a low contrast image\n"
     ]
    },
    {
     "name": "stdout",
     "output_type": "stream",
     "text": [
      "VA57_0003_s.jpg\n"
     ]
    },
    {
     "name": "stderr",
     "output_type": "stream",
     "text": [
      "/Users/yuchen/Library/Python/3.7/lib/python/site-packages/ipykernel_launcher.py:20: UserWarning: backup/seg_s//VA57_0003_s.jpg is a low contrast image\n"
     ]
    },
    {
     "name": "stdout",
     "output_type": "stream",
     "text": [
      "BM45_0002_s.jpg\n",
      "KOC49_0005_t.jpg\n"
     ]
    },
    {
     "name": "stderr",
     "output_type": "stream",
     "text": [
      "/Users/yuchen/Library/Python/3.7/lib/python/site-packages/ipykernel_launcher.py:20: UserWarning: backup/seg_s//KOC49_0005_t.jpg is a low contrast image\n"
     ]
    },
    {
     "name": "stdout",
     "output_type": "stream",
     "text": [
      "MET05_2_0000_s.jpg\n"
     ]
    },
    {
     "name": "stderr",
     "output_type": "stream",
     "text": [
      "/Users/yuchen/Library/Python/3.7/lib/python/site-packages/ipykernel_launcher.py:20: UserWarning: backup/seg_s//MET05_2_0000_s.jpg is a low contrast image\n",
      "/Users/yuchen/Library/Python/3.7/lib/python/site-packages/ipykernel_launcher.py:20: UserWarning: backup/seg_s//BEN11_4_0000_s.jpg is a low contrast image\n"
     ]
    },
    {
     "name": "stdout",
     "output_type": "stream",
     "text": [
      "BEN11_4_0000_s.jpg\n",
      "KOC26_0001_s.jpg\n",
      "MET17_0001_s.jpg\n",
      "VA24_0001_s.jpg\n"
     ]
    },
    {
     "name": "stderr",
     "output_type": "stream",
     "text": [
      "/Users/yuchen/Library/Python/3.7/lib/python/site-packages/ipykernel_launcher.py:20: UserWarning: backup/seg_s//MET17_0001_s.jpg is a low contrast image\n"
     ]
    },
    {
     "name": "stdout",
     "output_type": "stream",
     "text": [
      "VA02_2_0008_s.jpg\n",
      "GMBC02_0002_c.jpg\n",
      "FMC13_0012_t.jpg\n",
      "KOC03_1_0002_c.jpg\n"
     ]
    },
    {
     "name": "stderr",
     "output_type": "stream",
     "text": [
      "/Users/yuchen/Library/Python/3.7/lib/python/site-packages/ipykernel_launcher.py:20: UserWarning: backup/seg_s//GMBC02_0002_c.jpg is a low contrast image\n",
      "/Users/yuchen/Library/Python/3.7/lib/python/site-packages/ipykernel_launcher.py:20: UserWarning: backup/seg_s//FMC13_0012_t.jpg is a low contrast image\n"
     ]
    },
    {
     "name": "stdout",
     "output_type": "stream",
     "text": [
      "GULB02_3_0000_s.jpg\n"
     ]
    },
    {
     "name": "stderr",
     "output_type": "stream",
     "text": [
      "/Users/yuchen/Library/Python/3.7/lib/python/site-packages/ipykernel_launcher.py:20: UserWarning: backup/seg_s//GULB02_3_0000_s.jpg is a low contrast image\n"
     ]
    },
    {
     "name": "stdout",
     "output_type": "stream",
     "text": [
      "MET33_0000_s.jpg\n",
      "LACMA05_0007_t.jpg\n"
     ]
    },
    {
     "name": "stderr",
     "output_type": "stream",
     "text": [
      "/Users/yuchen/Library/Python/3.7/lib/python/site-packages/ipykernel_launcher.py:20: UserWarning: backup/seg_s//LACMA05_0007_t.jpg is a low contrast image\n",
      "/Users/yuchen/Library/Python/3.7/lib/python/site-packages/ipykernel_launcher.py:20: UserWarning: backup/seg_s//BM16_0008_s.jpg is a low contrast image\n"
     ]
    },
    {
     "name": "stdout",
     "output_type": "stream",
     "text": [
      "BM16_0008_s.jpg\n",
      "IPOT10_0_0002_s.jpg\n",
      "IPOT02_0_0004_t.jpg\n"
     ]
    },
    {
     "name": "stderr",
     "output_type": "stream",
     "text": [
      "/Users/yuchen/Library/Python/3.7/lib/python/site-packages/ipykernel_launcher.py:20: UserWarning: backup/seg_s//IPOT02_0_0004_t.jpg is a low contrast image\n",
      "/Users/yuchen/Library/Python/3.7/lib/python/site-packages/ipykernel_launcher.py:20: UserWarning: backup/seg_s//BM12_0001_s.jpg is a low contrast image\n"
     ]
    },
    {
     "name": "stdout",
     "output_type": "stream",
     "text": [
      "BM12_0001_s.jpg\n",
      "KOC49_1_0005_t.jpg\n"
     ]
    },
    {
     "name": "stderr",
     "output_type": "stream",
     "text": [
      "/Users/yuchen/Library/Python/3.7/lib/python/site-packages/ipykernel_launcher.py:20: UserWarning: backup/seg_s//KOC49_1_0005_t.jpg is a low contrast image\n"
     ]
    },
    {
     "name": "stdout",
     "output_type": "stream",
     "text": [
      "LACMA05_0042_t.jpg\n"
     ]
    },
    {
     "name": "stderr",
     "output_type": "stream",
     "text": [
      "/Users/yuchen/Library/Python/3.7/lib/python/site-packages/ipykernel_launcher.py:20: UserWarning: backup/seg_s//LACMA05_0042_t.jpg is a low contrast image\n"
     ]
    },
    {
     "name": "stdout",
     "output_type": "stream",
     "text": [
      "VA04_3_0003_s.jpg\n"
     ]
    },
    {
     "name": "stderr",
     "output_type": "stream",
     "text": [
      "/Users/yuchen/Library/Python/3.7/lib/python/site-packages/ipykernel_launcher.py:20: UserWarning: backup/seg_s//VA04_3_0003_s.jpg is a low contrast image\n"
     ]
    },
    {
     "name": "stdout",
     "output_type": "stream",
     "text": [
      "GULB05_0010_t.jpg\n"
     ]
    },
    {
     "name": "stderr",
     "output_type": "stream",
     "text": [
      "/Users/yuchen/Library/Python/3.7/lib/python/site-packages/ipykernel_launcher.py:20: UserWarning: backup/seg_s//GULB05_0010_t.jpg is a low contrast image\n",
      "/Users/yuchen/Library/Python/3.7/lib/python/site-packages/ipykernel_launcher.py:20: UserWarning: backup/seg_s//BM25_0001_s.jpg is a low contrast image\n",
      "/Users/yuchen/Library/Python/3.7/lib/python/site-packages/ipykernel_launcher.py:20: UserWarning: backup/seg_s//AM01_0002_c.jpg is a low contrast image\n"
     ]
    },
    {
     "name": "stdout",
     "output_type": "stream",
     "text": [
      "BM25_0001_s.jpg\n",
      "AM01_0002_c.jpg\n",
      "KOC35_0000_s.jpg\n",
      "TLCM15_2_0002_t.jpg\n",
      "VA36_2_0004_s.jpg\n",
      "VA30_0023_s.jpg\n"
     ]
    },
    {
     "name": "stderr",
     "output_type": "stream",
     "text": [
      "/Users/yuchen/Library/Python/3.7/lib/python/site-packages/ipykernel_launcher.py:20: UserWarning: backup/seg_s//VA30_0023_s.jpg is a low contrast image\n"
     ]
    },
    {
     "name": "stdout",
     "output_type": "stream",
     "text": [
      "KOC46_0002_s.jpg\n"
     ]
    },
    {
     "name": "stderr",
     "output_type": "stream",
     "text": [
      "/Users/yuchen/Library/Python/3.7/lib/python/site-packages/ipykernel_launcher.py:20: UserWarning: backup/seg_s//KOC46_0002_s.jpg is a low contrast image\n"
     ]
    },
    {
     "name": "stdout",
     "output_type": "stream",
     "text": [
      "KOC33_0015_t.jpg\n"
     ]
    },
    {
     "name": "stderr",
     "output_type": "stream",
     "text": [
      "/Users/yuchen/Library/Python/3.7/lib/python/site-packages/ipykernel_launcher.py:20: UserWarning: backup/seg_s//KOC33_0015_t.jpg is a low contrast image\n",
      "/Users/yuchen/Library/Python/3.7/lib/python/site-packages/ipykernel_launcher.py:20: UserWarning: backup/seg_s//FMC09_0001_c.jpg is a low contrast image\n"
     ]
    },
    {
     "name": "stdout",
     "output_type": "stream",
     "text": [
      "FMC09_0001_c.jpg\n",
      "VA02_0003_s.jpg\n"
     ]
    },
    {
     "name": "stderr",
     "output_type": "stream",
     "text": [
      "/Users/yuchen/Library/Python/3.7/lib/python/site-packages/ipykernel_launcher.py:20: UserWarning: backup/seg_s//VA02_0003_s.jpg is a low contrast image\n"
     ]
    },
    {
     "name": "stdout",
     "output_type": "stream",
     "text": [
      "NMS02_0002_t.jpg\n"
     ]
    },
    {
     "name": "stderr",
     "output_type": "stream",
     "text": [
      "/Users/yuchen/Library/Python/3.7/lib/python/site-packages/ipykernel_launcher.py:20: UserWarning: backup/seg_s//NMS02_0002_t.jpg is a low contrast image\n"
     ]
    },
    {
     "name": "stdout",
     "output_type": "stream",
     "text": [
      "IPOT10_2_0001_s.jpg\n",
      "VA59_2_0007_s.jpg\n",
      "VA19_0026_t.jpg\n"
     ]
    },
    {
     "name": "stderr",
     "output_type": "stream",
     "text": [
      "/Users/yuchen/Library/Python/3.7/lib/python/site-packages/ipykernel_launcher.py:20: UserWarning: backup/seg_s//VA59_2_0007_s.jpg is a low contrast image\n",
      "/Users/yuchen/Library/Python/3.7/lib/python/site-packages/ipykernel_launcher.py:20: UserWarning: backup/seg_s//VA19_0026_t.jpg is a low contrast image\n",
      "/Users/yuchen/Library/Python/3.7/lib/python/site-packages/ipykernel_launcher.py:20: UserWarning: backup/seg_s//AM07_0008_t.jpg is a low contrast image\n"
     ]
    },
    {
     "name": "stdout",
     "output_type": "stream",
     "text": [
      "AM07_0008_t.jpg\n",
      "TLCM18_0_0000_s.jpg\n",
      "KOC03_3_0001_c.jpg\n"
     ]
    },
    {
     "name": "stderr",
     "output_type": "stream",
     "text": [
      "/Users/yuchen/Library/Python/3.7/lib/python/site-packages/ipykernel_launcher.py:20: UserWarning: backup/seg_s//KOC03_3_0001_c.jpg is a low contrast image\n",
      "/Users/yuchen/Library/Python/3.7/lib/python/site-packages/ipykernel_launcher.py:20: UserWarning: backup/seg_s//AM03_0001_t.jpg is a low contrast image\n"
     ]
    },
    {
     "name": "stdout",
     "output_type": "stream",
     "text": [
      "AM03_0001_t.jpg\n",
      "BM63_0000_s.jpg\n",
      "NMS02_0002_c.jpg\n"
     ]
    },
    {
     "name": "stderr",
     "output_type": "stream",
     "text": [
      "/Users/yuchen/Library/Python/3.7/lib/python/site-packages/ipykernel_launcher.py:20: UserWarning: backup/seg_s//NMS02_0002_c.jpg is a low contrast image\n"
     ]
    },
    {
     "name": "stdout",
     "output_type": "stream",
     "text": [
      "LACMA07_0004_c.jpg\n"
     ]
    },
    {
     "name": "stderr",
     "output_type": "stream",
     "text": [
      "/Users/yuchen/Library/Python/3.7/lib/python/site-packages/ipykernel_launcher.py:20: UserWarning: backup/seg_s//LACMA07_0004_c.jpg is a low contrast image\n",
      "/Users/yuchen/Library/Python/3.7/lib/python/site-packages/ipykernel_launcher.py:20: UserWarning: backup/seg_s//LOU10_0005_t.jpg is a low contrast image\n"
     ]
    },
    {
     "name": "stdout",
     "output_type": "stream",
     "text": [
      "LOU10_0005_t.jpg\n",
      "TLCM15_0_0001_t.jpg\n"
     ]
    },
    {
     "name": "stderr",
     "output_type": "stream",
     "text": [
      "/Users/yuchen/Library/Python/3.7/lib/python/site-packages/ipykernel_launcher.py:20: UserWarning: backup/seg_s//TLCM15_0_0001_t.jpg is a low contrast image\n"
     ]
    },
    {
     "name": "stdout",
     "output_type": "stream",
     "text": [
      "KOC58_0007_t.jpg\n"
     ]
    },
    {
     "name": "stderr",
     "output_type": "stream",
     "text": [
      "/Users/yuchen/Library/Python/3.7/lib/python/site-packages/ipykernel_launcher.py:20: UserWarning: backup/seg_s//KOC58_0007_t.jpg is a low contrast image\n"
     ]
    },
    {
     "name": "stdout",
     "output_type": "stream",
     "text": [
      "KOC44_0001_s.jpg\n",
      "GMBC24_0000_t.jpg\n",
      "VA04_1_0000_s.jpg\n"
     ]
    },
    {
     "name": "stderr",
     "output_type": "stream",
     "text": [
      "/Users/yuchen/Library/Python/3.7/lib/python/site-packages/ipykernel_launcher.py:20: UserWarning: backup/seg_s//GMBC24_0000_t.jpg is a low contrast image\n"
     ]
    },
    {
     "name": "stdout",
     "output_type": "stream",
     "text": [
      "LOU10_1005_t.jpg\n",
      "GMBC13_0000_c.jpg\n",
      "BEN03_0009_s.jpg\n"
     ]
    },
    {
     "name": "stderr",
     "output_type": "stream",
     "text": [
      "/Users/yuchen/Library/Python/3.7/lib/python/site-packages/ipykernel_launcher.py:20: UserWarning: backup/seg_s//LOU10_1005_t.jpg is a low contrast image\n",
      "/Users/yuchen/Library/Python/3.7/lib/python/site-packages/ipykernel_launcher.py:20: UserWarning: backup/seg_s//GMBC13_0000_c.jpg is a low contrast image\n",
      "/Users/yuchen/Library/Python/3.7/lib/python/site-packages/ipykernel_launcher.py:20: UserWarning: backup/seg_s//BEN03_0009_s.jpg is a low contrast image\n",
      "/Users/yuchen/Library/Python/3.7/lib/python/site-packages/ipykernel_launcher.py:20: UserWarning: backup/seg_s//MET38_0011_s.jpg is a low contrast image\n"
     ]
    },
    {
     "name": "stdout",
     "output_type": "stream",
     "text": [
      "MET38_0011_s.jpg\n",
      "FMC06_0019_t.jpg\n",
      "KOC04_1_0002_c.jpg\n"
     ]
    },
    {
     "name": "stderr",
     "output_type": "stream",
     "text": [
      "/Users/yuchen/Library/Python/3.7/lib/python/site-packages/ipykernel_launcher.py:20: UserWarning: backup/seg_s//FMC06_0019_t.jpg is a low contrast image\n"
     ]
    },
    {
     "name": "stdout",
     "output_type": "stream",
     "text": [
      "KOC09_0011_s.jpg\n"
     ]
    },
    {
     "name": "stderr",
     "output_type": "stream",
     "text": [
      "/Users/yuchen/Library/Python/3.7/lib/python/site-packages/ipykernel_launcher.py:20: UserWarning: backup/seg_s//KOC09_0011_s.jpg is a low contrast image\n"
     ]
    },
    {
     "name": "stdout",
     "output_type": "stream",
     "text": [
      "VA62_0000_s.jpg\n"
     ]
    },
    {
     "name": "stderr",
     "output_type": "stream",
     "text": [
      "/Users/yuchen/Library/Python/3.7/lib/python/site-packages/ipykernel_launcher.py:20: UserWarning: backup/seg_s//VA62_0000_s.jpg is a low contrast image\n",
      "/Users/yuchen/Library/Python/3.7/lib/python/site-packages/ipykernel_launcher.py:20: UserWarning: backup/seg_s//GMBC07_0022_t.jpg is a low contrast image\n"
     ]
    },
    {
     "name": "stdout",
     "output_type": "stream",
     "text": [
      "GMBC07_0022_t.jpg\n",
      "TLCM05_0001_t.jpg\n",
      "FMC04_0005_s.jpg\n",
      "VA11_0002_s.jpg\n"
     ]
    },
    {
     "name": "stderr",
     "output_type": "stream",
     "text": [
      "/Users/yuchen/Library/Python/3.7/lib/python/site-packages/ipykernel_launcher.py:20: UserWarning: backup/seg_s//FMC04_0005_s.jpg is a low contrast image\n"
     ]
    },
    {
     "name": "stdout",
     "output_type": "stream",
     "text": [
      "LACMA05_0_0005_t.jpg\n"
     ]
    },
    {
     "name": "stderr",
     "output_type": "stream",
     "text": [
      "/Users/yuchen/Library/Python/3.7/lib/python/site-packages/ipykernel_launcher.py:20: UserWarning: backup/seg_s//LACMA05_0_0005_t.jpg is a low contrast image\n",
      "/Users/yuchen/Library/Python/3.7/lib/python/site-packages/ipykernel_launcher.py:20: UserWarning: backup/seg_s//MET22_0002_s.jpg is a low contrast image\n"
     ]
    },
    {
     "name": "stdout",
     "output_type": "stream",
     "text": [
      "MET22_0002_s.jpg\n",
      "VA19_0_0002_t.jpg\n"
     ]
    },
    {
     "name": "stderr",
     "output_type": "stream",
     "text": [
      "/Users/yuchen/Library/Python/3.7/lib/python/site-packages/ipykernel_launcher.py:20: UserWarning: backup/seg_s//VA19_0_0002_t.jpg is a low contrast image\n"
     ]
    },
    {
     "name": "stdout",
     "output_type": "stream",
     "text": [
      "MET05_0_0003_s.jpg\n"
     ]
    },
    {
     "name": "stderr",
     "output_type": "stream",
     "text": [
      "/Users/yuchen/Library/Python/3.7/lib/python/site-packages/ipykernel_launcher.py:20: UserWarning: backup/seg_s//MET05_0_0003_s.jpg is a low contrast image\n"
     ]
    },
    {
     "name": "stdout",
     "output_type": "stream",
     "text": [
      "KOC51_0015_t.jpg\n"
     ]
    },
    {
     "name": "stderr",
     "output_type": "stream",
     "text": [
      "/Users/yuchen/Library/Python/3.7/lib/python/site-packages/ipykernel_launcher.py:20: UserWarning: backup/seg_s//KOC51_0015_t.jpg is a low contrast image\n"
     ]
    },
    {
     "name": "stdout",
     "output_type": "stream",
     "text": [
      "VA53_0015_t.jpg\n"
     ]
    },
    {
     "name": "stderr",
     "output_type": "stream",
     "text": [
      "/Users/yuchen/Library/Python/3.7/lib/python/site-packages/ipykernel_launcher.py:20: UserWarning: backup/seg_s//VA53_0015_t.jpg is a low contrast image\n",
      "/Users/yuchen/Library/Python/3.7/lib/python/site-packages/ipykernel_launcher.py:20: UserWarning: backup/seg_s//MK07_0005_s.jpg is a low contrast image\n"
     ]
    },
    {
     "name": "stdout",
     "output_type": "stream",
     "text": [
      "MK07_0005_s.jpg\n",
      "MET09_0004_t.jpg\n",
      "BM34_0003_s.jpg\n",
      "MET14_0034_t.jpg\n"
     ]
    },
    {
     "name": "stderr",
     "output_type": "stream",
     "text": [
      "/Users/yuchen/Library/Python/3.7/lib/python/site-packages/ipykernel_launcher.py:20: UserWarning: backup/seg_s//MET14_0034_t.jpg is a low contrast image\n",
      "/Users/yuchen/Library/Python/3.7/lib/python/site-packages/ipykernel_launcher.py:20: UserWarning: backup/seg_s//LOU10_2037_t.jpg is a low contrast image\n"
     ]
    },
    {
     "name": "stdout",
     "output_type": "stream",
     "text": [
      "LOU10_2037_t.jpg\n",
      "FMC18_0003_c.jpg\n",
      "VA55_0000_s.jpg\n"
     ]
    },
    {
     "name": "stderr",
     "output_type": "stream",
     "text": [
      "/Users/yuchen/Library/Python/3.7/lib/python/site-packages/ipykernel_launcher.py:20: UserWarning: backup/seg_s//VA55_0000_s.jpg is a low contrast image\n"
     ]
    },
    {
     "name": "stdout",
     "output_type": "stream",
     "text": [
      "LOU03_0004_t.jpg\n",
      "VA04_3_0001_s.jpg\n"
     ]
    },
    {
     "name": "stderr",
     "output_type": "stream",
     "text": [
      "/Users/yuchen/Library/Python/3.7/lib/python/site-packages/ipykernel_launcher.py:20: UserWarning: backup/seg_s//VA04_3_0001_s.jpg is a low contrast image\n"
     ]
    },
    {
     "name": "stdout",
     "output_type": "stream",
     "text": [
      "GULB05_0012_t.jpg\n"
     ]
    },
    {
     "name": "stderr",
     "output_type": "stream",
     "text": [
      "/Users/yuchen/Library/Python/3.7/lib/python/site-packages/ipykernel_launcher.py:20: UserWarning: backup/seg_s//GULB05_0012_t.jpg is a low contrast image\n",
      "/Users/yuchen/Library/Python/3.7/lib/python/site-packages/ipykernel_launcher.py:20: UserWarning: backup/seg_s//BM25_0003_s.jpg is a low contrast image\n"
     ]
    },
    {
     "name": "stdout",
     "output_type": "stream",
     "text": [
      "BM25_0003_s.jpg\n",
      "AM01_0000_c.jpg\n",
      "KOC35_0002_s.jpg\n"
     ]
    },
    {
     "name": "stderr",
     "output_type": "stream",
     "text": [
      "/Users/yuchen/Library/Python/3.7/lib/python/site-packages/ipykernel_launcher.py:20: UserWarning: backup/seg_s//AM01_0000_c.jpg is a low contrast image\n",
      "/Users/yuchen/Library/Python/3.7/lib/python/site-packages/ipykernel_launcher.py:20: UserWarning: backup/seg_s//KOC35_0002_s.jpg is a low contrast image\n",
      "/Users/yuchen/Library/Python/3.7/lib/python/site-packages/ipykernel_launcher.py:20: UserWarning: backup/seg_s//VA36_2_0006_s.jpg is a low contrast image\n"
     ]
    },
    {
     "name": "stdout",
     "output_type": "stream",
     "text": [
      "BM56_1_0006_s.jpg\n",
      "VA36_2_0006_s.jpg\n",
      "TLCM15_2_0000_t.jpg\n",
      "VA30_0021_s.jpg\n"
     ]
    },
    {
     "name": "stderr",
     "output_type": "stream",
     "text": [
      "/Users/yuchen/Library/Python/3.7/lib/python/site-packages/ipykernel_launcher.py:20: UserWarning: backup/seg_s//VA30_0021_s.jpg is a low contrast image\n",
      "/Users/yuchen/Library/Python/3.7/lib/python/site-packages/ipykernel_launcher.py:20: UserWarning: backup/seg_s//BM26_0029_s.jpg is a low contrast image\n"
     ]
    },
    {
     "name": "stdout",
     "output_type": "stream",
     "text": [
      "BM26_0029_s.jpg\n",
      "KOC46_0000_s.jpg\n",
      "KOC33_0017_t.jpg\n"
     ]
    },
    {
     "name": "stderr",
     "output_type": "stream",
     "text": [
      "/Users/yuchen/Library/Python/3.7/lib/python/site-packages/ipykernel_launcher.py:20: UserWarning: backup/seg_s//KOC33_0017_t.jpg is a low contrast image\n",
      "/Users/yuchen/Library/Python/3.7/lib/python/site-packages/ipykernel_launcher.py:20: UserWarning: backup/seg_s//FMC13_0010_t.jpg is a low contrast image\n"
     ]
    },
    {
     "name": "stdout",
     "output_type": "stream",
     "text": [
      "FMC13_0010_t.jpg\n",
      "TLCM18_2_0001_s.jpg\n"
     ]
    },
    {
     "name": "stderr",
     "output_type": "stream",
     "text": [
      "/Users/yuchen/Library/Python/3.7/lib/python/site-packages/ipykernel_launcher.py:20: UserWarning: backup/seg_s//TLCM18_2_0001_s.jpg is a low contrast image\n"
     ]
    },
    {
     "name": "stdout",
     "output_type": "stream",
     "text": [
      "KOC03_1_0000_c.jpg\n",
      "VA07_0021_s.jpg\n"
     ]
    },
    {
     "name": "stderr",
     "output_type": "stream",
     "text": [
      "/Users/yuchen/Library/Python/3.7/lib/python/site-packages/ipykernel_launcher.py:20: UserWarning: backup/seg_s//VA07_0021_s.jpg is a low contrast image\n"
     ]
    },
    {
     "name": "stdout",
     "output_type": "stream",
     "text": [
      "GULB07_2_0018_s.jpg\n"
     ]
    },
    {
     "name": "stderr",
     "output_type": "stream",
     "text": [
      "/Users/yuchen/Library/Python/3.7/lib/python/site-packages/ipykernel_launcher.py:20: UserWarning: backup/seg_s//GULB07_2_0018_s.jpg is a low contrast image\n"
     ]
    },
    {
     "name": "stdout",
     "output_type": "stream",
     "text": [
      "TLCM15_2_0000_c.jpg\n",
      "LACMA05_0005_t.jpg\n"
     ]
    },
    {
     "name": "stderr",
     "output_type": "stream",
     "text": [
      "/Users/yuchen/Library/Python/3.7/lib/python/site-packages/ipykernel_launcher.py:20: UserWarning: backup/seg_s//LACMA05_0005_t.jpg is a low contrast image\n"
     ]
    },
    {
     "name": "stdout",
     "output_type": "stream",
     "text": [
      "IPOT10_0_0000_s.jpg\n",
      "TLCM14_0001_t.jpg\n"
     ]
    },
    {
     "name": "stderr",
     "output_type": "stream",
     "text": [
      "/Users/yuchen/Library/Python/3.7/lib/python/site-packages/ipykernel_launcher.py:20: UserWarning: backup/seg_s//TLCM14_0001_t.jpg is a low contrast image\n"
     ]
    },
    {
     "name": "stdout",
     "output_type": "stream",
     "text": [
      "IPOT02_0_0006_t.jpg\n",
      "BM12_0003_s.jpg\n"
     ]
    },
    {
     "name": "stderr",
     "output_type": "stream",
     "text": [
      "/Users/yuchen/Library/Python/3.7/lib/python/site-packages/ipykernel_launcher.py:20: UserWarning: backup/seg_s//BM12_0003_s.jpg is a low contrast image\n"
     ]
    },
    {
     "name": "stdout",
     "output_type": "stream",
     "text": [
      "LACMA05_0040_t.jpg\n"
     ]
    },
    {
     "name": "stderr",
     "output_type": "stream",
     "text": [
      "/Users/yuchen/Library/Python/3.7/lib/python/site-packages/ipykernel_launcher.py:20: UserWarning: backup/seg_s//LACMA05_0040_t.jpg is a low contrast image\n"
     ]
    },
    {
     "name": "stdout",
     "output_type": "stream",
     "text": [
      "BM41_0009_s.jpg\n",
      "VA22_0016_t.jpg\n"
     ]
    },
    {
     "name": "stderr",
     "output_type": "stream",
     "text": [
      "/Users/yuchen/Library/Python/3.7/lib/python/site-packages/ipykernel_launcher.py:20: UserWarning: backup/seg_s//VA22_0016_t.jpg is a low contrast image\n"
     ]
    },
    {
     "name": "stdout",
     "output_type": "stream",
     "text": [
      "VA57_0001_s.jpg\n"
     ]
    }
   ],
   "source": [
    "# 1) Speciy folders:\n",
    "img_pth = \"backup/segs/\" # this is where the original images are located.\n",
    "b_img = \"backup/seg_s/\"\n",
    "\n",
    "# 2) Iterate through shells in folder:\n",
    "for shell in os.listdir(img_pth):\n",
    "    # 2.1. Load grey-scaled image\n",
    "    print(shell)\n",
    "    if shell != \".DS_Store\":   \n",
    "        image = io.imread(img_pth+shell,as_gray=False) # Here, we load a grey-scaled version of the image.\n",
    "        if image.shape[0] > 800:\n",
    "            image = np.round(\n",
    "                    rescale(image, 800 / (image.shape[0] * 1.0), preserve_range=True, multichannel=True)\n",
    "            ).astype('uint8')\n",
    "        elif image.shape[1] > 800:\n",
    "            image = np.round(\n",
    "                    rescale(image, 800 / (image.shape[1] * 1.0), preserve_range=True, multichannel=True)\n",
    "            ).astype('uint8')\n",
    "\n",
    "        io.imsave(b_img+\"/\"+shell, image)  # We temporarily save image so we can load it again as a grey-scaled image."
   ]
  },
  {
   "cell_type": "code",
   "execution_count": 6,
   "metadata": {},
   "outputs": [
    {
     "data": {
      "text/plain": [
       "'GULB17_0003_t.jpg'"
      ]
     },
     "execution_count": 6,
     "metadata": {},
     "output_type": "execute_result"
    }
   ],
   "source": [
    "os.listdir(img_pth)[447]"
   ]
  },
  {
   "cell_type": "code",
   "execution_count": null,
   "metadata": {},
   "outputs": [],
   "source": []
  }
 ],
 "metadata": {
  "kernelspec": {
   "display_name": "Python 3",
   "language": "python",
   "name": "python3"
  },
  "language_info": {
   "codemirror_mode": {
    "name": "ipython",
    "version": 3
   },
   "file_extension": ".py",
   "mimetype": "text/x-python",
   "name": "python",
   "nbconvert_exporter": "python",
   "pygments_lexer": "ipython3",
   "version": "3.7.3"
  }
 },
 "nbformat": 4,
 "nbformat_minor": 2
}
