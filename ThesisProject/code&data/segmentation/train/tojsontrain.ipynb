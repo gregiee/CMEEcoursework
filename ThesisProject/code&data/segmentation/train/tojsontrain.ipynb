{
 "cells": [
  {
   "cell_type": "code",
   "execution_count": 4,
   "metadata": {},
   "outputs": [],
   "source": [
    "import json\n",
    "import os\n",
    "from PIL import Image\n",
    "import re\n",
    "import pandas as pd\n",
    "from ast import literal_eval as make_tuple"
   ]
  },
  {
   "cell_type": "code",
   "execution_count": 5,
   "metadata": {},
   "outputs": [],
   "source": [
    "with open('datasamplet.json', 'r') as f:\n",
    "    data = json.load(f)"
   ]
  },
  {
   "cell_type": "code",
   "execution_count": 6,
   "metadata": {},
   "outputs": [],
   "source": [
    "ddir = \"ite2/train/images/\"\n",
    "arr = [f for f in os.listdir(ddir) if re.match(r'.*\\.(jpg|JPG)', f)]"
   ]
  },
  {
   "cell_type": "code",
   "execution_count": 7,
   "metadata": {},
   "outputs": [
    {
     "data": {
      "text/plain": [
       "515"
      ]
     },
     "execution_count": 7,
     "metadata": {},
     "output_type": "execute_result"
    }
   ],
   "source": [
    "for i in arr:\n",
    "    path = ddir + str(i)\n",
    "    im = Image.open(path)\n",
    "    width, height = im.size\n",
    "    name = i.replace(\".jpg\",\"\") \n",
    "    value = {'license': 0, 'file_name': i, 'width': width, 'height': height, 'id': name}\n",
    "    data['images'].append(value)\n",
    "len(data['images'])"
   ]
  },
  {
   "cell_type": "code",
   "execution_count": 8,
   "metadata": {},
   "outputs": [
    {
     "name": "stderr",
     "output_type": "stream",
     "text": [
      "/Users/yuchen/Library/Python/3.7/lib/python/site-packages/IPython/core/interactiveshell.py:3063: DtypeWarning: Columns (34,35,36,37,38,39,75,76,77,78,79,80,116,117,118,119,120,121) have mixed types.Specify dtype option on import or set low_memory=False.\n",
      "  interactivity=interactivity, compiler=compiler, result=result)\n"
     ]
    }
   ],
   "source": [
    "annodata = pd.read_csv('ite2/train_list.csv')\n",
    "annodatawobg = annodata[~annodata[\"seg_name\"].str.contains(\"_a\")]\n",
    "annodatawobg = annodatawobg[~annodatawobg[\"seg_name\"].str.contains(\"MET43_2_0001_s\")]\n",
    "annodatawobg = annodatawobg[~annodatawobg[\"seg_name\"].str.contains(\"VA01_1_0001_s\")]\n",
    "annodatawobg = annodatawobg[~annodatawobg[\"seg_name\"].str.contains(\"VA30_3_0007_s\")]\n",
    "annodatawobg = annodatawobg[~annodatawobg[\"seg_name\"].str.contains(\"VA07_1_0005_s\")]\n",
    "annodatawobg = annodatawobg[~annodatawobg[\"seg_name\"].str.contains(\"LACMA05_1_0008_t\")]\n",
    "annodatawobg = annodatawobg[~annodatawobg[\"seg_name\"].str.contains(\"KOC03_3_0002_c\")]\n",
    "annodatawobg = annodatawobg[~annodatawobg[\"seg_name\"].str.contains(\"IPOT04_1_0001_c\")]\n",
    "annodatawobg = annodatawobg[~annodatawobg[\"seg_name\"].str.contains(\"TLCM16_3_0002_t\")]\n",
    "annodatawobg = annodatawobg[~annodatawobg[\"seg_name\"].str.contains(\"TLCM15_1_0000_c\")]\n"
   ]
  },
  {
   "cell_type": "code",
   "execution_count": 9,
   "metadata": {},
   "outputs": [
    {
     "data": {
      "text/plain": [
       "3806"
      ]
     },
     "execution_count": 9,
     "metadata": {},
     "output_type": "execute_result"
    }
   ],
   "source": [
    "for index, row in annodatawobg.iterrows():\n",
    "    path = \"ite2/train/ct/\"+row[\"seg_name\"]+\".csv\"\n",
    "    segcord = pd.read_csv(path)\n",
    "    segcord4 = segcord[::20]\n",
    "    if row[\"seg_name\"][-1:] == \"c\":\n",
    "        t = 2\n",
    "    elif row[\"seg_name\"][-1:] == \"t\":\n",
    "        t = 3\n",
    "    elif row[\"seg_name\"][-1:] == \"s\":\n",
    "        t = 1\n",
    "    bboxlist=make_tuple(row[\"bbox(y1,x1,y2,x2)\"])\n",
    "    xmax=max(segcord[\"x\"])\n",
    "    xmin=min(segcord[\"x\"])\n",
    "    ymax=max(segcord[\"y\"])\n",
    "    ymin=min(segcord[\"y\"])\n",
    "    w=xmax-xmin\n",
    "    l=ymax-ymin\n",
    "    realbbox = list((xmin-w*.2,ymin-l*.2,w*1.4,l*1.4))\n",
    "#     realbbox2 = list((bboxlist[1]*.9,bboxlist[0]*.9,(bboxlist[3]-bboxlist[1])*1.2,(bboxlist[2]-bboxlist[0])*1.2))\n",
    "#     print(\"realbbox11111\")\n",
    "#     print(realbbox)\n",
    "#     print(\"realbbox22222\")\n",
    "#     print(realbbox2)\n",
    "    \n",
    "    seglist = []\n",
    "    for i in range(len(segcord)):\n",
    "        x = segcord[\"x\"][i]\n",
    "        y = segcord[\"y\"][i]\n",
    "        seglist.append(x)\n",
    "        seglist.append(y)\n",
    "    annovalue = {\n",
    "    'segmentation': [seglist],\n",
    "    'iscrowd': 0,\n",
    "    'image_id': row[\"name\"],\n",
    "    'category_id': t,\n",
    "    'id': index+1,\n",
    "    'bbox': realbbox,\n",
    "    'area': row[\"area\"]\n",
    "    }\n",
    "    data['annotations'].append(annovalue)\n",
    "len(data['annotations'])\n"
   ]
  },
  {
   "cell_type": "code",
   "execution_count": 10,
   "metadata": {},
   "outputs": [
    {
     "data": {
      "text/plain": [
       "[{'supercategory': 'motif', 'id': 1, 'name': 'saz'},\n",
       " {'supercategory': 'motif', 'id': 2, 'name': 'carnation'},\n",
       " {'supercategory': 'motif', 'id': 3, 'name': 'tulip'}]"
      ]
     },
     "execution_count": 10,
     "metadata": {},
     "output_type": "execute_result"
    }
   ],
   "source": [
    "data[\"categories\"]"
   ]
  },
  {
   "cell_type": "code",
   "execution_count": 11,
   "metadata": {},
   "outputs": [],
   "source": [
    "with open('ite2/train/train.json', 'w') as f:\n",
    "    json.dump(data, f)"
   ]
  },
  {
   "cell_type": "code",
   "execution_count": null,
   "metadata": {},
   "outputs": [],
   "source": []
  },
  {
   "cell_type": "code",
   "execution_count": null,
   "metadata": {},
   "outputs": [],
   "source": []
  }
 ],
 "metadata": {
  "kernelspec": {
   "display_name": "Python 3",
   "language": "python",
   "name": "python3"
  },
  "language_info": {
   "codemirror_mode": {
    "name": "ipython",
    "version": 3
   },
   "file_extension": ".py",
   "mimetype": "text/x-python",
   "name": "python",
   "nbconvert_exporter": "python",
   "pygments_lexer": "ipython3",
   "version": "3.7.3"
  }
 },
 "nbformat": 4,
 "nbformat_minor": 4
}
